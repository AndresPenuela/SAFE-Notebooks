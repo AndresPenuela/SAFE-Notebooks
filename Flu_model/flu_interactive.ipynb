{
 "cells": [
  {
   "cell_type": "markdown",
   "metadata": {},
   "source": [
    "# The flu model\n",
    "\n",
    "<left><img src=\"util/flu_image.png\" width=\"400px\">\n",
    "    \n",
    "The flu model is a simple mathematical description of the spread of a flu in a small town. The model divides the population of N individuals into four \"compartments\" which may vary as a function of time, t:\n",
    "\n",
    "- **Vulnerable**: people vulnerable but not yet infected with the flu;\n",
    "\n",
    "- **Sick**: individuals who are infected with the flu;\n",
    "\n",
    "- **Immune**: individuals have immunity to the flu. This includes individuals who either have recovered from the flu or have been vaccinated.\n",
    "\n",
    "### Model parameters\n",
    "\n",
    "The model describes the change in the population of each of these compartments in terms of five parameters: \n",
    "\n",
    "- *Initial number of vaccinated individuals*: people who are immune at the start of the infection because they have been previously vaccinated\n",
    "- *Contact rate per day*: number of times that an infected individual comes into contact with vulnerable individuals in a day\n",
    "- *Contagion ratio*: proportion of contacts that get infected\n",
    "- *Recovery time*: the number of days during which a sick individual can pass it on\n",
    "- *Vaccination rate*: number of inviduals who are vaccinated per day# Workflow to perform Global Sensitivity Analysis with the PAWN method \n",
    "\n",
    "#### Import libraries"
   ]
  },
  {
   "cell_type": "code",
   "execution_count": 1,
   "metadata": {},
   "outputs": [],
   "source": [
    "import numpy as np\n",
    "import plotly.graph_objs as go\n",
    "from ipywidgets import widgets\n",
    "\n",
    "import util.flu_model as flu_model"
   ]
  },
  {
   "cell_type": "markdown",
   "metadata": {},
   "source": [
    "#### Simulation time range"
   ]
  },
  {
   "cell_type": "code",
   "execution_count": 2,
   "metadata": {},
   "outputs": [],
   "source": [
    "T = 100 # days\n",
    "time_range = np.arange(1,T+1)\n",
    "pop = 100"
   ]
  },
  {
   "cell_type": "markdown",
   "metadata": {},
   "source": [
    "## Interactive figure\n",
    "### Function to update the simulation when changing the parameters with the sliders"
   ]
  },
  {
   "cell_type": "code",
   "execution_count": 3,
   "metadata": {},
   "outputs": [],
   "source": [
    "def update_sim(RI_0, contact, contagion, recovery, vaccination):\n",
    "    param = np.array([RI_0.value/1000, contact.value, contagion.value, recovery.value, vaccination.value/1000])\n",
    "    S, RI, V,S_max,cost = flu_model.model(param,time_range, pop)\n",
    "    return S, RI, V, S_max, cost"
   ]
  },
  {
   "cell_type": "markdown",
   "metadata": {},
   "source": [
    "### Function to update the figure when changing the parameters with the sliders"
   ]
  },
  {
   "cell_type": "code",
   "execution_count": 4,
   "metadata": {},
   "outputs": [],
   "source": [
    "def update_figure(change):\n",
    "    with fig_flu.batch_animate(duration=0):\n",
    "        fig_flu.data[0].y = update_sim(RI_0, contact, contagion, recovery, vaccination)[0]*1000\n",
    "        fig_flu.data[1].y = update_sim(RI_0, contact, contagion, recovery, vaccination)[1]*1000\n",
    "        fig_flu.data[2].y = update_sim(RI_0, contact, contagion, recovery, vaccination)[2]*1000\n",
    "        fig_flu.layout.title = 'Peak = '+f\"{update_sim(RI_0, contact, contagion, recovery, vaccination)[3]*1000:,.0f}\"+\\\n",
    "        ' sick individuals - Cost = '+f\"{update_sim(RI_0, contact, contagion, recovery, vaccination)[4]*1000:,.0f}\"+' £'"
   ]
  },
  {
   "cell_type": "markdown",
   "metadata": {},
   "source": [
    "### Definition of the sliders\n",
    "#### Ratio of population who is initially immune"
   ]
  },
  {
   "cell_type": "code",
   "execution_count": 5,
   "metadata": {},
   "outputs": [],
   "source": [
    "# Initial number of immune individuals\n",
    "RI_0 = widgets.IntSlider(min = 0,\n",
    "                        max = 50000,\n",
    "                        value = 0, step = 1,\n",
    "                        description = 'Initial number of vaccinated individuals: ',\n",
    "                        continuous_update=True,\n",
    "                        style = {'description_width': '300px'} ,\n",
    "                        layout={'width': '700px'})\n",
    "RI_0.observe(update_figure,names = 'value')"
   ]
  },
  {
   "cell_type": "markdown",
   "metadata": {},
   "source": [
    "#### Contact rate per day"
   ]
  },
  {
   "cell_type": "code",
   "execution_count": 6,
   "metadata": {},
   "outputs": [],
   "source": [
    "contact = widgets.FloatSlider(min = 0.3,\n",
    "                           max = 2,\n",
    "                           value = 2, step = 0.01,\n",
    "                           description = 'Contact rate per day: ',\n",
    "                           continuous_update=True,\n",
    "                           style = {'description_width': '300px'} ,\n",
    "                           layout={'width': '700px'})\n",
    "contact.observe(update_figure,names = 'value')"
   ]
  },
  {
   "cell_type": "markdown",
   "metadata": {},
   "source": [
    "#### Contagion ratio"
   ]
  },
  {
   "cell_type": "code",
   "execution_count": 7,
   "metadata": {},
   "outputs": [],
   "source": [
    "contagion = widgets.FloatSlider(min = 0.3,\n",
    "                           max = 1,\n",
    "                           value = 1, step = 0.01,\n",
    "                           description = 'Contagion ratio: ',\n",
    "                           continuous_update=True,\n",
    "                           style = {'description_width': '300px'} ,\n",
    "                           layout={'width': '700px'})\n",
    "contagion.observe(update_figure,names = 'value')"
   ]
  },
  {
   "cell_type": "markdown",
   "metadata": {},
   "source": [
    "#### Recovery time in days"
   ]
  },
  {
   "cell_type": "code",
   "execution_count": 8,
   "metadata": {},
   "outputs": [],
   "source": [
    "recovery = widgets.IntSlider(min = 7,\n",
    "                           max = 21,\n",
    "                           value = 21, step = 1,\n",
    "                           description = 'Recovery time (days): ',\n",
    "                           continuous_update=True,\n",
    "                           style = {'description_width': '300px'} ,\n",
    "                           layout={'width': '700px'})\n",
    "recovery.observe(update_figure,names = 'value')"
   ]
  },
  {
   "cell_type": "markdown",
   "metadata": {},
   "source": [
    "#### Vaccination rate per day"
   ]
  },
  {
   "cell_type": "code",
   "execution_count": 9,
   "metadata": {},
   "outputs": [],
   "source": [
    "vaccination = widgets.IntSlider(min = 0,\n",
    "                           max = 10000,\n",
    "                           value = 0, step = 1,\n",
    "                           description = 'Vaccination rate per day: ',\n",
    "                           continuous_update=True,\n",
    "                           style = {'description_width': '300px'} ,\n",
    "                           layout={'width': '700px'})\n",
    "vaccination.observe(update_figure,names = 'value')"
   ]
  },
  {
   "cell_type": "markdown",
   "metadata": {},
   "source": [
    "### Plot the interactive figure\n",
    "#### Initial simulation"
   ]
  },
  {
   "cell_type": "code",
   "execution_count": 10,
   "metadata": {},
   "outputs": [],
   "source": [
    "param = np.array([RI_0.value, contact.value, contagion.value, recovery.value, vaccination.value])\n",
    "S, RI, V, S_max, cost = flu_model.model(param,time_range, pop)"
   ]
  },
  {
   "cell_type": "markdown",
   "metadata": {},
   "source": [
    "#### Plot the data on four separate curves for V(t), S(t), RI(t) and D(t)"
   ]
  },
  {
   "cell_type": "code",
   "execution_count": 11,
   "metadata": {},
   "outputs": [],
   "source": [
    "NHS_capacity = 40*1000\n",
    "S_trace  = go.Scatter(x=time_range, y=S*1000,  name='Sick',  mode='lines',line=dict(width=0, color = 'red'),stackgroup='one')\n",
    "RI_trace = go.Scatter(x=time_range, y=RI*1000, name='Immune', mode='lines',line=dict(width=0, color = 'green'),stackgroup='one')\n",
    "V_trace  = go.Scatter(x=time_range, y=V*1000,  name='Vulnerable', mode='lines',line=dict(width=0, color = 'blue'),stackgroup='one')\n",
    "NHS_trace = go.Scatter(x=[0,T+1],y=[NHS_capacity,NHS_capacity], mode = 'lines',name='NHS capacity',line=dict(color=\"darkblue\",width=1, dash='dash'))\n",
    "fig_flu  = go.FigureWidget(data   = [S_trace,RI_trace,V_trace,NHS_trace],\n",
    "                          layout = go.Layout(xaxis = dict(range = [1,100],title = 'days',rangeslider=dict(visible=False,range=[1,T])),\n",
    "                                             yaxis = dict(range = [0,pop*1000],title = 'population'),\n",
    "                                             height = 400, title = 'Peak = '+f\"{S_max*1000:,.0f}\"+' sick individuals - Cost = '+f\"{cost*1000:,.0f}\"+' £'))"
   ]
  },
  {
   "cell_type": "markdown",
   "metadata": {},
   "source": [
    "#### Plot"
   ]
  },
  {
   "cell_type": "code",
   "execution_count": 12,
   "metadata": {},
   "outputs": [
    {
     "data": {
      "application/vnd.jupyter.widget-view+json": {
       "model_id": "b9c08069383c40f590584bb2fe5e9a69",
       "version_major": 2,
       "version_minor": 0
      },
      "text/plain": [
       "VBox(children=(VBox(children=(IntSlider(value=0, description='Initial number of vaccinated individuals: ', lay…"
      ]
     },
     "metadata": {},
     "output_type": "display_data"
    }
   ],
   "source": [
    "widgets.VBox([widgets.VBox([RI_0, contact, contagion, recovery, vaccination]),\n",
    "              fig_flu])"
   ]
  },
  {
   "cell_type": "code",
   "execution_count": null,
   "metadata": {},
   "outputs": [],
   "source": []
  }
 ],
 "metadata": {
  "kernelspec": {
   "display_name": "Python 3",
   "language": "python",
   "name": "python3"
  },
  "language_info": {
   "codemirror_mode": {
    "name": "ipython",
    "version": 3
   },
   "file_extension": ".py",
   "mimetype": "text/x-python",
   "name": "python",
   "nbconvert_exporter": "python",
   "pygments_lexer": "ipython3",
   "version": "3.7.4"
  }
 },
 "nbformat": 4,
 "nbformat_minor": 4
}
