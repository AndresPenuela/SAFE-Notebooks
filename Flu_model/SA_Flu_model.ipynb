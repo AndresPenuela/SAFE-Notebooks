{
 "cells": [
  {
   "cell_type": "markdown",
   "metadata": {},
   "source": [
    "# Workflow to perform Global Sensitivity Analysis with the PAWN method "
   ]
  },
  {
   "cell_type": "markdown",
   "metadata": {},
   "source": [
    "This document provides:\n",
    "* a brief introduction to Global Sensitivity Analysis (GSA);\n",
    "* a workflow to apply GSA using the SAFE (Sensitivity Analysis For Everybody) toolbox (*Refs. 1-2*).\n",
    "\n",
    "In this example we apply the PAWN GSA method (*Ref. 3*) to the Ishigami-Homma test function."
   ]
  },
  {
   "cell_type": "markdown",
   "metadata": {},
   "source": [
    "## What is Global Sensitivity Analysis? and why shall we use it?\n",
    "\n",
    "**Global Sensitivity Analysis** is a set of mathematical techniques which investigate how uncertainty in the output of a numerical model can be attributed to variations of its input factors.\n",
    "\n",
    "The benefits of applying GSA are:\n",
    "\n",
    "1. **Better understanding of the model**: Evaluate the model behaviour beyond default set-up\n",
    "    \n",
    "2. **“Sanity check” of the model**: Test whether the model \"behaves well\" (model validation)\n",
    "    \n",
    "3. **Priorities for uncertainty reduction**: Identify the important inputs on which to focus computationally-intensive calibration, acquisition of new data, etc. \n",
    "    \n",
    "4. **More transparent and robust decisions**: Understand the main impacts of input uncertainty on the modelling outcome and thus model-informed decisions\n",
    "\n"
   ]
  },
  {
   "cell_type": "markdown",
   "metadata": {},
   "source": [
    "## How Global Sensitivity Analysis works\n",
    "\n",
    "GSA investigates how the uncertainty of the selected model input factors influences the variability of the model output.\n",
    "\n",
    "An '**input factor**' is any element that can be changed before running the model. In general, input factors could be the equations implemented in the model, set-up choices needed for the model execution on a computer, the model's parameters and forcing input data. \n",
    "\n",
    "An '**output**' is any variable that is obtained after the model execution.\n",
    "\n",
    "<br>\n",
    "\n",
    "The key steps of GSA are summarised in the figure below.\n",
    "\n",
    "Before executing the model, we will sample the inputs from their ranges of variability and then repeatedly run the model so that for each simulation all the inputs vary simultaneously (Input Sampling step). For every output of interest a probability distribution is obtained, after which GSA is performed, to obtain a set of sensitivity indices for each output. The sensitivity indices measure the relative influence of each input factor on the output (*Refs. 4-5*).\n",
    "<img src=\"how_GSA_works.png\" width=\"800px\">"
   ]
  },
  {
   "cell_type": "markdown",
   "metadata": {},
   "source": [
    "## What can we learn from GSA?\n",
    "\n",
    "In general, GSA can have three specific purposes:\n",
    "\n",
    "1. Ranking (or Factor Prioritization) to rank the input factors based on their relative contribution to the output variability. This allows to prioritise resources to reduce uncertainty, so you know on which input factor(s) to focus. \n",
    "\n",
    "2. Screening (or Factor Fixing) to identify the input factors, if any, which have a negligible influence on the output variability. The input factors which are found to have negligible influence can be fixed to their default values.\n",
    "\n",
    "3. Mapping to determine the regions of the inputs' variability space which produce output values of interest (e.g. extreme values). For example this can be useful when you want to know which values of your inputs produce an output below or above a threshold of interest."
   ]
  },
  {
   "cell_type": "markdown",
   "metadata": {},
   "source": [
    "### Step 1: Import python modules"
   ]
  },
  {
   "cell_type": "code",
   "execution_count": 1,
   "metadata": {},
   "outputs": [],
   "source": [
    "from __future__ import division, absolute_import, print_function\n",
    "\n",
    "import numpy as np\n",
    "import pandas as pd\n",
    "import matplotlib as mpl\n",
    "import matplotlib.pyplot as plt\n",
    "import scipy.stats as st\n",
    "import plotly.express as px\n",
    "from plotly.subplots import make_subplots\n",
    "import plotly.graph_objects as go\n",
    "from ipywidgets import widgets\n",
    "import warnings\n",
    "warnings.filterwarnings('ignore')\n",
    "\n",
    "from util import PAWN\n",
    "import util.plot_functions as pf # module to visualize the results\n",
    "from util.model_execution import model_execution # module to execute the model\n",
    "from util.sampling import AAT_sampling, AAT_sampling_extend # module to perform the input sampling\n",
    "from util.util import aggregate_boot  # function to aggregate the bootstrap results\n",
    "from util.util import aggregate_boot\n",
    "\n",
    "import util.flu_model as flu_model"
   ]
  },
  {
   "cell_type": "markdown",
   "metadata": {},
   "source": [
    "### Step 2: Setup the model"
   ]
  },
  {
   "cell_type": "markdown",
   "metadata": {},
   "source": [
    "Define: \n",
    "- the input factors whose influence is to be analysed with GSA, \n",
    "- their range of variability (choice made by expert judgement, available data or previous studies),\n",
    "- choice of their distributions."
   ]
  },
  {
   "cell_type": "code",
   "execution_count": 2,
   "metadata": {},
   "outputs": [],
   "source": [
    "param_names  = [\"Initial number of vaccinated individuals\",\n",
    "                \"Contact rate per day\", \n",
    "                \"Contagion ratio\", \n",
    "                \"Recovery time\", \n",
    "                \"Vaccination rate per day\"]\n",
    "M = len(param_names) # number of parameters\n",
    "\n",
    "# Parameter distributions:\n",
    "distr_fun = st.uniform # uniform distribution\n",
    "samp_strat = 'lhs' # Latin Hypercube\n",
    "# The shape parameters of the uniform distribution are the lower limit and the difference between lower and upper limits:\n",
    "distr_par  = [np.nan] * M\n",
    "\n",
    "# Define output:\n",
    "fun_test = flu_model.function"
   ]
  },
  {
   "cell_type": "markdown",
   "metadata": {},
   "source": [
    "Range of variability"
   ]
  },
  {
   "cell_type": "code",
   "execution_count": 3,
   "metadata": {},
   "outputs": [],
   "source": [
    "data = [[\"-\",     0,   50   ],\n",
    "        [\"-\",     0.3,   2 ],\n",
    "        [\"-\",     0.3,   1   ],\n",
    "        [\"days\",  7,   21  ],\n",
    "        [\"-\",     0,   10 ]]\n",
    "model_inputs = pd.DataFrame(data, \n",
    "                           columns=[\"Unit\", \"Min value\", \"Max value\"],\n",
    "                           index = param_names)"
   ]
  },
  {
   "cell_type": "code",
   "execution_count": 4,
   "metadata": {},
   "outputs": [],
   "source": [
    "outputs  = [\"outbreak peak\",\n",
    "            \"cost of actions\"]\n",
    "\n",
    "model_outputs = pd.DataFrame(outputs, columns = ['model outputs'])"
   ]
  },
  {
   "cell_type": "code",
   "execution_count": 5,
   "metadata": {},
   "outputs": [],
   "source": [
    "class setup_model:\n",
    "    def __init__(self, x1, x2, x3, x4, x5):\n",
    "        # The shape parameters of the uniform distribution are the lower limit and \n",
    "        # the difference between lower and upper limits:\n",
    "        self.xmin = [x1.value[0], x2.value[0], x3.value[0], x4.value[0], x5.value[0]]\n",
    "        self.xmax = [x1.value[1], x2.value[1], x3.value[1], x4.value[1], x5.value[1]]\n",
    "        for i in range(M):\n",
    "            distr_par[i] = [self.xmin[i], self.xmax[i] - self.xmin[i]]\n",
    "        self.distr_par = distr_par"
   ]
  },
  {
   "cell_type": "markdown",
   "metadata": {},
   "source": [
    "### Step 3: Sample inputs space"
   ]
  },
  {
   "cell_type": "markdown",
   "metadata": {},
   "source": [
    "The number of model runs ($N$) typically increases proportionally to the number of input factors ($M$) and will depend on the GSA methods chosen as well. "
   ]
  },
  {
   "cell_type": "code",
   "execution_count": 6,
   "metadata": {},
   "outputs": [],
   "source": [
    "N = 5000 # number of samples\n",
    "class sample_input:\n",
    "    def __init__(self,distr_par):\n",
    "        self.X = AAT_sampling(samp_strat, M, distr_fun, distr_par, N)"
   ]
  },
  {
   "cell_type": "markdown",
   "metadata": {},
   "source": [
    "### Step 4: Run the model"
   ]
  },
  {
   "cell_type": "markdown",
   "metadata": {},
   "source": [
    "For each sampled input factors combination, we run the model and save the associated model output."
   ]
  },
  {
   "cell_type": "code",
   "execution_count": 7,
   "metadata": {},
   "outputs": [],
   "source": [
    "pop = 100 # population\n",
    "T = 100 # days\n",
    "time_range = np.arange(1,T+1)\n",
    "class run_model:\n",
    "    def __init__(self,X):\n",
    "        self.Y = model_execution(fun_test, X, time_range, pop, output.value)"
   ]
  },
  {
   "cell_type": "markdown",
   "metadata": {},
   "source": [
    "### Step 5: Apply the PAWN Global Sensitivity Analysis method\n",
    "Let’s now apply Global Sensitivity Analysis: for example the **PAWN** method. \n",
    "\n",
    "Its main idea is that the influence of an input factor is proportional to the amount of change in the output distribution produced by fixing that input.\n",
    "<br> The sensitivity of $y$ to $x_{i}$ is measured by the difference between the unconditional CDF of $y$: $F_y( y )$, which is induced by varying all input factors simultaneously, and the conditional CDF that is obtained by varying all inputs but $x_{i}$: $F_{y|x_i}( y | x_i )$."
   ]
  },
  {
   "cell_type": "markdown",
   "metadata": {},
   "source": [
    "### Step 6: Check model behaviour by visualising input/output samples\n",
    "Scatterplots are plotted to visualise the behaviour of the output over each input factor in turn.\n",
    "\n",
    "Definition of interactivity"
   ]
  },
  {
   "cell_type": "code",
   "execution_count": 8,
   "metadata": {},
   "outputs": [],
   "source": [
    "def update_figures(change):\n",
    "    with fig1.batch_update():\n",
    "        distr_par = setup_model(x1, x2, x3, x4, x5).distr_par\n",
    "        X = sample_input(distr_par).X\n",
    "        Y = run_model(X).Y\n",
    "        KS_median, _, _, KS_dummy = PAWN.pawn_indices(X, Y, n, dummy = True)\n",
    "        KS_median, _, _ = PAWN.pawn_indices(X, Y, n, Nboot=1000)\n",
    "        KS_median_m, KS_median_lb, KS_median_ub = aggregate_boot(KS_median)\n",
    "        \n",
    "        k = 0\n",
    "        for i in range(0,M):\n",
    "            fig1.data[k].y = np.ones(2)*KS_median_m[i]\n",
    "            fig1.data[k+1].y = np.ones(2)*KS_median_lb[i]\n",
    "            fig1.data[k+2].y = np.ones(2)*KS_median_ub[i]\n",
    "            k = k + 3\n",
    "            \n",
    "#         fig1.data[k].y = [KS_dummy[0],KS_dummy[0]]\n",
    "        fig1.layout.title = 'model output: <b>'+outputs[output.value]"
   ]
  },
  {
   "cell_type": "markdown",
   "metadata": {},
   "source": [
    "Definition of the sliders"
   ]
  },
  {
   "cell_type": "code",
   "execution_count": 9,
   "metadata": {},
   "outputs": [],
   "source": [
    "output = widgets.IntSlider(value = 0, min = 0, max = 1,\n",
    "                              step = 1, description = 'output',\n",
    "                              style = {'description_width': '300px'} ,layout={'width': '700px'},\n",
    "                              continuous_update=False)\n",
    "output.observe(update_figures,names = 'value')\n",
    "\n",
    "x1 = widgets.IntRangeSlider(value = [model_inputs['Min value'][0], model_inputs['Max value'][0]], \n",
    "                              min = model_inputs['Min value'][0], max = model_inputs['Max value'][0],\n",
    "                              step = 1, description = model_inputs.index[0], \n",
    "                              style = {'description_width': '300px'} ,layout={'width': '700px'},\n",
    "                              readout_format = '.1f', continuous_update=False)\n",
    "x1.observe(update_figures,names = 'value')\n",
    "\n",
    "x2 = widgets.FloatRangeSlider(value = [model_inputs['Min value'][1], model_inputs['Max value'][1]], \n",
    "                            min = model_inputs['Min value'][1], max = model_inputs['Max value'][1], \n",
    "                              step = 0.1, description = model_inputs.index[1],\n",
    "                              style = {'description_width': '300px'} ,layout={'width': '700px'},\n",
    "                              continuous_update=False)\n",
    "x2.observe(update_figures,names = 'value')\n",
    "\n",
    "x3 = widgets.FloatRangeSlider(value = [model_inputs['Min value'][2], model_inputs['Max value'][2]],\n",
    "                              min = model_inputs['Min value'][2], max = model_inputs['Max value'][2], \n",
    "                              step = 0.1, description = model_inputs.index[2],\n",
    "                              style = {'description_width': '300px'} ,layout={'width': '700px'},\n",
    "                              readout_format = '.1f', continuous_update=False)\n",
    "x3.observe(update_figures,names = 'value')\n",
    "\n",
    "x4 = widgets.IntRangeSlider(value = [model_inputs['Min value'][3], model_inputs['Max value'][3]], \n",
    "                            min = model_inputs['Min value'][3], max = model_inputs['Max value'][3], \n",
    "                              step = 1, description = model_inputs.index[3], \n",
    "                              style = {'description_width': '300px'} ,layout={'width': '700px'},\n",
    "                              continuous_update=False)\n",
    "x4.observe(update_figures,names = 'value')\n",
    "\n",
    "x5 = widgets.IntRangeSlider(value = [model_inputs['Min value'][4], model_inputs['Max value'][4]], \n",
    "                              min = model_inputs['Min value'][4], max = model_inputs['Max value'][4], \n",
    "                              step = 1, description = model_inputs.index[4], \n",
    "                              style = {'description_width': '300px'} ,layout={'width': '700px'},\n",
    "                              readout_format = '.1f', continuous_update=False)\n",
    "x5.observe(update_figures,names = 'value')"
   ]
  },
  {
   "cell_type": "markdown",
   "metadata": {},
   "source": [
    "### Step 8: Plot sensitivity indices and identify non-influential parameters"
   ]
  },
  {
   "cell_type": "markdown",
   "metadata": {},
   "source": [
    "The dummy parameter is a numerical artifice, with no influence on the model output, which is used to estimate the threshold for non-influential inputs. \n",
    "\n",
    "Uninfluential input factors should have zero-valued sensitivity indices, but since sensitivity indices are computed by numerical approximations rather than analytical solutions, an uninfluential factor may still be associated with a non-zero (although small) index value. \n",
    "\n",
    "Therefore if the index of an input factor is below the value of the sensitivity index of the dummy parameter, then the input factor is deemed uninfluential *(Ref. 6)*."
   ]
  },
  {
   "cell_type": "code",
   "execution_count": 10,
   "metadata": {},
   "outputs": [],
   "source": [
    "n=10\n",
    "distr_par = setup_model(x1, x2, x3, x4, x5).distr_par\n",
    "X = sample_input(distr_par).X\n",
    "Y = run_model(X).Y\n",
    "KS_median, _, _, KS_dummy = PAWN.pawn_indices(X, Y, n, dummy = True)\n",
    "KS_median, _, _ = PAWN.pawn_indices(X, Y, n, Nboot=1000)\n",
    "KS_median_m, KS_median_lb, KS_median_ub = aggregate_boot(KS_median)"
   ]
  },
  {
   "cell_type": "code",
   "execution_count": 11,
   "metadata": {},
   "outputs": [],
   "source": [
    "fig1 = go.FigureWidget(layout = dict(width=500, height=400,showlegend = False,margin=dict(t=30,r=0,l=75)))\n",
    "# Soil storage capacity\n",
    "fig1.add_trace(go.Scatter(x=[-0.25,0.25], y=np.ones(2)*KS_median_m[0], mode = 'lines', line = dict(color ='rgba(120, 170, 150, 1)')))\n",
    "fig1.add_trace(go.Scatter(x=[-0.25,0.25], y=np.ones(2)*KS_median_lb[0], mode = 'lines', line = dict(color ='rgba(120, 170, 150, 0)')))\n",
    "fig1.add_trace(go.Scatter(x=[-0.25,0.25], y=np.ones(2)*KS_median_ub[0], mode = 'none', fill='tonexty',fillcolor = 'rgba(120, 170, 150, 0.25)'))\n",
    "# Evaporation rate\n",
    "fig1.add_trace(go.Scatter(x=[0.75,1.25], y=np.ones(2)*KS_median_m[1], mode = 'lines', line = dict(color ='rgba(250, 0, 0, 1)')))\n",
    "fig1.add_trace(go.Scatter(x=[0.75,1.25], y=np.ones(2)*KS_median_lb[1], mode = 'lines', line = dict(color ='rgba(250, 0, 0, 0)')))\n",
    "fig1.add_trace(go.Scatter(x=[0.75,1.25], y=np.ones(2)*KS_median_ub[1], mode = 'none', fill='tonexty',fillcolor = 'rgba(250, 0, 0, 0.25)'))\n",
    "# Infiltration rate\n",
    "fig1.add_trace(go.Scatter(x=[1.75,2.25], y=np.ones(2)*KS_median_m[2], mode = 'lines', line = dict(color ='rgba(105,105,105, 1)')))\n",
    "fig1.add_trace(go.Scatter(x=[1.75,2.25], y=np.ones(2)*KS_median_lb[2], mode = 'lines', line = dict(color ='rgba(105,105,105, 0)')))\n",
    "fig1.add_trace(go.Scatter(x=[1.75,2.25], y=np.ones(2)*KS_median_ub[2], mode = 'none', fill='tonexty',fillcolor = 'rgba(105,105,105, 0.25)'))\n",
    "# Travel time - surface flow (days)\n",
    "fig1.add_trace(go.Scatter(x=[2.75,3.25], y=np.ones(2)*KS_median_m[3], mode = 'lines', line = dict(color ='rgba(44,172,206, 1)')))\n",
    "fig1.add_trace(go.Scatter(x=[2.75,3.25], y=np.ones(2)*KS_median_lb[3], mode = 'lines', line = dict(color ='rgba(44,172,206, 0)')))\n",
    "fig1.add_trace(go.Scatter(x=[2.75,3.25], y=np.ones(2)*KS_median_ub[3], mode = 'none', fill='tonexty',fillcolor = 'rgba(44,172,206, 0.25)'))\n",
    "# Travel time - underground flow (days)\n",
    "fig1.add_trace(go.Scatter(x=[3.75,4.25], y=np.ones(2)*KS_median_m[4], mode = 'lines', line = dict(color ='rgba(33,76,127, 1)')))\n",
    "fig1.add_trace(go.Scatter(x=[3.75,4.25], y=np.ones(2)*KS_median_lb[4], mode = 'lines', line = dict(color ='rgba(33,76,127, 0)')))\n",
    "fig1.add_trace(go.Scatter(x=[3.75,4.25], y=np.ones(2)*KS_median_ub[4], mode = 'none', fill='tonexty',fillcolor = 'rgba(33,76,127, 0.25)'))\n",
    "# Threshold\n",
    "# fig1.add_trace(go.Scatter(x=[-1,M],y=[KS_dummy[0],KS_dummy[0]],line=dict(color=\"black\",width=2, dash='dash')))\n",
    "\n",
    "tick_text  = param_names\n",
    "\n",
    "fig1.layout.xaxis.range=[-0.5,4.5]\n",
    "fig1.update_layout(xaxis = dict(tickmode = 'array',tickvals = [0, 1, 2, 3, 4],ticktext = tick_text))\n",
    "fig1.layout.yaxis.range=[0,0.5]\n",
    "fig1.layout.yaxis.title='Sensitivity index'\n",
    "fig1.layout.title = 'model output: <b>'+outputs[output.value]"
   ]
  },
  {
   "cell_type": "code",
   "execution_count": 12,
   "metadata": {},
   "outputs": [
    {
     "data": {
      "application/vnd.jupyter.widget-view+json": {
       "model_id": "a1da8bb2c05549fea1ac68df3befd438",
       "version_major": 2,
       "version_minor": 0
      },
      "text/plain": [
       "VBox(children=(VBox(children=(VBox(children=(IntSlider(value=0, continuous_update=False, description='output',…"
      ]
     },
     "metadata": {},
     "output_type": "display_data"
    }
   ],
   "source": [
    "widgets.VBox([widgets.VBox([widgets.VBox([output,x1,x2,x3,x4,x5]),fig1])])"
   ]
  },
  {
   "cell_type": "markdown",
   "metadata": {},
   "source": [
    "### Step 11: Investigate interactions between input factors"
   ]
  },
  {
   "cell_type": "markdown",
   "metadata": {},
   "source": [
    "In order to investigate the interactions between input factors we plot one input against the other, coloured by the value taken by the output."
   ]
  },
  {
   "cell_type": "code",
   "execution_count": 13,
   "metadata": {},
   "outputs": [],
   "source": [
    "# distr_par = setup_model(x1, x2, x3, x4, x5).distr_par\n",
    "# X = sample_input(distr_par).X\n",
    "# Y = run_model(X).Y\n",
    "# Y = Y.flatten()"
   ]
  },
  {
   "cell_type": "code",
   "execution_count": 14,
   "metadata": {},
   "outputs": [],
   "source": [
    "# plt.rcParams['figure.figsize'] = [10, 10]\n",
    "# pf.scatter_plots_interaction(X, Y, ms=5)\n",
    "# plt.subplots_adjust(left=None, bottom=None, right=None, top=None, hspace=0.5, wspace=0.5)\n",
    "# plt.show()"
   ]
  },
  {
   "cell_type": "code",
   "execution_count": 15,
   "metadata": {},
   "outputs": [],
   "source": [
    "# Y1 = Y\n",
    "# Y,X[:, 0] = zip(*sorted(zip(Y1,X[:, 0])))\n",
    "# Y,X[:, 1] = zip(*sorted(zip(Y1,X[:, 1])))\n",
    "# Y,X[:, 2] = zip(*sorted(zip(Y1,X[:, 2])))\n",
    "# Y,X[:, 3] = zip(*sorted(zip(Y1,X[:, 3])))\n",
    "# Y,X[:, 4] = zip(*sorted(zip(Y1,X[:, 4])))\n",
    "# Y = np.flipud(Y)\n",
    "# X = np.flipud(X)"
   ]
  },
  {
   "cell_type": "code",
   "execution_count": 16,
   "metadata": {},
   "outputs": [],
   "source": [
    "# colorscale = 'jet'\n",
    "# ms=10\n",
    "# font_size = 12\n",
    "\n",
    "# Labels = param_names\n",
    "\n",
    "# fig2 = plt.figure(figsize=(2, 9))    \n",
    "\n",
    "# plt.subplot(4, 1, 1)\n",
    "# map_plot = plt.scatter(X[:, 0], X[:, 1], s=ms, c=Y, cmap=colorscale,vmin=0, vmax=30)\n",
    "# # plt.xlabel(Labels[0], fontsize = font_size)\n",
    "# plt.ylabel(Labels[1], fontsize = font_size)\n",
    "# plt.xlim((np.min(X[:, 0]), np.max(X[:, 0])))\n",
    "# plt.ylim((np.min(X[:, 1]), np.max(X[:, 1])))\n",
    "# # \n",
    "# plt.subplot(4, 1, 2)\n",
    "# map_plot = plt.scatter(X[:, 0], X[:, 2], s=ms, c=Y, cmap=colorscale,vmin=0, vmax=30)\n",
    "# # plt.xlabel(Labels[0], fontsize = font_size)\n",
    "# plt.ylabel(Labels[2], fontsize = font_size)\n",
    "# plt.xlim((np.min(X[:, 0]), np.max(X[:, 0])))\n",
    "# plt.ylim((np.min(X[:, 2]), np.max(X[:, 2])))\n",
    "# # \n",
    "# plt.subplot(4, 1, 3)\n",
    "# map_plot = plt.scatter(X[:, 0], X[:, 3], s=ms, c=Y, cmap=colorscale,vmin=0, vmax=30)\n",
    "# # plt.xlabel(Labels[0], fontsize = font_size)\n",
    "# plt.ylabel(Labels[3], fontsize = font_size)\n",
    "# plt.xlim((np.min(X[:, 0]), np.max(X[:, 0])))\n",
    "# plt.ylim((np.min(X[:, 3]), np.max(X[:, 3])))\n",
    "# #\n",
    "# plt.subplot(4, 1, 4)\n",
    "# map_plot = plt.scatter(X[:, 0], X[:, 4], s=ms, c=Y, cmap=colorscale,vmin=0, vmax=30)\n",
    "# plt.xlabel(Labels[0], fontsize = font_size)\n",
    "# plt.ylabel(Labels[4], fontsize = font_size)\n",
    "# plt.xlim((np.min(X[:, 0]), np.max(X[:, 0])))\n",
    "# plt.ylim((np.min(X[:, 4]), np.max(X[:, 4])))\n",
    "\n",
    "# plt.subplots_adjust(left=None, bottom=None, right=None, top=None, hspace=0.2, wspace=5)\n",
    "# # Create colorbar\n",
    "# cax = fig2.add_axes([1.1, 0.05, 0.1, 0.9]) # Add axes for the colorbar\n",
    "# cb = plt.colorbar(map_plot, ax=cax, fraction=1, extendfrac=1, extendrect=True)\n",
    "# cb.set_label(outputs[output.value], fontsize = font_size)\n",
    "# cb.ax.tick_params(labelsize=font_size)\n",
    "# # Make axes of the colorbar invisible\n",
    "# cax.set_visible(False)"
   ]
  },
  {
   "cell_type": "markdown",
   "metadata": {},
   "source": [
    "### References"
   ]
  },
  {
   "cell_type": "markdown",
   "metadata": {},
   "source": [
    "1. [SAFE Website](https://www.safetoolbox.info/)\n",
    "2. [Introductory paper to SAFE - Pianosi et al. (2015)](https://www.sciencedirect.com/science/article/pii/S1364815215001188)\n",
    "3. [PAWN method - Pianosi and Wagener (2018)](https://doi.org/10.1016/j.envsoft.2018.07.019)\n",
    "4. [A review of available methods and workflows for Sensitivity Analysis - Pianosi et al. (2016)](https://www.sciencedirect.com/science/article/pii/S1364815216300287)\n",
    "5. [What has Global Sensitivity Analysis ever done for us? A systematic review to support scientific advancement and to inform policy-making in earth system modelling - Wagener and Pianosi (2019)](https://www.sciencedirect.com/science/article/pii/S0012825218300990)\n",
    "6. [Global Sensitivity Analysis . The primer - Saltelli et al. (2008)](http://www.andreasaltelli.eu/file/repository/A_Saltelli_Marco_Ratto_Terry_Andres_Francesca_Campolongo_Jessica_Cariboni_Debora_Gatelli_Michaela_Saisana_Stefano_Tarantola_Global_Sensitivity_Analysis_The_Primer_Wiley_Interscience_2008_.pdf) \n",
    "7. [Dummy parameter - Zadeh et al. (2017)](https://www.sciencedirect.com/science/article/pii/S1364815217301159)"
   ]
  }
 ],
 "metadata": {
  "kernelspec": {
   "display_name": "Python 3",
   "language": "python",
   "name": "python3"
  },
  "language_info": {
   "codemirror_mode": {
    "name": "ipython",
    "version": 3
   },
   "file_extension": ".py",
   "mimetype": "text/x-python",
   "name": "python",
   "nbconvert_exporter": "python",
   "pygments_lexer": "ipython3",
   "version": "3.7.4"
  }
 },
 "nbformat": 4,
 "nbformat_minor": 2
}
