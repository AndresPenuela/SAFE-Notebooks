{
 "cells": [
  {
   "cell_type": "markdown",
   "metadata": {},
   "source": [
    "*This is a Jupyter Notebook. It is an interactive document that contains both rich text elements such as figures, links, equations, etc. and executable code (in this case Python code) contained in cells.\n",
    "**Instructions:** You can run the notebook document step-by-step (execute one cell a time) by pressing shift + enter or\n",
    "you can run the whole notebook in a single step by clicking on the menu Cell -> Run All.*\n",
    "\n",
    "# What is the most cost efficient way to deal with a flu outbreak?\n",
    "In this Notebook we will try to understand the evolution of a flu outbreak in a city and how to slow down the spread in a cost-effective way. In other words, we will try to minimize the cost of flattening the contagion curve so the peak number of people requiring care at a time is reduced, and the health care system does not exceed its capacity. For this purpose we will use a flu model and Global Sensitivity Analysis (GSA).\n",
    "\n",
    "<left><img src=\"util/flu_image.png\" width=\"400px\">\n",
    "\n",
    "# What is a flu model?\n",
    "The flu model is a simple mathematical description of the spread of a flu in a city. The model divides the population of N individuals into three \"compartments\" which may vary as a function of time, t:\n",
    "\n",
    "- **Vulnerable**: individuales who are vulnerable but not yet infected with the flu;\n",
    "\n",
    "- **Sick**: individuals who are infected with the flu;\n",
    "\n",
    "- **Immune**: individuals have immunity to the flu. This includes individuals who either have recovered from the flu or have been vaccinated.\n",
    "\n",
    "### Model parameters\n",
    "\n",
    "The model describes the change in the population of each of these compartments in terms of five parameters: \n",
    "\n",
    "- **Initial number of vaccinated individuals**: people who are immune at the start of the outbreak because they have been vaccinated before the flu season.\n",
    "- **Contact rate per day**: number of times that an infected individual comes into contact with vulnerable individuals in a day\n",
    "- **Contagion ratio**: proportion of contacts that result in infection\n",
    "- **Recovery time**: the average number of days to get fully recovered\n",
    "- **Vaccination rate**: number of inviduals who are vaccinated per day during the outbreak\n",
    "\n",
    "Let's imagine the following case-study. In a city with a population of 100,000 people, before the flu season starts, we would like to simulate and compare in terms of effectiveness and cost different actions to slow down the spread of the flu. These are the five available actions and estimations of their cost:\n",
    "\n",
    "- Increase of the initial number of vaccinated individuals by vaccinating part of the population before the start of the flu season. Each vaccine is estimated to cost £70.\n",
    "- Reduction of the contact rate per day by implementing social distancing and isolation measures. It is estimated that reducing this rate by 0.1 costs £200,000.\n",
    "- Reduction of the contagion rate by the distribution of face masks. It is estimated that reducing this rate by 0.1 costs £50,000.\n",
    "- Reduction of the recovery time by the research and use of more efficient treatments. It is estimated that each day of reduction of the recovery time costs £100,000.\n",
    "- Increase of the number of daily vaccinations during the outbreak. Each vaccine is estimated to cost £70.\n",
    "\n",
    "According to past experience, when **40%**, i.e. 40,000 people, or more of the population is sick in a certain day, the city healthcare system gets overwhelmed and the economic activities get severly affected.\n",
    "\n",
    "Now, using the flu model and changing the model parameters, let's try find a **cost-effective combination of actions** that flattens the Sick curve so the **peak is below 40,000 sick individuals** (blue dashed line) with a **cost lower than £3,000,000**."
   ]
  },
  {
   "cell_type": "code",
   "execution_count": 1,
   "metadata": {},
   "outputs": [
    {
     "data": {
      "application/vnd.jupyter.widget-view+json": {
       "model_id": "9773773035c142cab1b7ba060529588b",
       "version_major": 2,
       "version_minor": 0
      },
      "text/plain": [
       "VBox(children=(VBox(children=(IntSlider(value=0, description='Initial number of vaccinated individuals: ', lay…"
      ]
     },
     "metadata": {},
     "output_type": "display_data"
    }
   ],
   "source": [
    "from ipywidgets import widgets\n",
    "from util.flu_interactive import flu_interactive\n",
    "\n",
    "immune_ini,contact_rate,contagion_rate,recovery_time,vaccination_rate,fig1 = flu_interactive()\n",
    "\n",
    "widgets.VBox([widgets.VBox([immune_ini,contact_rate,contagion_rate,recovery_time,vaccination_rate],\n",
    "                           layout=dict(border='solid',width = '750px',height = '180px')),fig1])"
   ]
  },
  {
   "cell_type": "markdown",
   "metadata": {},
   "source": [
    "We can see that it is difficult to find an optimal combination of parameters by varying one-at-a-time the values of the parameters.\n",
    "\n",
    "In order to facilitate this search we can apply Global Sensitivity Analysis (GSA).\n",
    "\n",
    "## Plot sensitivity indices and identify the most influential parameters\n",
    "By applying GSA *(Ref. 3)* we obtain a sensitivity index for each model parameter that measures the relative influence of the parameter on the equilibrium error. Being the influence lower as the sensitivity index decreases. \n",
    "\n",
    "First, run the cell below to obtain the sensitivity indices and identify what parameters in our model have a more relevant influence in reducing the peak of the Sick curve and hence, what actions are more effective regardless of their cost."
   ]
  },
  {
   "cell_type": "code",
   "execution_count": 2,
   "metadata": {},
   "outputs": [],
   "source": [
    "from util.SA_flu_model import screening"
   ]
  },
  {
   "cell_type": "code",
   "execution_count": 3,
   "metadata": {},
   "outputs": [
    {
     "data": {
      "application/vnd.jupyter.widget-view+json": {
       "model_id": "92a95f29207a45848b074a0f6bdaf631",
       "version_major": 2,
       "version_minor": 0
      },
      "text/plain": [
       "VBox(children=(FigureWidget({\n",
       "    'data': [{'line': {'color': 'rgba(120, 170, 150, 1)'},\n",
       "              'mode':…"
      ]
     },
     "metadata": {},
     "output_type": "display_data"
    }
   ],
   "source": [
    "fig2,fig3 = screening()\n",
    "widgets.VBox([fig2])"
   ]
  },
  {
   "cell_type": "markdown",
   "metadata": {},
   "source": [
    "We observe that *Contact rate per day* has the highest sensitivity index, while the *Recovery time* the lowest. Therefore, among the possible actions, reducing the contact rate is potentially the most effective one and reducing the recovery time the least effective.\n",
    "\n",
    "Now run the cell below to obtain the sensitivity indices but this time in terms of cost so you can identify what parameters in our model have more influence in increasing the total cost."
   ]
  },
  {
   "cell_type": "code",
   "execution_count": 4,
   "metadata": {},
   "outputs": [
    {
     "data": {
      "application/vnd.jupyter.widget-view+json": {
       "model_id": "0443103a418542d5be5d545cfc504a41",
       "version_major": 2,
       "version_minor": 0
      },
      "text/plain": [
       "VBox(children=(FigureWidget({\n",
       "    'data': [{'line': {'color': 'rgba(120, 170, 150, 1)'},\n",
       "              'mode':…"
      ]
     },
     "metadata": {},
     "output_type": "display_data"
    }
   ],
   "source": [
    "widgets.VBox([fig3])"
   ]
  },
  {
   "cell_type": "markdown",
   "metadata": {},
   "source": [
    "Again we observe that *Contact rate per day* has the highest sensitivity index but this time in terms of costs. The paramters with the lowest sensitivity are *Contagion rate* and *Recovery time*. Therefore, the most costly action may be reducing the contact rate and the least costly actions may be reducing the contagion rate and reducing the recovery time.\n",
    "\n",
    "Looking at both figures above, can you identify the most cost-effective parameters and hence, actions to apply?\n",
    "\n",
    "## Let's try to to slow down the spread in a cost-effective way again...\n",
    "Now taking into account the sensitivity indices calculated above try again to find a **cost-effective combination of actions** that flattens the Sick curve so the **peak is below 40,000 sick individuals** (blue dashed line) with a **cost lower than £3,000,000**. Can you find a **cost-effective combination of only two actions**?"
   ]
  },
  {
   "cell_type": "code",
   "execution_count": 5,
   "metadata": {},
   "outputs": [
    {
     "data": {
      "application/vnd.jupyter.widget-view+json": {
       "model_id": "ac1c3f6373d24ffe8b9e27edba85e01c",
       "version_major": 2,
       "version_minor": 0
      },
      "text/plain": [
       "VBox(children=(VBox(children=(IntSlider(value=0, description='Initial number of vaccinated individuals: ', lay…"
      ]
     },
     "metadata": {},
     "output_type": "display_data"
    }
   ],
   "source": [
    "immune_ini,contact_rate,contagion_rate,recovery_time,vaccination_rate,fig4 = flu_interactive()\n",
    "\n",
    "widgets.VBox([widgets.VBox([immune_ini,contact_rate,contagion_rate,recovery_time,vaccination_rate],\n",
    "                           layout=dict(border='solid',width = '750px',height = '180px')),fig4])"
   ]
  },
  {
   "cell_type": "markdown",
   "metadata": {},
   "source": [
    "### References"
   ]
  },
  {
   "cell_type": "markdown",
   "metadata": {},
   "source": [
    "1. [SAFE Website](https://www.safetoolbox.info/)\n",
    "2. [Introductory paper to SAFE - Pianosi et al. (2015)](https://www.sciencedirect.com/science/article/pii/S1364815215001188)\n",
    "3. [PAWN method - Pianosi and Wagener (2018)](https://doi.org/10.1016/j.envsoft.2018.07.019)\n",
    "4. [A review of available methods and workflows for Sensitivity Analysis - Pianosi et al. (2016)](https://www.sciencedirect.com/science/article/pii/S1364815216300287)\n",
    "5. [What has Global Sensitivity Analysis ever done for us? A systematic review to support scientific advancement and to inform policy-making in earth system modelling - Wagener and Pianosi (2019)](https://www.sciencedirect.com/science/article/pii/S0012825218300990)\n",
    "6. [Global Sensitivity Analysis . The primer - Saltelli et al. (2008)](http://www.andreasaltelli.eu/file/repository/A_Saltelli_Marco_Ratto_Terry_Andres_Francesca_Campolongo_Jessica_Cariboni_Debora_Gatelli_Michaela_Saisana_Stefano_Tarantola_Global_Sensitivity_Analysis_The_Primer_Wiley_Interscience_2008_.pdf) \n",
    "7. [Dummy parameter - Zadeh et al. (2017)](https://www.sciencedirect.com/science/article/pii/S1364815217301159)"
   ]
  }
 ],
 "metadata": {
  "kernelspec": {
   "display_name": "Python 3",
   "language": "python",
   "name": "python3"
  },
  "language_info": {
   "codemirror_mode": {
    "name": "ipython",
    "version": 3
   },
   "file_extension": ".py",
   "mimetype": "text/x-python",
   "name": "python",
   "nbconvert_exporter": "python",
   "pygments_lexer": "ipython3",
   "version": "3.7.4"
  }
 },
 "nbformat": 4,
 "nbformat_minor": 2
}
