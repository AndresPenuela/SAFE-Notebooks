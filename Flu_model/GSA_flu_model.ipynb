{
 "cells": [
  {
   "cell_type": "markdown",
   "metadata": {},
   "source": [
    "*This is a Jupyter Notebook. It is an interactive document that contains both rich text elements such as figures, links, equations, etc. and executable code (in this case Python code) contained in cells.\n",
    "**Instructions:** You can execute the blocks of code one at the time by placing the mouse in the grey box and pressing shift + enter. An asterisk will appear in the brackets at the top left of the box while the code is being exectued (this may take few seconds) and turns into a number when the execution is over. Alternatively,you can run the whole notebook in a single step by clicking on the menu Cell -> Run All.*\n",
    "\n",
    "# Using GSA to enhance model-informed decisions\n",
    "Mathematical models are often used to inform decision-makers dealing with complex management problems. The model is used to predict the consequences of alternative intervention options, hence providing a quantitative assessment of their benefits and costs. In this context, Global Sensitivity Analysis (GSA) can be used to investigate the space of possible options in a more comprehensive and structured way, including a range of options possibly larger than the few ones that decision-makers would test in a traditional 'what-if?' analysis, and also helping to quantify the importance of intervention options relative to other factors that influence the system response but that are not controllable and potentially highly uncertain.\n",
    "\n",
    "<left><img src=\"util/flu_image.png\" width=\"400px\">\n",
    "\n",
    "# A flu model example\n",
    "In this Notebook we will use a flu model, which provides a simple mathematical description of the spread of a flu in a city. The model divides the city population into three \"compartments\":\n",
    "\n",
    "- **Vulnerable**: individuals who are vulnerable but not yet infected with the flu;\n",
    "\n",
    "- **Sick**: individuals who are infected with the flu;\n",
    "\n",
    "- **Immune**: individuals have immunity to the flu. This includes individuals who either have recovered from the flu or have been vaccinated.\n",
    "The model describes the change in the number of individuals in each compartment over time, using five parameters: \n",
    "\n",
    "\n",
    "- **Initial number of vaccinated individuals**: people who are immune at the start of the flu season because they were previously vaccinated.\n",
    "- **Contact rate per day**: number of times that an infected individual comes into contact with a vulnerable individual in a day\n",
    "- **Contagion ratio**: proportion of contacts that result in infection\n",
    "- **Recovery time**: the average number of days to get fully recovered\n",
    "- **Vaccination rate**: number of inviduals who are vaccinated per day during the outbreak\n",
    "\n",
    "Let's imagine the following problem. In a city with a population of 100,000 people, we would like to simulate and compare five possible actions:\n",
    "\n",
    "- Increase the number of vaccinated individuals at the start of the flu season. Vaccination costs £70 per person.\n",
    "- Implementing social distancing and isolation measures to reduce the daily contact rate. It is estimated that a reduction of 0.1 points of this rate costs £200,000.\n",
    "- Distribute face masks to reducr the contagion rate. It is estimated that reducing this rate by 0.1 points costs £50,000.\n",
    "- Research and use more efficient treatments to reduce the recovery time. It is estimated that a reduction of 1 day in recovery time costs £100,000.\n",
    "- Increase of the number of daily vaccinations during the outbreak, again at £70 per person.\n",
    "\n",
    "The objective is to keep the sick population below **40%** (40,000 people) at any time, because above this number the healthcare system is overwhelmed. The total available budget to achieve this goal is of **£3,000,000**."
   ]
  },
  {
   "cell_type": "code",
   "execution_count": 1,
   "metadata": {},
   "outputs": [
    {
     "data": {
      "application/vnd.jupyter.widget-view+json": {
       "model_id": "379b4183a1ca474ba0cbcde06a6426bc",
       "version_major": 2,
       "version_minor": 0
      },
      "text/plain": [
       "VBox(children=(VBox(children=(IntSlider(value=0, description='Initial number of vaccinated individuals: ', lay…"
      ]
     },
     "metadata": {},
     "output_type": "display_data"
    }
   ],
   "source": [
    "from ipywidgets import widgets\n",
    "from util.flu_interactive import flu_interactive\n",
    "\n",
    "immune_ini,contact_rate,contagion_rate,recovery_time,vaccination_rate,fig1 = flu_interactive()\n",
    "\n",
    "widgets.VBox([widgets.VBox([immune_ini,contact_rate,contagion_rate,recovery_time,vaccination_rate],\n",
    "                           layout=dict(border='solid',width = '750px',height = '180px')),fig1])"
   ]
  },
  {
   "cell_type": "markdown",
   "metadata": {},
   "source": [
    "We can see that it is difficult to find an optimal combination of parameters by varying one-at-a-time the values of the parameters.\n",
    "\n",
    "In order to facilitate this search we can apply Global Sensitivity Analysis (GSA).\n",
    "\n",
    "## Plot sensitivity indices and identify the most influential parameters\n",
    "By applying GSA *(Ref. 3)* we obtain a sensitivity index for each model parameter that measures the relative influence of the parameter on the equilibrium error. Being the influence lower as the sensitivity index decreases. \n",
    "\n",
    "First, run the cell below to obtain the sensitivity indices and identify what parameters in our model have a more relevant influence in reducing the peak of the Sick curve and hence, what actions are more effective regardless of their cost."
   ]
  },
  {
   "cell_type": "code",
   "execution_count": 2,
   "metadata": {},
   "outputs": [],
   "source": [
    "from util.SA_flu_model import screening"
   ]
  },
  {
   "cell_type": "code",
   "execution_count": 3,
   "metadata": {},
   "outputs": [
    {
     "data": {
      "application/vnd.jupyter.widget-view+json": {
       "model_id": "21c6e965d3984026bdebb3dd3371a98b",
       "version_major": 2,
       "version_minor": 0
      },
      "text/plain": [
       "VBox(children=(FigureWidget({\n",
       "    'data': [{'line': {'color': 'rgba(120, 170, 150, 1)'},\n",
       "              'mode':…"
      ]
     },
     "metadata": {},
     "output_type": "display_data"
    }
   ],
   "source": [
    "fig2,fig3 = screening()\n",
    "widgets.VBox([fig2])"
   ]
  },
  {
   "cell_type": "markdown",
   "metadata": {},
   "source": [
    "We observe that *Contact rate per day* has the highest sensitivity index, while the *Recovery time* the lowest. Therefore, among the possible actions, reducing the contact rate is potentially the most effective one and reducing the recovery time the least effective.\n",
    "\n",
    "Now run the cell below to obtain the sensitivity indices but this time in terms of cost so you can identify what parameters in our model have more influence in increasing the total cost."
   ]
  },
  {
   "cell_type": "code",
   "execution_count": 4,
   "metadata": {},
   "outputs": [
    {
     "data": {
      "application/vnd.jupyter.widget-view+json": {
       "model_id": "d4f2396bba3d4171aca353b8b060ef73",
       "version_major": 2,
       "version_minor": 0
      },
      "text/plain": [
       "VBox(children=(FigureWidget({\n",
       "    'data': [{'line': {'color': 'rgba(120, 170, 150, 1)'},\n",
       "              'mode':…"
      ]
     },
     "metadata": {},
     "output_type": "display_data"
    }
   ],
   "source": [
    "widgets.VBox([fig3])"
   ]
  },
  {
   "cell_type": "markdown",
   "metadata": {},
   "source": [
    "Again we observe that *Contact rate per day* has the highest sensitivity index but this time in terms of costs. The paramters with the lowest sensitivity are *Contagion rate* and *Recovery time*. Therefore, the most costly action may be reducing the contact rate and the least costly actions may be reducing the contagion rate and reducing the recovery time.\n",
    "\n",
    "Looking at both figures above, can you identify the most cost-effective parameters and hence, actions to apply?\n",
    "\n",
    "## Let's try to to slow down the spread in a cost-effective way again...\n",
    "Now taking into account the sensitivity indices calculated above try again to find a **cost-effective combination of actions** that flattens the Sick curve so the **peak is below 40,000 sick individuals** (blue dashed line) with a **cost lower than £3,000,000**. Can you find a **cost-effective combination of only two actions**?"
   ]
  },
  {
   "cell_type": "code",
   "execution_count": 6,
   "metadata": {},
   "outputs": [
    {
     "data": {
      "application/vnd.jupyter.widget-view+json": {
       "model_id": "1c976fe6ea804e7596e4a153a2e85b05",
       "version_major": 2,
       "version_minor": 0
      },
      "text/plain": [
       "VBox(children=(VBox(children=(IntSlider(value=0, description='Initial number of vaccinated individuals: ', lay…"
      ]
     },
     "metadata": {},
     "output_type": "display_data"
    }
   ],
   "source": [
    "immune_ini,contact_rate,contagion_rate,recovery_time,vaccination_rate,fig4 = flu_interactive()\n",
    "\n",
    "widgets.VBox([widgets.VBox([immune_ini,contact_rate,contagion_rate,recovery_time,vaccination_rate],\n",
    "                           layout=dict(border='solid',width = '750px',height = '180px')),fig4])"
   ]
  },
  {
   "cell_type": "markdown",
   "metadata": {},
   "source": [
    "### References"
   ]
  },
  {
   "cell_type": "markdown",
   "metadata": {},
   "source": [
    "1. [SAFE Website](https://www.safetoolbox.info/)\n",
    "2. [Introductory paper to SAFE - Pianosi et al. (2015)](https://www.sciencedirect.com/science/article/pii/S1364815215001188)\n",
    "3. [PAWN method - Pianosi and Wagener (2018)](https://doi.org/10.1016/j.envsoft.2018.07.019)\n",
    "4. [A review of available methods and workflows for Sensitivity Analysis - Pianosi et al. (2016)](https://www.sciencedirect.com/science/article/pii/S1364815216300287)\n",
    "5. [What has Global Sensitivity Analysis ever done for us? A systematic review to support scientific advancement and to inform policy-making in earth system modelling - Wagener and Pianosi (2019)](https://www.sciencedirect.com/science/article/pii/S0012825218300990)\n",
    "6. [Global Sensitivity Analysis . The primer - Saltelli et al. (2008)](http://www.andreasaltelli.eu/file/repository/A_Saltelli_Marco_Ratto_Terry_Andres_Francesca_Campolongo_Jessica_Cariboni_Debora_Gatelli_Michaela_Saisana_Stefano_Tarantola_Global_Sensitivity_Analysis_The_Primer_Wiley_Interscience_2008_.pdf) \n",
    "7. [Dummy parameter - Zadeh et al. (2017)](https://www.sciencedirect.com/science/article/pii/S1364815217301159)"
   ]
  }
 ],
 "metadata": {
  "kernelspec": {
   "display_name": "Python 3",
   "language": "python",
   "name": "python3"
  },
  "language_info": {
   "codemirror_mode": {
    "name": "ipython",
    "version": 3
   },
   "file_extension": ".py",
   "mimetype": "text/x-python",
   "name": "python",
   "nbconvert_exporter": "python",
   "pygments_lexer": "ipython3",
   "version": "3.7.4"
  },
  "varInspector": {
   "cols": {
    "lenName": 16,
    "lenType": 16,
    "lenVar": 40
   },
   "kernels_config": {
    "python": {
     "delete_cmd_postfix": "",
     "delete_cmd_prefix": "del ",
     "library": "var_list.py",
     "varRefreshCmd": "print(var_dic_list())"
    },
    "r": {
     "delete_cmd_postfix": ") ",
     "delete_cmd_prefix": "rm(",
     "library": "var_list.r",
     "varRefreshCmd": "cat(var_dic_list()) "
    }
   },
   "types_to_exclude": [
    "module",
    "function",
    "builtin_function_or_method",
    "instance",
    "_Feature"
   ],
   "window_display": false
  }
 },
 "nbformat": 4,
 "nbformat_minor": 2
}
