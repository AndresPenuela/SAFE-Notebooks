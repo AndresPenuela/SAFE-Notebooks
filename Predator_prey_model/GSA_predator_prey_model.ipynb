{
 "cells": [
  {
   "cell_type": "markdown",
   "metadata": {},
   "source": [
    "*This is a Jupyter Notebook. It is an interactive document that contains both rich text elements such as figures, links, equations, etc. and executable code (in this case Python code) contained in cells.\n",
    "**How to use a Jupyter Notebook**: You can execute the blocks of code one at the time by placing the mouse in the grey box and pressing shift + enter. An asterisk will appear in the brackets at the top left of the box while the code is being exectued (this may take few seconds) and turns into a number when the execution is over. Alternatively, you can run all the code in the Notebook in a single step by clicking on the menu Cell -> Run All.*\n",
    "\n",
    "#What are the key controls of a system?\n",
    "Mathematical models can be used to test hypotheses and increase our understanding of the functioning of the system they represent. Model simulation can be used to explore under which conditions a system will reach a particular state, or to anticipate the effects of human interventions on the system. For example, a mathematical model of an ecological system represents the interactions between different species within a certain habitat. Such a model could be used to identify the conditions under which all the spieces can coexist, or the conditions that would lead to extinction of a particular species; or it could be used to assess the effects of introducing or removing a certain number of individuals of a spieces - for example through hunting or fishing. The underlying assumption here is that the model is a realistic representation of the system, so that what is learnt about the model behaviour applies to the system behaviour too. \n",
    "In this Notebook we show how Global Sensitivity Analysis (GSA) can help in this context, and in particular how GSA can help identify the key controls of the system response. \n",
    "\n",
    "## An ecological model example\n",
    "For the sake of illustration, we will use a very simple model representing the dynamics going on between two species. One species, the prey, is the primary source of food source for the other, the predator. The predator-prey food chain persists over time thanks to a **negative feedback loop** *(Ref. 1)*. When predators eat preys, the prey population declines; this reduces the predators' food source and soon leads to the predator population to also decline. When predators decline, the predation rate reduces; this reduces pressure on the preys and soon lead to the prey population to increase again. This cycle creates a fluctuating pattern in the prey and predator population densities which is the long-term (oscillating) equilibrium of the system.\n",
    "\n",
    "<left><img src=\"util/predator_prey_equil.gif\" width=\"700px\">\n",
    "\n",
    "The predator-prey model we use here *(Ref. 2)* is characterised by five parameters:\n",
    "\n",
    "- *Predator initial population*: the initial number of predator individuals\n",
    "- *Predator attack rate*: the number of times (per week) that a predator attack is successful, i.e. results in killing and eating a prey\n",
    "- *Predator efficiency*: the efficiency at turning food into offspring, expressed as the proportion of successful attacks that lead to creating a new predator \n",
    "- *Predator death rate*: the fraction of the predator population that dies per week\n",
    "- *Prey initial population*: initial number of prey individuals\n",
    "\n",
    "We define as the **optimal habitat equilibrium** of the habitat a situation where both the predator and the prey populations oscillates within the range of **7000 ± 250 individuals each**.\n",
    "\n",
        "## Reaching the optimal habitat equilibrium\n",
        "Now imagine we want to determine a combination of the above 5 parameters that would lead the system to reach the optimal habitat equilibrium within a year. This could be useful for example to inform the sustainable management of the habitat, for instance by introducing new individuals (preys or predators) or allowing a certain number of hunting licenses (which is a way to artificially increase the predator death rate). Can you find a combination that put both lines (the predator and prey populations) between the blue dashed lines (7000 ± 250 individuals) before the end of the simulation period?" 
   ]
  },
  {
   "cell_type": "code",
   "execution_count": 1,
   "metadata": {},
   "outputs": [
    {
     "data": {
      "application/vnd.jupyter.widget-view+json": {
       "model_id": "46f3011324c04ba39fef66ef271f336a",
       "version_major": 2,
       "version_minor": 0
      },
      "text/plain": [
       "VBox(children=(VBox(children=(IntSlider(value=2, continuous_update=False, description='Predator initial popula…"
      ]
     },
     "metadata": {},
     "output_type": "display_data"
    }
   ],
   "source": [
    "from ipywidgets import widgets\n",
    "from util.predator_prey_interactive import predator_prey_interactive\n",
    "\n",
    "predator_ini,attack_rate,efficiency_rate,death_rate,prey_ini,growth_rate,carrying_capacity,fig1 = predator_prey_interactive()\n",
    "\n",
    "widgets.VBox([widgets.VBox([predator_ini,attack_rate,efficiency_rate,death_rate,prey_ini],\n",
    "                           layout=dict(border='solid',width = '750px',height = '180px')),fig1])"
   ]
  },
  {
   "cell_type": "markdown",
   "metadata": {},
   "source": [
    "The interactive plot above also reports a quantitative indicator of the distance from the equilibrium, called **equilibrium deviation**. This is defined as the absolute difference of the predator population from 7000 individuals (the optimal long-term population value) at the end of the simulation, plus the same absolute difference for the prey population. We would like the deviation to be as close to zero as possible, however finding a set of parameters that achieve a low deviation by varying each of them one-at-a-time is not immediate.\n",
    "\n",
    "## Finding the key controls of the system response by GSA\n",
    "The search of the right parameters combination would be easier if we could focus on fewer of them, the ones that mostly influence the long-term system response. To identify such parameters, we can apply Global Sensitivity Analysis (GSA). Here we use one particular GSA method, PAWN (Ref. 3). It provides a sensitivity index for each model parameter. The index measures the relative influence of that parameter on the equilibrium deviation: the lower the index, the smaller the influence. The method also provides a threshold value: if the index of a parameter is below the threshold, then the effect of that parameter on the equilibrium deviation is negligible. Now run the cell below to obtain the sensivity indices and the influence threshold (black dashed line).\n",
    "\n",
    "<left><img src=\"util/screening_figure.png\" width=\"600px\">\n",
    "    \n",
    "We observe that two of the parameters, *Predator initial population* and *Prey initial population*, are below the influence threshold, which means they have very little influence in determining whether the long-term equilibrium is reached or not. Therefore we can stop varying these parameters, set them to an arbitrary value and concentrate on the others.\n",
    "Now focusing on the influential parameters *Predator attack rate*, *Predator efficiency ratio* and *Predator death rate*, let's look at the interactions between these parameters. These can be visually assessed on the coloured scatter plots below. Each point in this plot represents a parameter combination (you can read the parameter values on the horizontal and vertical axes), coloured according to the value of the equilibrium deviation associated to that combination.\n",
    "\n",
    "<left><img src=\"util/mapping_figures.png\" width=\"700px\">\n",
    "    \n",
    "Can you identify a range of values for each influential parameter within which the equilibrium deviation is minimum (blue dots)? Do you see an interaction between the *Predator efficiency ratio* and the *Predator death rate* - i.e. there are joint variations of the two that lead to a particular response? \n",
    "\n",
    "## Reaching the optimal habitat equilibrium, again...\n",
    "Now taking into account what we have learnt so far about the relative influence of the system parameters, and about the parameter interactions, can you find a combination that reach the **optimal equilibrium** of the predator and prey populations?"
   ]
  },
  {
   "cell_type": "code",
   "execution_count": 2,
   "metadata": {},
   "outputs": [
    {
     "data": {
      "application/vnd.jupyter.widget-view+json": {
       "model_id": "8e6f14963c394ad9b27abbeb7820b9be",
       "version_major": 2,
       "version_minor": 0
      },
      "text/plain": [
       "VBox(children=(VBox(children=(IntSlider(value=2, continuous_update=False, description='Predator initial popula…"
      ]
     },
     "metadata": {},
     "output_type": "display_data"
    }
   ],
   "source": [
    "predator_ini,attack_rate,efficiency_rate,death_rate,prey_ini,growth_rate,carrying_capacity,fig3 = predator_prey_interactive()\n",
    "\n",
    "widgets.VBox([widgets.VBox([predator_ini,attack_rate,efficiency_rate,death_rate,prey_ini],\n",
    "                           layout=dict(border='solid',width = '750px',height = '180px')),fig3])"
   ]
  },
  {
   "cell_type": "markdown",
   "metadata": {},
   "source": [
    "### References"
   ]
  },
  {
   "cell_type": "markdown",
   "metadata": {},
   "source": [
    "1. [Feedback loops: How nature gets its rhythms - Anje-Margriet Neutel](https://www.youtube.com/watch?v=inVZoI1AkC8&t=2s)\n",
    "2. [Predator-prey model - Hoppensteadt, F. (2006)](http://www.scholarpedia.org/article/Predator-prey_model)\n",
    "3. [PAWN method - Pianosi and Wagener (2018)](https://doi.org/10.1016/j.envsoft.2018.07.019)\n",
    "4. [Global Sensitivity Analysis . The primer - Saltelli et al. (2008)](http://www.andreasaltelli.eu/file/repository/A_Saltelli_Marco_Ratto_Terry_Andres_Francesca_Campolongo_Jessica_Cariboni_Debora_Gatelli_Michaela_Saisana_Stefano_Tarantola_Global_Sensitivity_Analysis_The_Primer_Wiley_Interscience_2008_.pdf) "
   ]
  },
  {
   "cell_type": "code",
   "execution_count": null,
   "metadata": {},
   "outputs": [],
   "source": []
  }
 ],
 "metadata": {
  "kernelspec": {
   "display_name": "Python 3",
   "language": "python",
   "name": "python3"
  },
  "language_info": {
   "codemirror_mode": {
    "name": "ipython",
    "version": 3
   },
   "file_extension": ".py",
   "mimetype": "text/x-python",
   "name": "python",
   "nbconvert_exporter": "python",
   "pygments_lexer": "ipython3",
   "version": "3.7.4"
  },
  "varInspector": {
   "cols": {
    "lenName": 16,
    "lenType": 16,
    "lenVar": 40
   },
   "kernels_config": {
    "python": {
     "delete_cmd_postfix": "",
     "delete_cmd_prefix": "del ",
     "library": "var_list.py",
     "varRefreshCmd": "print(var_dic_list())"
    },
    "r": {
     "delete_cmd_postfix": ") ",
     "delete_cmd_prefix": "rm(",
     "library": "var_list.r",
     "varRefreshCmd": "cat(var_dic_list()) "
    }
   },
   "types_to_exclude": [
    "module",
    "function",
    "builtin_function_or_method",
    "instance",
    "_Feature"
   ],
   "window_display": false
  }
 },
 "nbformat": 4,
 "nbformat_minor": 2
}
