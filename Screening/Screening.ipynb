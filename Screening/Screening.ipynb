{
 "cells": [
  {
   "cell_type": "markdown",
   "metadata": {},
   "source": [
    "# Workflow to identify the important inputs on which to focus computationally-intensive calibration by means of GSA\n",
    "\n",
    "### Andres Peñuela, Valentina Noacco, Francesca Pianosi, Thorsten Wagener \n",
    "### (University of Bristol)\n",
    "\n",
    "This document provides:\n",
    "* a brief introduction to Global Sensitivity Analysis (GSA);\n",
    "* a workflow to apply GSA using the SAFE (Sensitivity Analysis For Everybody) toolbox ([References](#References) 1-2).\n",
    "\n",
    "In this example we apply a GSA method to the calibration of simple hydrological model.\n",
    "\n",
    "## What is Global Sensitivity Analysis and why shall we use it?\n",
    "\n",
    "**Global Sensitivity Analysis** is a set of mathematical techniques which investigate how the uncertainty in the model inputs influences the variability of the model outputs ([References](#References) 3-4).\n",
    "\n",
    "The benefits of applying GSA are:\n",
    "\n",
    "* **Better understanding of the model**: Evaluate the model behaviour beyond default set-up\n",
    "    \n",
    "* **“Sanity check” of the model**: Test whether the model \"behaves well\" (model validation)\n",
    "    \n",
    "* **Priorities for uncertainty reduction**: Identify the important inputs on which to focus computationally-intensive calibration, acquisition of new data, etc. \n",
    "    \n",
    "* **More transparent and robust decisions**: Understand how assumptions about uncertain inputs reflect on the modelling outcome and thus on model-informed decisions\n",
    "\n",
    "\n",
    "## How Global Sensitivity Analysis works\n",
    "\n",
    "GSA investigates how the uncertainty in the model input factors influences the variability of the model output.\n",
    "\n",
    "An '**input factor**' is any element that can be changed before running the model. In general, input factors could be the model's parameters, forcing input data, but also the very equations implemented in the model or other set-up choices (for instance, the spatial resolution) needed for the model execution on a computer.\n",
    "\n",
    "An '**output**' is any variable that is obtained after the model execution.\n",
    "\n",
    "The main steps to perform GSA are summarised in the figure below."
   ]
  },
  {
   "cell_type": "code",
   "execution_count": 1,
   "metadata": {},
   "outputs": [],
   "source": [
    "#import os\n",
    "#from IPython.display import Image\n",
    "#mydir = \"C:/Users/vn1197/OneDrive - University of Bristol/proj_SAFEVAL/SAFEPy/SAFEpython_v0.0.0\"\n",
    "#os.chdir(mydir + \"/jupyter\")\n",
    "#Image(filename=\"how_GSA_works.png\", width=800, height=800)"
   ]
  },
  {
   "cell_type": "markdown",
   "metadata": {},
   "source": [
    "a. The input factors are sampled from their ranges of variability.\n",
    "\n",
    "b. The model is repeatedly run against each of the input sampled combinations.\n",
    "\n",
    "c. The output samples so obtained can be used to characterise the output uncertainty, for instance through a probability distribution or scatter plots.\n",
    "\n",
    "d. GSA is applied to the input and output samples in order to obtain a set of sensitivity indices. The sensitivity indices measure the relative influence of each input factor on the uncertainty of the output ([References](#References) 4,5).\n",
    "\n",
    "# PART II: Priorities for uncertainty reduction or Screening\n",
    "\n",
    "Screening refers to the identification of those input factors, if any, which have no influence on the model output and therefore can be fixed to any value within their feasible range with negligible implications on the output. It is a preliminary step to inform a subsequent calibration, which is tailored to the subset of influential parameters.\n",
    "\n",
    "### Step 1: Import Python libraries"
   ]
  },
  {
   "cell_type": "code",
   "execution_count": 2,
   "metadata": {},
   "outputs": [],
   "source": [
    "import numpy as np\n",
    "import pandas as pd\n",
    "import plotly.graph_objs as go\n",
    "import plotly.express as px\n",
    "from plotly.subplots import make_subplots\n",
    "from ipywidgets import widgets\n",
    "\n",
    "from HyMOD import hymod"
   ]
  },
  {
   "cell_type": "markdown",
   "metadata": {},
   "source": [
    "### Step 2: Define and setup the model\n",
    "<left><img src=\"HyMOD_diagram_simple.png\" width=\"700px\">\n",
    "HYMOD is a parsimonious rainfall-runoff model based based on the theory of runoff yeild under infiltration excess. The model structure is illustrated on the figure below.\n",
    "\n",
    "The basin is composed by a group of storages that follow a cumulative distribution F(C) where C is the value of the storage which can vary from 0 to Cmax.\n",
    "\n",
    "<left><img src=\"HyMOD_diagram.png\" width=\"700px\">\n",
    "\n",
    "Define: \n",
    "- the input factors whose influence is to be analysed with GSA,\n",
    "- their range of variability (choice made by expert judgement, available data or previous studies),"
   ]
  },
  {
   "cell_type": "code",
   "execution_count": 3,
   "metadata": {
    "scrolled": true
   },
   "outputs": [
    {
     "data": {
      "text/html": [
       "<div>\n",
       "<style scoped>\n",
       "    .dataframe tbody tr th:only-of-type {\n",
       "        vertical-align: middle;\n",
       "    }\n",
       "\n",
       "    .dataframe tbody tr th {\n",
       "        vertical-align: top;\n",
       "    }\n",
       "\n",
       "    .dataframe thead th {\n",
       "        text-align: right;\n",
       "    }\n",
       "</style>\n",
       "<table border=\"1\" class=\"dataframe\">\n",
       "  <thead>\n",
       "    <tr style=\"text-align: right;\">\n",
       "      <th></th>\n",
       "      <th>Unit</th>\n",
       "      <th>Min value</th>\n",
       "      <th>Max value</th>\n",
       "      <th>Description</th>\n",
       "    </tr>\n",
       "  </thead>\n",
       "  <tbody>\n",
       "    <tr>\n",
       "      <td>c_max</td>\n",
       "      <td>mm</td>\n",
       "      <td>1.00</td>\n",
       "      <td>100.00</td>\n",
       "      <td>Maximum storage capacity</td>\n",
       "    </tr>\n",
       "    <tr>\n",
       "      <td>beta</td>\n",
       "      <td>-</td>\n",
       "      <td>0.00</td>\n",
       "      <td>2.00</td>\n",
       "      <td>Degree of spatial variability of the c_max</td>\n",
       "    </tr>\n",
       "    <tr>\n",
       "      <td>alpha</td>\n",
       "      <td>-</td>\n",
       "      <td>0.01</td>\n",
       "      <td>0.99</td>\n",
       "      <td>Factor distributing slow and quick flows</td>\n",
       "    </tr>\n",
       "    <tr>\n",
       "      <td>K_s</td>\n",
       "      <td>-</td>\n",
       "      <td>0.01</td>\n",
       "      <td>0.10</td>\n",
       "      <td>Fractional discharge of the slow release reser...</td>\n",
       "    </tr>\n",
       "    <tr>\n",
       "      <td>K_q</td>\n",
       "      <td>-</td>\n",
       "      <td>0.10</td>\n",
       "      <td>0.99</td>\n",
       "      <td>Fractional discharge of the quick release rese...</td>\n",
       "    </tr>\n",
       "  </tbody>\n",
       "</table>\n",
       "</div>"
      ],
      "text/plain": [
       "      Unit  Min value  Max value  \\\n",
       "c_max   mm       1.00     100.00   \n",
       "beta     -       0.00       2.00   \n",
       "alpha    -       0.01       0.99   \n",
       "K_s      -       0.01       0.10   \n",
       "K_q      -       0.10       0.99   \n",
       "\n",
       "                                             Description  \n",
       "c_max                           Maximum storage capacity  \n",
       "beta          Degree of spatial variability of the c_max  \n",
       "alpha           Factor distributing slow and quick flows  \n",
       "K_s    Fractional discharge of the slow release reser...  \n",
       "K_q    Fractional discharge of the quick release rese...  "
      ]
     },
     "execution_count": 3,
     "metadata": {},
     "output_type": "execute_result"
    }
   ],
   "source": [
    "data = [[\"mm\"  , 1   , 100 , \"Maximum storage capacity\"],\n",
    "        [\"-\"   , 0   , 2   , \"Degree of spatial variability of the c_max\"],\n",
    "        [\"-\"   , 0.01, 0.99, \"Factor distributing slow and quick flows\"],\n",
    "        [\"-\", 0.01, 0.10, \"Fractional discharge of the slow release reservoir\"],\n",
    "        [\"-\", 0.10, 0.99, \"Fractional discharge of the quick release reservoirs\"]]\n",
    "model_param = pd.DataFrame(data, \n",
    "                           columns=[\"Unit\", \"Min value\", \"Max value\", \"Description\"],\n",
    "                           index = [\"c_max\" , \"beta\" , \"alpha\", \"K_s\", \"K_q\"])\n",
    "model_param"
   ]
  },
  {
   "cell_type": "markdown",
   "metadata": {},
   "source": [
    "### Interactive manual calibration"
   ]
  },
  {
   "cell_type": "code",
   "execution_count": 4,
   "metadata": {},
   "outputs": [],
   "source": [
    "nsteps = 120 # days\n",
    "dates = pd.date_range(start = '2000-01-01', periods = nsteps)\n",
    "P = 20 * np.random.random(nsteps)\n",
    "PET = 5 * np.random.random(nsteps)\n",
    "init = [20,20,10,10,10]"
   ]
  },
  {
   "cell_type": "markdown",
   "metadata": {},
   "source": [
    "#### Function to update the Hymod simulation when changing the parameters with the sliders"
   ]
  },
  {
   "cell_type": "code",
   "execution_count": 5,
   "metadata": {},
   "outputs": [],
   "source": [
    "def update_sim(c_max, beta, alpha, K_s, K_q):\n",
    "    model = hymod(c_max.value, beta.value, alpha.value, K_s.value, K_q.value)\n",
    "    ER, Q = model.simulation(P, PET, init)\n",
    "    return ER, Q"
   ]
  },
  {
   "cell_type": "markdown",
   "metadata": {},
   "source": [
    "#### Function to update the figure when changing the parameters with the sliders"
   ]
  },
  {
   "cell_type": "code",
   "execution_count": 6,
   "metadata": {},
   "outputs": [],
   "source": [
    "def update_figure(change):\n",
    "    with fig_hyd.batch_animate(duration=1000):\n",
    "        fig_hyd.data[1].y = update_sim(c_max, beta, alpha, K_s, K_q)[1]\n",
    "    with fig_sto.batch_animate(duration=1000):\n",
    "        fig_sto.data[0].x = 1 - (1 - np.arange(0,c_max.value+1,1)/c_max.value)**beta.value\n",
    "        fig_sto.data[0].y = np.arange(0,c_max.value+1,1)\n",
    "        fig_sto.data[1].line.width = update_sim(c_max, beta, alpha, K_s, K_q)[0][0]\n",
    "        fig_sto.data[2].marker.size = update_sim(c_max, beta, alpha, K_s, K_q)[0][0]*3"
   ]
  },
  {
   "cell_type": "markdown",
   "metadata": {},
   "source": [
    "#### Definition of the sliders"
   ]
  },
  {
   "cell_type": "code",
   "execution_count": 7,
   "metadata": {},
   "outputs": [],
   "source": [
    "# c_max: Maximum soil moisture storage capacity (mm)\n",
    "c_max = widgets.FloatSlider(min=model_param.loc['c_max','Min value'],\n",
    "                            max=model_param.loc['c_max','Max value'],\n",
    "                            value=50, step = 1,\n",
    "                            description = 'c_max: Maximum soil moisture storage capacity (mm)',\n",
    "                            continuous_update=False,\n",
    "                          style = {'description_width': '350px'} ,layout={'width': '550px'})\n",
    "c_max.observe(update_figure,names = 'value')\n",
    "# beta: Degree of spatial variability of the c_max\n",
    "beta = widgets.FloatSlider(min=model_param.loc['beta','Min value'],\n",
    "                           max=model_param.loc['beta','Max value'],\n",
    "                           value=1, step = 0.01,\n",
    "                           description = 'beta: Degree of spatial variability of the c_max',\n",
    "                           continuous_update=False,\n",
    "                          style = {'description_width': '350px'} ,layout={'width': '550px'})\n",
    "beta.observe(update_figure,names = 'value')\n",
    "# alpha: Factor distributing slow and quick flows\n",
    "alpha = widgets.FloatSlider(min=model_param.loc['alpha','Min value'],\n",
    "                            max=model_param.loc['alpha','Max value'],\n",
    "                            value=0.5, step = 0.01, \n",
    "                            description = 'alpha: Factor distributing slow (s) and quick (q) flows (q/s)',\n",
    "                            continuous_update=False,\n",
    "                          style = {'description_width': '350px'} ,layout={'width': '550px'})\n",
    "alpha.observe(update_figure,names = 'value')\n",
    "# K_s: Fractional discharge of the slow release reservoir\n",
    "K_s = widgets.FloatSlider(min=model_param.loc['K_s','Min value'],\n",
    "                          max=model_param.loc['K_s','Max value'],\n",
    "                          value=0.05, step = 0.01, \n",
    "                          description = 'K_s: Fractional discharge of slow release reservoir',\n",
    "                          continuous_update=False,\n",
    "                          style = {'description_width': '350px'} ,layout={'width': '550px'})\n",
    "K_s.observe(update_figure,names = 'value')\n",
    "# K_q: Fractional discharge of the quick release reservoir\n",
    "K_q = widgets.FloatSlider(min=model_param.loc['K_q','Min value'],\n",
    "                          max=model_param.loc['K_q','Max value'],\n",
    "                          value=0.55, step = 0.01,\n",
    "                          description = 'K_q: Fractional discharge of quick release reservoir',\n",
    "                          continuous_update=False,\n",
    "                          style = {'description_width': '350px'} ,layout={'width': '550px'})\n",
    "K_q.observe(update_figure,names = 'value')"
   ]
  },
  {
   "cell_type": "markdown",
   "metadata": {},
   "source": [
    "#### Observed hydrograph"
   ]
  },
  {
   "cell_type": "code",
   "execution_count": 8,
   "metadata": {},
   "outputs": [],
   "source": [
    "c_max_obs = np.random.uniform(model_param.loc['c_max','Min value'], model_param.loc['c_max','Max value'])\n",
    "beta_obs  = np.random.uniform(model_param.loc['beta','Min value'],  model_param.loc['beta','Max value'])\n",
    "alpha_obs = np.random.uniform(model_param.loc['alpha','Min value'], model_param.loc['alpha','Max value'])\n",
    "K_s_obs   = np.random.uniform(model_param.loc['K_s','Min value'],   model_param.loc['K_s','Max value'])\n",
    "K_q_obs   = np.random.uniform(model_param.loc['K_q','Min value'],   model_param.loc['K_q','Max value'])"
   ]
  },
  {
   "cell_type": "code",
   "execution_count": 9,
   "metadata": {},
   "outputs": [
    {
     "name": "stderr",
     "output_type": "stream",
     "text": [
      "C:\\Users\\andro\\OneDrive - University of Bristol\\AndresFrancesca\\mat\\Jupyter notebooks\\SAFE Notebooks\\Calibration\\HyMOD.py:40: ComplexWarning:\n",
      "\n",
      "Casting complex values to real discards the imaginary part\n",
      "\n",
      "C:\\Users\\andro\\OneDrive - University of Bristol\\AndresFrancesca\\mat\\Jupyter notebooks\\SAFE Notebooks\\Calibration\\HyMOD.py:43: ComplexWarning:\n",
      "\n",
      "Casting complex values to real discards the imaginary part\n",
      "\n",
      "C:\\Users\\andro\\OneDrive - University of Bristol\\AndresFrancesca\\mat\\Jupyter notebooks\\SAFE Notebooks\\Calibration\\HyMOD.py:44: ComplexWarning:\n",
      "\n",
      "Casting complex values to real discards the imaginary part\n",
      "\n"
     ]
    }
   ],
   "source": [
    "model_obs = hymod(c_max_obs, beta_obs, alpha_obs, K_s_obs, K_q_obs)\n",
    "ER_obs, Q_obs = model_obs.simulation(P, PET, init)"
   ]
  },
  {
   "cell_type": "markdown",
   "metadata": {},
   "source": [
    "#### Figure: hydrographs"
   ]
  },
  {
   "cell_type": "code",
   "execution_count": 10,
   "metadata": {},
   "outputs": [],
   "source": [
    "### Figure with two traces: simulated and observed hydrogrphs ###\n",
    "model = hymod(c_max.value, beta.value, alpha.value, K_s.value, K_q.value)\n",
    "ER_sim, Q_sim = model.simulation(P, PET, init)\n",
    "sim_hyd = go.Scatter(x=dates, y=Q_sim, name='sim hyd')\n",
    "obs_hyd = go.Scatter(x=dates, y=Q_obs, name='obs hyd')\n",
    "fig_hyd = go.FigureWidget(data   = [obs_hyd,sim_hyd],\n",
    "                          layout = go.Layout(xaxis = dict(title = 'date'),\n",
    "                                             yaxis = dict(range = [0,20],\n",
    "                                                          title = 'Q')))"
   ]
  },
  {
   "cell_type": "markdown",
   "metadata": {},
   "source": [
    "#### Storage"
   ]
  },
  {
   "cell_type": "code",
   "execution_count": 11,
   "metadata": {},
   "outputs": [],
   "source": [
    "c = np.arange(0,c_max.value,1)\n",
    "F_c = 1 - (1 - c/c_max.value)**beta.value"
   ]
  },
  {
   "cell_type": "markdown",
   "metadata": {},
   "source": [
    "#### Figure: storage capacity"
   ]
  },
  {
   "cell_type": "code",
   "execution_count": 12,
   "metadata": {},
   "outputs": [],
   "source": [
    "sto_trace = go.Scatter(x=F_c, y=c, name=None, fill=\"tozeroy\", fillcolor = 'sandybrown',mode='none')\n",
    "arrow_line = go.Scatter(x=[0.01,0.4], y=[50,50], mode = 'lines', line = dict(color = 'blue', width = ER_sim[0]),opacity = 0.5)\n",
    "arrow_head = go.Scatter(x=[-0.01], y=[50], mode = 'markers', opacity = 0.5,marker = dict(symbol = 'triangle-right', size = ER_sim[0]*3, color = 'blue'))\n",
    "sto_layout = go.Layout(xaxis = dict(title = 'F(c)',autorange='reversed',range = [1,0], showgrid = False),\n",
    "                       yaxis = dict(range = [0,model_param.loc['c_max','Max value']],\n",
    "                                    title = 'mm', showgrid = False),\n",
    "                       width=350, height=350,plot_bgcolor=None,showlegend=False,\n",
    "                       annotations = [dict(x = 0.55, y = 5, text = 'Soil storage capacity',showarrow=False),\n",
    "                                      dict(x = 0.3, y = 60, text = 'Effective rain',showarrow=False)])\n",
    "fig_sto = go.FigureWidget(data   = [sto_trace,arrow_line,arrow_head],\n",
    "                          layout = sto_layout)"
   ]
  },
  {
   "cell_type": "markdown",
   "metadata": {},
   "source": [
    "#### Figure plot"
   ]
  },
  {
   "cell_type": "code",
   "execution_count": 13,
   "metadata": {
    "scrolled": false
   },
   "outputs": [
    {
     "data": {
      "application/vnd.jupyter.widget-view+json": {
       "model_id": "a309ebb4bca84e2d8a0d11c3796646a6",
       "version_major": 2,
       "version_minor": 0
      },
      "text/plain": [
       "VBox(children=(HBox(children=(VBox(children=(FloatSlider(value=50.0, continuous_update=False, description='c_m…"
      ]
     },
     "metadata": {},
     "output_type": "display_data"
    }
   ],
   "source": [
    "widgets.VBox([widgets.HBox([widgets.VBox([c_max,beta,alpha,K_s, K_q])]),\n",
    "              fig_sto,fig_hyd])"
   ]
  },
  {
   "cell_type": "markdown",
   "metadata": {},
   "source": [
    "### Step 3: Sample inputs space\n",
    "The number of model runs (N) typically increases proportionally to the number of input factors (M) and will depend on the GSA methods chosen as well. \n",
    "\n",
    "As a rule of thumb, it may require more than 10 model runs per input factor (M) for the most frugal methods (e.g. Elementary Effect Test) and more than 1000 model runs per M for the more expensive methods (e.g. variance and density-based methods)."
   ]
  },
  {
   "cell_type": "code",
   "execution_count": null,
   "metadata": {},
   "outputs": [],
   "source": []
  },
  {
   "cell_type": "markdown",
   "metadata": {},
   "source": [
    "### Step 4: Run the model\n",
    "For each sampled input factors combination, we run the model and save the associated model output."
   ]
  },
  {
   "cell_type": "code",
   "execution_count": null,
   "metadata": {},
   "outputs": [],
   "source": []
  },
  {
   "cell_type": "markdown",
   "metadata": {},
   "source": [
    "### Step 5: Apply Sensitivity Analysis (RSA) method\n",
    "RSA requires to sort the output samples and then to split them into a certain number of groups (defined by the user). Afterwards, RSA identifies the sub-samples in the inputs space that produced the outputs in each group and compute the cumulative distribution function (CDF) of each sub-sample. Finally, the sensitivity indices are defined as the (mean) maximum vertical distance between the CDFs of the various groups.\n",
    "\n",
    "Here we divide the output samples into 10 groups, where each group contains the same number of samples."
   ]
  },
  {
   "cell_type": "code",
   "execution_count": null,
   "metadata": {},
   "outputs": [],
   "source": []
  },
  {
   "cell_type": "markdown",
   "metadata": {},
   "source": [
    "### Step 6: Check model behaviour by visualising input/output samples\n",
    "Scatterplots are plotted to visualise the behaviour of the output over each input factor in turn."
   ]
  },
  {
   "cell_type": "code",
   "execution_count": null,
   "metadata": {},
   "outputs": [],
   "source": []
  },
  {
   "cell_type": "markdown",
   "metadata": {},
   "source": [
    "### Step 7: Plot sensitivity indices\n",
    "The sensitivity indices for the RSA method are the maximum vertical distances over each pair of CDF."
   ]
  },
  {
   "cell_type": "code",
   "execution_count": null,
   "metadata": {},
   "outputs": [],
   "source": []
  },
  {
   "cell_type": "markdown",
   "metadata": {},
   "source": [
    "### Step 8: Assess robustness by bootstrapping\n",
    "In order to assess the robustness of the estimated sensitivity indices, bootstrapping is performed (here we resample 100 times). The 95% confidence intervals of the sensitivity indices are plotted below."
   ]
  },
  {
   "cell_type": "code",
   "execution_count": null,
   "metadata": {},
   "outputs": [],
   "source": []
  },
  {
   "cell_type": "markdown",
   "metadata": {},
   "source": [
    "### Step 9: Visualise input factors interactions\n",
    "In order to investigate the interactions between input factors we plot one input against the other, coloured by the value taken by the output."
   ]
  },
  {
   "cell_type": "code",
   "execution_count": null,
   "metadata": {},
   "outputs": [],
   "source": []
  },
  {
   "cell_type": "markdown",
   "metadata": {},
   "source": [
    "### <a id=\"References\"></a>References\n",
    "\n",
    "\n",
    "RSA is based on the function created as part of the SAFE Toolbox by F. Pianosi, F. Sarrazin and T. Wagener at Bristol University (2015). Please refer to the `Licence` file in the SAFE toolbox. \n",
    "\n",
    "1) [SAFE Toolbox Website](https://www.safetoolbox.info/)\t\n",
    "\n",
    "2) [Introductory paper to SAFE - Pianosi et al. (2015)](https://www.sciencedirect.com/science/article/pii/S1364815215001188)\n",
    "\n",
    "3) [A review of available methods and workflows for Sensitivity Analysis - Pianosi et al. (2016)](https://www.sciencedirect.com/science/article/pii/S1364815216300287)\n",
    "\n",
    "4) [What has Global Sensitivity Analysis ever done for us? A systematic review to support scientific advancement and to inform policy-making in earth system modelling - Wagener and Pianosi (2019)](https://www.sciencedirect.com/science/article/pii/S0012825218300990)\n",
    "\n",
    "5) [Practical guide through the critical choices needed for Global Sensitivity Analysis - Noacco et al. (2019)](https://www.sciencedirect.com/science/article/pii/S2215016119302572?via%3Dihub)"
   ]
  },
  {
   "cell_type": "code",
   "execution_count": null,
   "metadata": {},
   "outputs": [],
   "source": []
  }
 ],
 "metadata": {
  "kernelspec": {
   "display_name": "Python 3",
   "language": "python",
   "name": "python3"
  },
  "language_info": {
   "codemirror_mode": {
    "name": "ipython",
    "version": 3
   },
   "file_extension": ".py",
   "mimetype": "text/x-python",
   "name": "python",
   "nbconvert_exporter": "python",
   "pygments_lexer": "ipython3",
   "version": "3.7.4"
  },
  "varInspector": {
   "cols": {
    "lenName": 16,
    "lenType": 16,
    "lenVar": 40
   },
   "kernels_config": {
    "python": {
     "delete_cmd_postfix": "",
     "delete_cmd_prefix": "del ",
     "library": "var_list.py",
     "varRefreshCmd": "print(var_dic_list())"
    },
    "r": {
     "delete_cmd_postfix": ") ",
     "delete_cmd_prefix": "rm(",
     "library": "var_list.r",
     "varRefreshCmd": "cat(var_dic_list()) "
    }
   },
   "types_to_exclude": [
    "module",
    "function",
    "builtin_function_or_method",
    "instance",
    "_Feature"
   ],
   "window_display": false
  }
 },
 "nbformat": 4,
 "nbformat_minor": 2
}
