{
 "cells": [
  {
   "cell_type": "markdown",
   "metadata": {},
   "source": [
    "# What parameters are not important in our model?\n",
    "In this Notebook we will apply Global Sensitivity Analysis (GSA) to identify the parameters in a model, if any, which have a negligible influence on the model results. In this way, we can reduce the number of parameters and hence the time and money that we need to invest to improve our model. In this example we will apply GSA to a hydrological model.\n",
    "\n",
    "# But what is a hydrological model?\n",
    "Imagine that we want to simulate the natural water flows draining into a river. Knowing the amount of rainfall that has fallen in the river drainage area, i.e. catchment, we can estimate how much of the rainwater flows over (surface flow) and under (subsurface flow) the land surface and finally reach the river. \n",
    "\n",
    "<left><img src=\"util/catchment.png\" width=\"500px\">\n",
    "\n",
    "For this purpose, we can use a hydrological model. A hydrological model is a mathematical model (set of equations) describing the hydrological processes that occur in a catchment as a function of various parameters. These model parameters describe the hydrological characteristics of the catchment, such as the climate and soil characteristics, ultimately enabling the estimation of the river flow at selected river sections.\n",
    "\n",
    "## Hydrological processes in a river section\n",
    "This animated image represents the main hydrological processes that occur in one of the river sections. \n",
    "\n",
    "<left><img src=\"util/Rain_runoff_diagram7.gif\" width=\"700px\">\n",
    "    \n",
    "## Diagram of the hydrological model\n",
    "\n",
    "<left><img src=\"util/HyMOD_diagram_simple4.gif\" width=\"1000px\">\n",
    "\n",
    "## Model parameters\n",
    "To represent the hydrological processes the model use mathematical equations that are as a function of several parameters.\n",
    "\n",
    "<left><img src=\"util/Rain_runoff_param.png\" width=\"500px\">\n",
    "    \n",
    "Usually the value of the model parameters are unknown and ideally, to obtain a good representation of the hydrological processes occuring in the catchment, we should measure in-situ their values. However, this data is generally not available and it is difficult and expensive to measure. \n",
    "\n",
    "Imagine that have a limited budget to make in-situ measurements and we can measure two of the paramater values. Therefore, we need to carefully select which ones we would like to measure. \n",
    "    \n",
    "## Calibration of the model parameters\n",
    "\n",
    "To tailor a hydrological model to a particular catchment, model calibration is required. Model calibration is the process of adjusting the model parameters to obtain a representation of the catchment under study that satisfies pre-agreed criteria. Normally, calibration of a hydrological model aims to improve the fit of the simulated river flow to observed river flow and involves running the model many times under different combinations of the parameter values, until a combination is found that minimise the differences between simulated and observed flows. \n",
    "\n",
    "Let's try to calibrate the model manually, that is, changing the parameter values one at the time and looking at the effects induced in the model predictions by means of an interactive plot of the simulated hydrograph. The objective is to obtain a good fit of the simulated hydrograph to the observed one."
   ]
  },
  {
   "cell_type": "code",
   "execution_count": 1,
   "metadata": {},
   "outputs": [
    {
     "data": {
      "application/vnd.jupyter.widget-view+json": {
       "model_id": "d65150a759684d14b00c213050b582ff",
       "version_major": 2,
       "version_minor": 0
      },
      "text/plain": [
       "VBox(children=(VBox(children=(FloatSlider(value=50.0, continuous_update=False, description='Soil storage capac…"
      ]
     },
     "metadata": {},
     "output_type": "display_data"
    }
   ],
   "source": [
    "from ipywidgets import widgets\n",
    "from util.hydrological_model import hydrological_model\n",
    "\n",
    "Soil_sto,Evap_rate,Inf_rate, Time_surf,Time_under,slider_box_layout,\\\n",
    "           fig_sto,fig_flo,fig_hyd,hbox_layout,vbox_layout,param_obs = hydrological_model()\n",
    "\n",
    "widgets.VBox([widgets.VBox([Soil_sto,Evap_rate,Inf_rate, Time_surf,Time_under],layout=slider_box_layout),\n",
    "              widgets.HBox([fig_sto,fig_flo,fig_hyd],layout=hbox_layout)],layout = vbox_layout)"
   ]
  },
  {
   "cell_type": "markdown",
   "metadata": {},
   "source": [
    "# What is Global Sensitivity Analysis? and why shall we use it?\n",
    "\n",
    "**Global Sensitivity Analysis** is a set of mathematical techniques which investigate how uncertainty in the output of a numerical model can be attributed to variations of its input factors.\n",
    "\n",
    "The benefits of applying GSA are:\n",
    "\n",
    "1. **Better understanding of the model**\n",
    "    \n",
    "2. **Test whether the model \"behaves well\"**\n",
    "    \n",
    "3. **Identify the important inputs on which to focus computation time (e.g. for calibration), acquisition of new data, etc.** \n",
    "    \n",
    "4. **Understand the main impacts of input uncertainty on the modelling outcome and thus model-informed decisions**\n",
    "\n",
    "## How Global Sensitivity Analysis works?\n",
    "\n",
    "GSA investigates how the uncertainty of the selected model input parameters influences the variability of the model output/performance.\n",
    "\n",
    "A '**model parameter**' is any element that can be changed before running the model.\n",
    "\n",
    "An '**output**' is any variable that is obtained after the model execution.\n",
    "\n",
    "Before executing the model, we will sample the parameters from their ranges of variability and then repeatedly run the model so that for each simulation all the inputs vary simultaneously. After GSA is performed we obtain a set of sensitivity indices for each output. The sensitivity indices measure the relative influence of each input factor on the output (*Refs. 4-5*).\n",
    "\n",
    "## Plot sensitivity indices and identify non-influential parameters\n",
    "The dummy parameter is a numerical artifice, with no influence on the model output, which is used to estimate the threshold for non-influential inputs. \n",
    "\n",
    "Uninfluential input factors should have zero-valued sensitivity indices, but since sensitivity indices are computed by numerical approximations rather than analytical solutions, an uninfluential factor may still be associated with a non-zero (although small) index value. \n",
    "\n",
    "Therefore if the index of an input factor is below the value of the sensitivity index of the dummy parameter, then the input factor is deemed uninfluential *(Ref. 6)*."
   ]
  },
  {
   "cell_type": "code",
   "execution_count": 2,
   "metadata": {},
   "outputs": [
    {
     "data": {
      "application/vnd.jupyter.widget-view+json": {
       "model_id": "f33887fc20d74b6fb8a955eb1c7e5e87",
       "version_major": 2,
       "version_minor": 0
      },
      "text/plain": [
       "VBox(children=(HBox(children=(VBox(children=(FloatRangeSlider(value=(10.0, 90.0), continuous_update=False, des…"
      ]
     },
     "metadata": {},
     "output_type": "display_data"
    }
   ],
   "source": [
    "from util.GSA_hydrological_model import screening, mapping\n",
    "\n",
    "x1,x2,x3,x4,x5,fig1 = screening(param_obs)\n",
    "\n",
    "widgets.VBox([widgets.HBox([widgets.VBox([x1,x2,x3,x4,x5],layout=dict(border='solid',width = '475px',height = '180px')),fig1])])"
   ]
  },
  {
   "cell_type": "markdown",
   "metadata": {},
   "source": [
    "## Let's try to calibrate the model parameters again...\n",
    "Now try to calibrate the hydrological model, i.e. minimize the difference between the simulated flow and the observed flow, but now neglecting the parameters that according to GSA are not influential. Can you reduce the difference between the simulated and observed flows to a value **below 85** by only **changing the value of 2 parameters**?"
   ]
  },
  {
   "cell_type": "code",
   "execution_count": 3,
   "metadata": {},
   "outputs": [
    {
     "data": {
      "application/vnd.jupyter.widget-view+json": {
       "model_id": "3fd994cea9004c62a01743c3021f31b9",
       "version_major": 2,
       "version_minor": 0
      },
      "text/plain": [
       "VBox(children=(VBox(children=(FloatSlider(value=50.0, continuous_update=False, description='Soil storage capac…"
      ]
     },
     "metadata": {},
     "output_type": "display_data"
    }
   ],
   "source": [
    "Soil_sto,Evap_rate,Inf_rate, Time_surf,Time_under,slider_box_layout,\\\n",
    "           fig_sto,fig_flo,fig_hyd,hbox_layout,vbox_layout,param_obs = hydrological_model()\n",
    "\n",
    "widgets.VBox([widgets.VBox([Soil_sto,Evap_rate,Inf_rate, Time_surf,Time_under],layout=slider_box_layout),\n",
    "              widgets.HBox([fig_sto,fig_flo,fig_hyd],layout=hbox_layout)],layout = vbox_layout)"
   ]
  },
  {
   "cell_type": "markdown",
   "metadata": {},
   "source": [
    "### References"
   ]
  },
  {
   "cell_type": "markdown",
   "metadata": {},
   "source": [
    "1. [SAFE Website](https://www.safetoolbox.info/)\n",
    "2. [Introductory paper to SAFE - Pianosi et al. (2015)](https://www.sciencedirect.com/science/article/pii/S1364815215001188)\n",
    "3. [PAWN method - Pianosi and Wagener (2018)](https://doi.org/10.1016/j.envsoft.2018.07.019)\n",
    "4. [A review of available methods and workflows for Sensitivity Analysis - Pianosi et al. (2016)](https://www.sciencedirect.com/science/article/pii/S1364815216300287)\n",
    "5. [What has Global Sensitivity Analysis ever done for us? A systematic review to support scientific advancement and to inform policy-making in earth system modelling - Wagener and Pianosi (2019)](https://www.sciencedirect.com/science/article/pii/S0012825218300990)\n",
    "6. [Global Sensitivity Analysis . The primer - Saltelli et al. (2008)](http://www.andreasaltelli.eu/file/repository/A_Saltelli_Marco_Ratto_Terry_Andres_Francesca_Campolongo_Jessica_Cariboni_Debora_Gatelli_Michaela_Saisana_Stefano_Tarantola_Global_Sensitivity_Analysis_The_Primer_Wiley_Interscience_2008_.pdf) \n",
    "7. [Dummy parameter - Zadeh et al. (2017)](https://www.sciencedirect.com/science/article/pii/S1364815217301159)"
   ]
  }
 ],
 "metadata": {
  "kernelspec": {
   "display_name": "Python 3",
   "language": "python",
   "name": "python3"
  },
  "language_info": {
   "codemirror_mode": {
    "name": "ipython",
    "version": 3
   },
   "file_extension": ".py",
   "mimetype": "text/x-python",
   "name": "python",
   "nbconvert_exporter": "python",
   "pygments_lexer": "ipython3",
   "version": "3.7.4"
  }
 },
 "nbformat": 4,
 "nbformat_minor": 2
}
