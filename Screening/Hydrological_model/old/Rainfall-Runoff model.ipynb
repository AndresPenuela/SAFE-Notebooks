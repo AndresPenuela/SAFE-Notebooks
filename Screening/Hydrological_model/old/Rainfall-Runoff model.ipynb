{
 "cells": [
  {
   "cell_type": "markdown",
   "metadata": {},
   "source": [
    "# What is a hydrological model?\n",
    "Imagine that we want to simulate the natural water flows draining into a river. Knowing the amount of rainfall that has fallen in the river drainage area (watershed) we can estimate how much of the rainwater flows over (surface flow) and under (subsurface flow) the land surface and finally reach the river. \n",
    "\n",
    "<left><img src=\"util/Watershed.jpg\" width=\"500px\">\n",
    "\n",
    "For that purpose, we can use a hydrological model. A hydrological model is a mathematical model (set of equations) describing the hydrological processes that occur in a watershed as a function of various parameters. These model parameters describe the hydrological characteristics of the watershed, such as the climate and soil characteristics, ultimately enabling the estimation of the river flow at selected river sections.\n",
    "\n",
    "## Hydrological processes in a river section\n",
    "This diagram represents the main hydrological processes that occur in one of the river sections. \n",
    "\n",
    "<left><img src=\"util/Rain_runoff_diagram7.gif\" width=\"700px\">\n",
    "    \n",
    "## Diagram of the hydrological model\n",
    "\n",
    "<left><img src=\"util/HyMOD_diagram_simple4.gif\" width=\"1000px\">\n",
    "\n",
    "#### Import libraries"
   ]
  },
  {
   "cell_type": "code",
   "execution_count": 1,
   "metadata": {},
   "outputs": [],
   "source": [
    "import numpy as np\n",
    "import pandas as pd\n",
    "import plotly.graph_objs as go\n",
    "from ipywidgets import widgets, Layout\n",
    "\n",
    "from util.HyMOD_gamma import hymod_gamma\n",
    "from util.util import RMSE"
   ]
  },
  {
   "cell_type": "markdown",
   "metadata": {},
   "source": [
    "## Model parameters\n",
    "To represent the hydrological processes the model use mathematical equations that are as a function of several parameters.\n",
    "\n",
    "<left><img src=\"util/Rain_runoff_param.png\" width=\"500px\">"
   ]
  },
  {
   "cell_type": "code",
   "execution_count": 2,
   "metadata": {},
   "outputs": [
    {
     "data": {
      "text/html": [
       "<div>\n",
       "<style scoped>\n",
       "    .dataframe tbody tr th:only-of-type {\n",
       "        vertical-align: middle;\n",
       "    }\n",
       "\n",
       "    .dataframe tbody tr th {\n",
       "        vertical-align: top;\n",
       "    }\n",
       "\n",
       "    .dataframe thead th {\n",
       "        text-align: right;\n",
       "    }\n",
       "</style>\n",
       "<table border=\"1\" class=\"dataframe\">\n",
       "  <thead>\n",
       "    <tr style=\"text-align: right;\">\n",
       "      <th></th>\n",
       "      <th>Unit</th>\n",
       "      <th>Min value</th>\n",
       "      <th>Max value</th>\n",
       "      <th>Description</th>\n",
       "    </tr>\n",
       "  </thead>\n",
       "  <tbody>\n",
       "    <tr>\n",
       "      <td>Soil_sto</td>\n",
       "      <td>mm</td>\n",
       "      <td>10.00</td>\n",
       "      <td>90.00</td>\n",
       "      <td>Soil storage capacity</td>\n",
       "    </tr>\n",
       "    <tr>\n",
       "      <td>Evap_rate</td>\n",
       "      <td>-</td>\n",
       "      <td>0.01</td>\n",
       "      <td>0.99</td>\n",
       "      <td>Evaporation rate</td>\n",
       "    </tr>\n",
       "    <tr>\n",
       "      <td>Inf_rate</td>\n",
       "      <td>-</td>\n",
       "      <td>0.01</td>\n",
       "      <td>0.99</td>\n",
       "      <td>Infiltration rate</td>\n",
       "    </tr>\n",
       "    <tr>\n",
       "      <td>Time_surf</td>\n",
       "      <td>-</td>\n",
       "      <td>0.80</td>\n",
       "      <td>2.00</td>\n",
       "      <td>Travel time - surface flow</td>\n",
       "    </tr>\n",
       "    <tr>\n",
       "      <td>Time_under</td>\n",
       "      <td>-</td>\n",
       "      <td>2.00</td>\n",
       "      <td>10.00</td>\n",
       "      <td>Travel time - underground flow</td>\n",
       "    </tr>\n",
       "  </tbody>\n",
       "</table>\n",
       "</div>"
      ],
      "text/plain": [
       "           Unit  Min value  Max value                     Description\n",
       "Soil_sto     mm      10.00      90.00           Soil storage capacity\n",
       "Evap_rate     -       0.01       0.99                Evaporation rate\n",
       "Inf_rate      -       0.01       0.99               Infiltration rate\n",
       "Time_surf     -       0.80       2.00      Travel time - surface flow\n",
       "Time_under    -       2.00      10.00  Travel time - underground flow"
      ]
     },
     "execution_count": 2,
     "metadata": {},
     "output_type": "execute_result"
    }
   ],
   "source": [
    "data = [[\"mm\", 10   , 90 , \"Soil storage capacity\"],\n",
    "        [\"-\",  0.01, 0.99   , \"Evaporation rate\"],\n",
    "        [\"-\",  0.01, 0.99, \"Infiltration rate\"],\n",
    "        [\"-\",  0.8, 2,       \"Travel time - surface flow\"],\n",
    "        [\"-\",  2, 10,      \"Travel time - underground flow\"]]\n",
    "model_param = pd.DataFrame(data, \n",
    "                           columns=[\"Unit\", \"Min value\", \"Max value\", \"Description\"],\n",
    "                           index = [\"Soil_sto\" , \"Evap_rate\" , \"Inf_rate\",\n",
    "                                    \"Time_surf\",\"Time_under\"])\n",
    "model_param"
   ]
  },
  {
   "cell_type": "markdown",
   "metadata": {},
   "source": [
    "## Interactive manual calibration\n",
    "### Simulation time range"
   ]
  },
  {
   "cell_type": "code",
   "execution_count": 3,
   "metadata": {},
   "outputs": [],
   "source": [
    "T = 150 # days\n",
    "dates = pd.date_range(start = '2000-01-01', periods = T)\n",
    "warmup = 31"
   ]
  },
  {
   "cell_type": "markdown",
   "metadata": {},
   "source": [
    "### Inputs"
   ]
  },
  {
   "cell_type": "code",
   "execution_count": 4,
   "metadata": {},
   "outputs": [],
   "source": [
    "rain = 20 * np.random.random(T)\n",
    "ept = 5 * np.random.random(T)"
   ]
  },
  {
   "cell_type": "markdown",
   "metadata": {},
   "source": [
    "### Function to update the Hymod simulation when changing the parameters with the sliders"
   ]
  },
  {
   "cell_type": "code",
   "execution_count": 5,
   "metadata": {},
   "outputs": [],
   "source": [
    "def update_sim(Soil_sto, Evap_rate, Inf_rate, Time_surf, Time_under):\n",
    "    param = [Soil_sto.value, Evap_rate.value, Inf_rate.value, Time_surf.value, Time_under.value]\n",
    "    model = hymod_gamma(param)\n",
    "    Q_sim = model.simulation(param, rain, ept)[warmup:]\n",
    "    ER = model.Pe[warmup:]\n",
    "    ER_q = ER*Inf_rate.value\n",
    "    ER_s = ER*(1-Inf_rate.value)\n",
    "    Q_s = model.QsL[warmup:]\n",
    "    Q_q = model.QsF[warmup:]\n",
    "    evap = model.Ea[warmup:]\n",
    "    rmse = RMSE(Q_sim, Q_obs[warmup:])*100\n",
    "    return ER, ER_q, ER_s, Q_q, Q_s, Q_sim, evap, rmse"
   ]
  },
  {
   "cell_type": "markdown",
   "metadata": {},
   "source": [
    "### Function to update the figure when changing the parameters with the sliders"
   ]
  },
  {
   "cell_type": "code",
   "execution_count": 6,
   "metadata": {},
   "outputs": [],
   "source": [
    "def update_figure(change):\n",
    "    with fig_hyd.batch_animate(duration=1000):\n",
    "        fig_hyd.data[0].y = update_sim(Soil_sto, Evap_rate, Inf_rate, Time_surf, Time_under)[5]\n",
    "        fig_hyd.layout.title = \"sim flow - obs flow = \"+\\\n",
    "        str(\"%.0f\" % (update_sim(Soil_sto, Evap_rate, Inf_rate, Time_surf, Time_under)[7]))\n",
    "    with fig_sto.batch_animate(duration=1000):\n",
    "        fig_sto.data[0].y = np.ones(T+1)*Soil_sto.value\n",
    "        fig_sto.data[1].line.width = np.mean(update_sim(Soil_sto, Evap_rate, Inf_rate, Time_surf, Time_under)[6])*5\n",
    "        fig_sto.data[2].marker.size = np.mean(update_sim(Soil_sto, Evap_rate, Inf_rate, Time_surf, Time_under)[6])*10\n",
    "    with fig_flo.batch_animate(duration=1000):\n",
    "        fig_flo.data[0].y = Time_surf.value/5 * np.sin(2 * np.pi * (freq_f * x_f + phase_f)) + 8\n",
    "        fig_flo.data[0].line.width = np.mean(update_sim(Soil_sto, Evap_rate, Inf_rate, Time_surf, Time_under)[3])*2\n",
    "        fig_flo.data[1].y = Time_under.value/5 * np.sin(2 * np.pi * (freq_s * x_f + phase_s)) + 4\n",
    "        fig_flo.data[1].line.width = np.mean(update_sim(Soil_sto, Evap_rate, Inf_rate, Time_surf, Time_under)[4])*2\n",
    "        fig_flo.data[2].marker.size = np.mean(update_sim(Soil_sto, Evap_rate, Inf_rate, Time_surf, Time_under)[3])*6\n",
    "        fig_flo.data[3].marker.size = np.mean(update_sim(Soil_sto, Evap_rate, Inf_rate, Time_surf, Time_under)[4])*6        "
   ]
  },
  {
   "cell_type": "markdown",
   "metadata": {},
   "source": [
    "### Definition of the sliders\n",
    "#### Soil_sto: Maximum soil moisture storage capacity (mm)"
   ]
  },
  {
   "cell_type": "code",
   "execution_count": 7,
   "metadata": {},
   "outputs": [],
   "source": [
    "Soil_sto = widgets.FloatSlider(min=model_param.loc['Soil_sto','Min value'],\n",
    "                            max=model_param.loc['Soil_sto','Max value'],\n",
    "                            value=50, step = 1,\n",
    "                            description = model_param['Description'][0],\n",
    "                            continuous_update=False,\n",
    "                          style = {'description_width': '250px'} ,layout={'width': '500px'})\n",
    "Soil_sto.observe(update_figure,names = 'value')"
   ]
  },
  {
   "cell_type": "markdown",
   "metadata": {},
   "source": [
    "#### Evap_rate"
   ]
  },
  {
   "cell_type": "code",
   "execution_count": 8,
   "metadata": {},
   "outputs": [],
   "source": [
    "Evap_rate = widgets.FloatSlider(min=model_param.loc['Evap_rate','Min value'],\n",
    "                           max=model_param.loc['Evap_rate','Max value'],\n",
    "                           value=0.5, step = 0.01,\n",
    "                           description = model_param['Description'][1],\n",
    "                           continuous_update=False,\n",
    "                          style = {'description_width': '250px'} ,layout={'width': '500px'})\n",
    "Evap_rate.observe(update_figure,names = 'value')"
   ]
  },
  {
   "cell_type": "markdown",
   "metadata": {},
   "source": [
    "#### Inf_rate"
   ]
  },
  {
   "cell_type": "code",
   "execution_count": 9,
   "metadata": {},
   "outputs": [],
   "source": [
    "Inf_rate = widgets.FloatSlider(min=model_param.loc['Inf_rate','Min value'],\n",
    "                            max=model_param.loc['Inf_rate','Max value'],\n",
    "                            value=0.5, step = 0.01, \n",
    "                            description = model_param['Description'][2],\n",
    "                            continuous_update=False,\n",
    "                          style = {'description_width': '250px'} ,layout={'width': '500px'})\n",
    "Inf_rate.observe(update_figure,names = 'value')"
   ]
  },
  {
   "cell_type": "markdown",
   "metadata": {},
   "source": [
    "#### Time_surf"
   ]
  },
  {
   "cell_type": "code",
   "execution_count": 10,
   "metadata": {},
   "outputs": [],
   "source": [
    "Time_surf = widgets.FloatSlider(min=model_param.loc['Time_surf','Min value'],\n",
    "                          max=model_param.loc['Time_surf','Max value'],\n",
    "                          value=1.4, step = 0.01,\n",
    "                          description = model_param['Description'][3],\n",
    "                          continuous_update=False,\n",
    "                          style = {'description_width': '250px'} ,layout={'width': '500px'})\n",
    "Time_surf.observe(update_figure,names = 'value')"
   ]
  },
  {
   "cell_type": "markdown",
   "metadata": {},
   "source": [
    "#### Time_under"
   ]
  },
  {
   "cell_type": "code",
   "execution_count": 11,
   "metadata": {},
   "outputs": [],
   "source": [
    "Time_under = widgets.FloatSlider(min=model_param.loc['Time_under','Min value'],\n",
    "                          max=model_param.loc['Time_under','Max value'],\n",
    "                          value= 6, step = 0.1, \n",
    "                          description = model_param['Description'][4],\n",
    "                          continuous_update=False,\n",
    "                          style = {'description_width': '250px'} ,layout={'width': '500px'})\n",
    "Time_under.observe(update_figure,names = 'value')"
   ]
  },
  {
   "cell_type": "markdown",
   "metadata": {},
   "source": [
    "### Observed hydrograph"
   ]
  },
  {
   "cell_type": "code",
   "execution_count": 12,
   "metadata": {},
   "outputs": [],
   "source": [
    "Soil_sto_obs = np.random.uniform(model_param.loc['Soil_sto','Min value'], model_param.loc['Soil_sto','Max value'])\n",
    "Evap_rate_obs  = np.random.uniform(model_param.loc['Evap_rate','Min value'],  model_param.loc['Evap_rate','Max value'])\n",
    "Inf_rate_obs = np.random.uniform(model_param.loc['Inf_rate','Min value'], model_param.loc['Inf_rate','Max value'])\n",
    "Time_under_obs   = np.random.uniform(model_param.loc['Time_under','Min value'],   model_param.loc['Time_under','Max value'])\n",
    "Time_surf_obs   = np.random.uniform(model_param.loc['Time_surf','Min value'],   model_param.loc['Time_surf','Max value'])"
   ]
  },
  {
   "cell_type": "code",
   "execution_count": 13,
   "metadata": {},
   "outputs": [],
   "source": [
    "[Soil_sto_obs, Evap_rate_obs, Inf_rate_obs, Time_surf_obs,Time_under_obs] = [77,0.06,0.06,1.81,5.65]"
   ]
  },
  {
   "cell_type": "code",
   "execution_count": 14,
   "metadata": {},
   "outputs": [],
   "source": [
    "param_obs = [Soil_sto_obs, Evap_rate_obs, Inf_rate_obs, Time_surf_obs,Time_under_obs]\n",
    "model_obs = hymod_gamma(param_obs)\n",
    "Q_obs = model_obs.simulation(param_obs, rain, ept)"
   ]
  },
  {
   "cell_type": "markdown",
   "metadata": {},
   "source": [
    "### Plot the interactive figure\n",
    "#### Initial simulation"
   ]
  },
  {
   "cell_type": "code",
   "execution_count": 15,
   "metadata": {},
   "outputs": [],
   "source": [
    "param = [Soil_sto.value, Evap_rate.value, Inf_rate.value, Time_surf.value, Time_under.value]\n",
    "model = hymod_gamma(param)\n",
    "Q_sim = model.simulation(param, rain, ept)\n",
    "ER_q_sim = model.Pe * (1-Inf_rate.value)\n",
    "ER_s_sim = model.Pe * Inf_rate.value"
   ]
  },
  {
   "cell_type": "markdown",
   "metadata": {},
   "source": [
    "#### Figure: storage capacity"
   ]
  },
  {
   "cell_type": "code",
   "execution_count": 16,
   "metadata": {},
   "outputs": [],
   "source": [
    "sto_trace = go.Scatter(x=np.linspace(0, 1, num=T+1), y=np.ones(T+1)*Soil_sto.value, name=None, fill=\"tozeroy\", fillcolor = 'sandybrown',mode='none')\n",
    "evap_line = go.Scatter(x=[0.8,0.8], y=[75,95], mode = 'lines', line = dict(color = 'red', width = model.Ea.mean()*5),opacity = 0.9)\n",
    "evap_head = go.Scatter(x=[0.8], y=[95], mode = 'markers', opacity = 0.9, marker = dict(symbol = 'triangle-up', size = model.Ea.mean()*10, color = 'red'))\n",
    "sto_layout = go.Layout(xaxis = dict(showticklabels=False,range = [0,1], showgrid = False),\n",
    "                       yaxis = dict(range = [0,100],\n",
    "                                    showticklabels=False, showgrid = False),\n",
    "                       width=150, height=175, margin=dict(l=0,r=20,t=50,b=10),plot_bgcolor=None, showlegend=False,\n",
    "                       annotations = [dict(x = 0.13, y = 6, text = '<b>Soil</b>',showarrow=False,font = dict(size=15)),\n",
    "                                      dict(x = 0.28, y = 94, text = '<b>Effec rain</b>',showarrow=False,font = dict(size=15)),\n",
    "                                      dict(x = 1.00, y = 95, text = '<b>Evap</b>',showarrow=False,font = dict(size=15,color = 'red'))])\n",
    "fig_sto = go.FigureWidget(data   = [sto_trace,evap_line,evap_head],\n",
    "                          layout = sto_layout)"
   ]
  },
  {
   "cell_type": "markdown",
   "metadata": {},
   "source": [
    "#### Figure: quick and slow flow"
   ]
  },
  {
   "cell_type": "code",
   "execution_count": 17,
   "metadata": {},
   "outputs": [],
   "source": [
    "# fast flow\n",
    "amp_f = Time_surf.value/5 # amplitude\n",
    "phase_f = 0 # phase\n",
    "freq_f = 20 # frequency\n",
    "x_f = np.linspace(0,15,150) # x axis from 0 to 15 with a 1/150 step\n",
    "y_f = amp_f * np.sin(2 * np.pi * (freq_f * x_f + phase_f)) + 8\n",
    "\n",
    "# slow flow\n",
    "amp_s = Time_under.value/5 # amplitude\n",
    "phase_s = 0 # phase\n",
    "freq_s = 20 # frequency\n",
    "x_s = np.linspace(0,15,150) # x axis from 0 to 15 with a 1/150 step\n",
    "y_s = amp_s * np.sin(2 * np.pi * (freq_s * x_s + phase_s)) + 4"
   ]
  },
  {
   "cell_type": "code",
   "execution_count": 18,
   "metadata": {},
   "outputs": [],
   "source": [
    "Q_f_sin_line = go.Scatter(x=x_f, y=y_f, mode = 'lines', line = dict(color = 'blue', width = model.QsF.mean()*2),opacity = 0.4)\n",
    "Q_s_sin_line = go.Scatter(x=x_s, y=y_s, mode = 'lines', line = dict(color = 'blue', width =  model.QsL.mean()*2),opacity = 0.8)\n",
    "\n",
    "Q_f_head = go.Scatter(x=[15.5],   y=[8], mode = 'markers', opacity = 0.4,marker = dict(symbol = 'triangle-right', size = model.QsF.mean()*6, color = 'blue'))\n",
    "Q_s_head = go.Scatter(x=[15.5],   y=[4], mode = 'markers', opacity = 0.8,marker = dict(symbol = 'triangle-right', size = model.QsL.mean()*6, color = 'blue'))\n",
    "\n",
    "flo_layout = go.Layout(width=250, height=200, margin=dict(l=0,t=50,b=0,r=0),plot_bgcolor='white',showlegend=False,\n",
    "                       xaxis = dict(range = [0,18],showticklabels=False),\n",
    "                       yaxis = dict(range = [0,10],showticklabels=False),\n",
    "                       annotations = [dict(x = 10, y = 9, text = '<b>surface flow</b>',showarrow=False,font = dict(size=15)),\n",
    "                                      dict(x = 10, y = 1, text = '<b>underground flow</b>',showarrow=False,font = dict(size=15))])\n",
    "\n",
    "fig_flo = go.FigureWidget(data   = [Q_f_sin_line,Q_s_sin_line,Q_f_head,Q_s_head],\n",
    "                          layout = flo_layout)"
   ]
  },
  {
   "cell_type": "markdown",
   "metadata": {},
   "source": [
    "#### Figure: hydrographs (with two traces: simulated and observed hydrogrphs)"
   ]
  },
  {
   "cell_type": "code",
   "execution_count": 19,
   "metadata": {},
   "outputs": [],
   "source": [
    "sim_hyd = go.Scatter(x=dates[warmup:], y=Q_sim[warmup:], name='sim hyd',line = dict(color='blue'))\n",
    "obs_hyd = go.Scatter(x=dates[warmup:], y=Q_obs[warmup:], name='obs hyd',line = dict(color='darkgrey'))\n",
    "rmse    = RMSE(Q_sim[warmup:], Q_obs[warmup:])\n",
    "fig_hyd = go.FigureWidget(data   = [sim_hyd,obs_hyd],\n",
    "                          layout = go.Layout(xaxis = dict(title = '<b>date</b>'),\n",
    "                                             yaxis = dict(range = [0,20],title = '<b>River flow</b>'),\n",
    "                                             height = 250,width=500,margin=dict(t=50,r=0,l=0),\n",
    "                                             legend = dict(x=0,y=1,bgcolor='rgba(0,0,0,0)'),\n",
    "                                             title = \"sim flow - obs flow = \"+str(\"%.0f\" % (rmse*100))))"
   ]
  },
  {
   "cell_type": "markdown",
   "metadata": {},
   "source": [
    "#### Plot"
   ]
  },
  {
   "cell_type": "code",
   "execution_count": 20,
   "metadata": {},
   "outputs": [
    {
     "data": {
      "application/vnd.jupyter.widget-view+json": {
       "model_id": "aeb282a59fa641adae0cf27773d00617",
       "version_major": 2,
       "version_minor": 0
      },
      "text/plain": [
       "VBox(children=(VBox(children=(FloatSlider(value=50.0, continuous_update=False, description='Soil storage capac…"
      ]
     },
     "metadata": {},
     "output_type": "display_data"
    }
   ],
   "source": [
    "slider_box_layout = Layout(border='solid',width='650px')\n",
    "hbox_layout = Layout(display='inline-flex',height='250px')\n",
    "vbox_layout = Layout(align_items = 'flex-start')\n",
    "widgets.VBox([widgets.VBox([Soil_sto,Evap_rate,Inf_rate, Time_surf,Time_under],layout=slider_box_layout),\n",
    "              widgets.HBox([fig_sto,fig_flo,fig_hyd],layout=hbox_layout)],layout = vbox_layout)"
   ]
  },
  {
   "cell_type": "code",
   "execution_count": null,
   "metadata": {},
   "outputs": [],
   "source": []
  }
 ],
 "metadata": {
  "kernelspec": {
   "display_name": "Python 3",
   "language": "python",
   "name": "python3"
  },
  "language_info": {
   "codemirror_mode": {
    "name": "ipython",
    "version": 3
   },
   "file_extension": ".py",
   "mimetype": "text/x-python",
   "name": "python",
   "nbconvert_exporter": "python",
   "pygments_lexer": "ipython3",
   "version": "3.7.4"
  },
  "varInspector": {
   "cols": {
    "lenName": 16,
    "lenType": 16,
    "lenVar": 40
   },
   "kernels_config": {
    "python": {
     "delete_cmd_postfix": "",
     "delete_cmd_prefix": "del ",
     "library": "var_list.py",
     "varRefreshCmd": "print(var_dic_list())"
    },
    "r": {
     "delete_cmd_postfix": ") ",
     "delete_cmd_prefix": "rm(",
     "library": "var_list.r",
     "varRefreshCmd": "cat(var_dic_list()) "
    }
   },
   "types_to_exclude": [
    "module",
    "function",
    "builtin_function_or_method",
    "instance",
    "_Feature"
   ],
   "window_display": false
  }
 },
 "nbformat": 4,
 "nbformat_minor": 2
}
