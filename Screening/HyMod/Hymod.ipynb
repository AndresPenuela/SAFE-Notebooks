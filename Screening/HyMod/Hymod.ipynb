{
 "cells": [
  {
   "cell_type": "markdown",
   "metadata": {},
   "source": [
    "# HyMOD\n",
    "HYMOD is a parsimonious rainfall-runoff model based based on the theory of runoff yeild under infiltration excess. The model structure is illustrated on the figure below.\n",
    "<left><img src=\"util/HyMOD_diagram_simple.png\" width=\"700px\">\n",
    "\n",
    "#### Import libraries"
   ]
  },
  {
   "cell_type": "code",
   "execution_count": 1,
   "metadata": {},
   "outputs": [],
   "source": [
    "import numpy as np\n",
    "import pandas as pd\n",
    "import plotly.graph_objs as go\n",
    "from plotly.subplots import make_subplots\n",
    "from ipywidgets import widgets\n",
    "\n",
    "from util.HyMOD import hymod"
   ]
  },
  {
   "cell_type": "markdown",
   "metadata": {},
   "source": [
    "## Model parameters"
   ]
  },
  {
   "cell_type": "code",
   "execution_count": 2,
   "metadata": {},
   "outputs": [
    {
     "data": {
      "text/html": [
       "<div>\n",
       "<style scoped>\n",
       "    .dataframe tbody tr th:only-of-type {\n",
       "        vertical-align: middle;\n",
       "    }\n",
       "\n",
       "    .dataframe tbody tr th {\n",
       "        vertical-align: top;\n",
       "    }\n",
       "\n",
       "    .dataframe thead th {\n",
       "        text-align: right;\n",
       "    }\n",
       "</style>\n",
       "<table border=\"1\" class=\"dataframe\">\n",
       "  <thead>\n",
       "    <tr style=\"text-align: right;\">\n",
       "      <th></th>\n",
       "      <th>Unit</th>\n",
       "      <th>Min value</th>\n",
       "      <th>Max value</th>\n",
       "      <th>Description</th>\n",
       "    </tr>\n",
       "  </thead>\n",
       "  <tbody>\n",
       "    <tr>\n",
       "      <td>c_max</td>\n",
       "      <td>mm</td>\n",
       "      <td>1.00</td>\n",
       "      <td>100.00</td>\n",
       "      <td>Maximum storage capacity</td>\n",
       "    </tr>\n",
       "    <tr>\n",
       "      <td>beta</td>\n",
       "      <td>-</td>\n",
       "      <td>0.00</td>\n",
       "      <td>2.00</td>\n",
       "      <td>Degree of spatial variability of the c_max</td>\n",
       "    </tr>\n",
       "    <tr>\n",
       "      <td>alpha</td>\n",
       "      <td>-</td>\n",
       "      <td>0.01</td>\n",
       "      <td>0.99</td>\n",
       "      <td>Factor distributing slow and quick flows</td>\n",
       "    </tr>\n",
       "    <tr>\n",
       "      <td>K_s</td>\n",
       "      <td>-</td>\n",
       "      <td>0.01</td>\n",
       "      <td>0.10</td>\n",
       "      <td>Fractional discharge of the slow release reser...</td>\n",
       "    </tr>\n",
       "    <tr>\n",
       "      <td>K_q</td>\n",
       "      <td>-</td>\n",
       "      <td>0.10</td>\n",
       "      <td>0.99</td>\n",
       "      <td>Fractional discharge of the quick release rese...</td>\n",
       "    </tr>\n",
       "  </tbody>\n",
       "</table>\n",
       "</div>"
      ],
      "text/plain": [
       "      Unit  Min value  Max value  \\\n",
       "c_max   mm       1.00     100.00   \n",
       "beta     -       0.00       2.00   \n",
       "alpha    -       0.01       0.99   \n",
       "K_s      -       0.01       0.10   \n",
       "K_q      -       0.10       0.99   \n",
       "\n",
       "                                             Description  \n",
       "c_max                           Maximum storage capacity  \n",
       "beta          Degree of spatial variability of the c_max  \n",
       "alpha           Factor distributing slow and quick flows  \n",
       "K_s    Fractional discharge of the slow release reser...  \n",
       "K_q    Fractional discharge of the quick release rese...  "
      ]
     },
     "execution_count": 2,
     "metadata": {},
     "output_type": "execute_result"
    }
   ],
   "source": [
    "data = [[\"mm\"  , 1   , 100 , \"Maximum storage capacity\"],\n",
    "        [\"-\"   , 0   , 2   , \"Degree of spatial variability of the c_max\"],\n",
    "        [\"-\"   , 0.01, 0.99, \"Factor distributing slow and quick flows\"],\n",
    "        [\"-\", 0.01, 0.10, \"Fractional discharge of the slow release reservoir\"],\n",
    "        [\"-\", 0.10, 0.99, \"Fractional discharge of the quick release reservoirs\"]]\n",
    "model_param = pd.DataFrame(data, \n",
    "                           columns=[\"Unit\", \"Min value\", \"Max value\", \"Description\"],\n",
    "                           index = [\"c_max\" , \"beta\" , \"alpha\", \"K_s\", \"K_q\"])\n",
    "model_param"
   ]
  },
  {
   "cell_type": "markdown",
   "metadata": {},
   "source": [
    "The basin is composed by a group of storages that follow a cumulative distribution F(C) where C is the value of the storage which can vary from 0 to Cmax.\n",
    "\n",
    "<left><img src=\"util/HyMOD_diagram.png\" width=\"700px\">\n",
    "    \n",
    "## Interactive manual calibration\n",
    "### Simulation time range"
   ]
  },
  {
   "cell_type": "code",
   "execution_count": 3,
   "metadata": {},
   "outputs": [],
   "source": [
    "T = 120 # days\n",
    "dates = pd.date_range(start = '2000-01-01', periods = T)"
   ]
  },
  {
   "cell_type": "markdown",
   "metadata": {},
   "source": [
    "### Inputs"
   ]
  },
  {
   "cell_type": "code",
   "execution_count": 4,
   "metadata": {},
   "outputs": [],
   "source": [
    "P = 20 * np.random.random(T)\n",
    "PET = 5 * np.random.random(T)\n",
    "init = [20,20,10,10,10]"
   ]
  },
  {
   "cell_type": "markdown",
   "metadata": {},
   "source": [
    "### Function to update the Hymod simulation when changing the parameters with the sliders"
   ]
  },
  {
   "cell_type": "code",
   "execution_count": 5,
   "metadata": {},
   "outputs": [],
   "source": [
    "def update_sim(c_max, beta, alpha, K_s, K_q):\n",
    "    model = hymod(c_max.value, beta.value, alpha.value, K_s.value, K_q.value)\n",
    "    ER, Q_q, Q_s, Q = model.simulation(P, PET, init)\n",
    "    ER_q = ER*alpha.value\n",
    "    ER_s = ER*(1-alpha.value)\n",
    "    return ER, ER_q, ER_s, Q_q, Q_s, Q"
   ]
  },
  {
   "cell_type": "markdown",
   "metadata": {},
   "source": [
    "### Function to update the figure when changing the parameters with the sliders"
   ]
  },
  {
   "cell_type": "code",
   "execution_count": 6,
   "metadata": {},
   "outputs": [],
   "source": [
    "def update_figure(change):\n",
    "    with fig_hyd.batch_animate(duration=1000):\n",
    "        fig_hyd.data[1].y = update_sim(c_max, beta, alpha, K_s, K_q)[5]\n",
    "    with fig_sto.batch_animate(duration=1000):\n",
    "        fig_sto.data[0].x = 1 - (1 - np.arange(0,c_max.value+1,1)/c_max.value)**beta.value\n",
    "        fig_sto.data[0].y = np.arange(0,c_max.value+1,1)\n",
    "        fig_sto.data[1].line.width = update_sim(c_max, beta, alpha, K_s, K_q)[0][0]\n",
    "        fig_sto.data[2].marker.size = update_sim(c_max, beta, alpha, K_s, K_q)[0][0]*3\n",
    "    with fig_flo.batch_animate(duration=1000):\n",
    "        fig_flo.data[0].line.width = update_sim(c_max, beta, alpha, K_s, K_q)[1][0]\n",
    "        fig_flo.data[1].marker.size = update_sim(c_max, beta, alpha, K_s, K_q)[1][0]*3\n",
    "        fig_flo.data[2].line.width = update_sim(c_max, beta, alpha, K_s, K_q)[2][0]\n",
    "        fig_flo.data[3].marker.size = update_sim(c_max, beta, alpha, K_s, K_q)[2][0]*3\n",
    "        fig_flo.data[6].line.width = np.mean(update_sim(c_max, beta, alpha, K_s, K_q)[3])\n",
    "        fig_flo.data[7].marker.size = np.mean(update_sim(c_max, beta, alpha, K_s, K_q)[3])*3\n",
    "        fig_flo.data[8].line.width = np.mean(update_sim(c_max, beta, alpha, K_s, K_q)[4])\n",
    "        fig_flo.data[9].marker.size = np.mean(update_sim(c_max, beta, alpha, K_s, K_q)[4])*3        "
   ]
  },
  {
   "cell_type": "markdown",
   "metadata": {},
   "source": [
    "### Definition of the sliders\n",
    "#### c_max: Maximum soil moisture storage capacity (mm)"
   ]
  },
  {
   "cell_type": "code",
   "execution_count": 7,
   "metadata": {},
   "outputs": [],
   "source": [
    "c_max = widgets.FloatSlider(min=model_param.loc['c_max','Min value'],\n",
    "                            max=model_param.loc['c_max','Max value'],\n",
    "                            value=50, step = 1,\n",
    "                            description = 'c_max: Maximum soil moisture storage capacity (mm)',\n",
    "                            continuous_update=False,\n",
    "                          style = {'description_width': '350px'} ,layout={'width': '700px'})\n",
    "c_max.observe(update_figure,names = 'value')"
   ]
  },
  {
   "cell_type": "markdown",
   "metadata": {},
   "source": [
    "#### beta: Degree of spatial variability of the c_max"
   ]
  },
  {
   "cell_type": "code",
   "execution_count": 8,
   "metadata": {},
   "outputs": [],
   "source": [
    "beta = widgets.FloatSlider(min=model_param.loc['beta','Min value'],\n",
    "                           max=model_param.loc['beta','Max value'],\n",
    "                           value=1, step = 0.01,\n",
    "                           description = 'beta: Degree of spatial variability of the c_max',\n",
    "                           continuous_update=False,\n",
    "                          style = {'description_width': '350px'} ,layout={'width': '700px'})\n",
    "beta.observe(update_figure,names = 'value')"
   ]
  },
  {
   "cell_type": "markdown",
   "metadata": {},
   "source": [
    "#### alpha: Factor distributing slow and quick flows"
   ]
  },
  {
   "cell_type": "code",
   "execution_count": 9,
   "metadata": {},
   "outputs": [],
   "source": [
    "alpha = widgets.FloatSlider(min=model_param.loc['alpha','Min value'],\n",
    "                            max=model_param.loc['alpha','Max value'],\n",
    "                            value=0.5, step = 0.01, \n",
    "                            description = 'alpha: Factor distributing slow (s) and quick (q) flows (q/s)',\n",
    "                            continuous_update=False,\n",
    "                          style = {'description_width': '350px'} ,layout={'width': '700px'})\n",
    "alpha.observe(update_figure,names = 'value')"
   ]
  },
  {
   "cell_type": "markdown",
   "metadata": {},
   "source": [
    "#### K_s: Fractional discharge of the slow release reservoir"
   ]
  },
  {
   "cell_type": "code",
   "execution_count": 10,
   "metadata": {},
   "outputs": [],
   "source": [
    "K_s = widgets.FloatSlider(min=model_param.loc['K_s','Min value'],\n",
    "                          max=model_param.loc['K_s','Max value'],\n",
    "                          value=0.05, step = 0.01, \n",
    "                          description = 'K_s: Fractional discharge of slow release reservoir',\n",
    "                          continuous_update=False,\n",
    "                          style = {'description_width': '350px'} ,layout={'width': '700px'})\n",
    "K_s.observe(update_figure,names = 'value')"
   ]
  },
  {
   "cell_type": "markdown",
   "metadata": {},
   "source": [
    "#### K_q: Fractional discharge of the quick release reservoir"
   ]
  },
  {
   "cell_type": "code",
   "execution_count": 11,
   "metadata": {},
   "outputs": [],
   "source": [
    "K_q = widgets.FloatSlider(min=model_param.loc['K_q','Min value'],\n",
    "                          max=model_param.loc['K_q','Max value'],\n",
    "                          value=0.55, step = 0.01,\n",
    "                          description = 'K_q: Fractional discharge of quick release reservoir',\n",
    "                          continuous_update=False,\n",
    "                          style = {'description_width': '350px'} ,layout={'width': '700px'})\n",
    "K_q.observe(update_figure,names = 'value')"
   ]
  },
  {
   "cell_type": "markdown",
   "metadata": {},
   "source": [
    "### Observed hydrograph"
   ]
  },
  {
   "cell_type": "code",
   "execution_count": 12,
   "metadata": {},
   "outputs": [],
   "source": [
    "c_max_obs = np.random.uniform(model_param.loc['c_max','Min value'], model_param.loc['c_max','Max value'])\n",
    "beta_obs  = np.random.uniform(model_param.loc['beta','Min value'],  model_param.loc['beta','Max value'])\n",
    "alpha_obs = np.random.uniform(model_param.loc['alpha','Min value'], model_param.loc['alpha','Max value'])\n",
    "K_s_obs   = np.random.uniform(model_param.loc['K_s','Min value'],   model_param.loc['K_s','Max value'])\n",
    "K_q_obs   = np.random.uniform(model_param.loc['K_q','Min value'],   model_param.loc['K_q','Max value'])"
   ]
  },
  {
   "cell_type": "code",
   "execution_count": 13,
   "metadata": {},
   "outputs": [],
   "source": [
    "model_obs = hymod(c_max_obs, beta_obs, alpha_obs, K_s_obs, K_q_obs)\n",
    "ER_obs, Q_q_obs,Q_s_obs,Q_obs = model_obs.simulation(P, PET, init)"
   ]
  },
  {
   "cell_type": "markdown",
   "metadata": {},
   "source": [
    "### Plot the interactive figure\n",
    "#### Initial simulation"
   ]
  },
  {
   "cell_type": "code",
   "execution_count": 14,
   "metadata": {},
   "outputs": [],
   "source": [
    "model = hymod(c_max.value, beta.value, alpha.value, K_s.value, K_q.value)\n",
    "ER_sim, Q_q_sim,Q_s_sim, Q_sim = model.simulation(P, PET, init)\n",
    "ER_q_sim = ER_sim * alpha.value\n",
    "ER_s_sim = ER_sim * (1-alpha.value)\n",
    "c = np.arange(0,c_max.value,1)\n",
    "F_c = 1 - (1 - c/c_max.value)**beta.value"
   ]
  },
  {
   "cell_type": "code",
   "execution_count": 15,
   "metadata": {},
   "outputs": [
    {
     "data": {
      "text/plain": [
       "3.3914438913229623"
      ]
     },
     "execution_count": 15,
     "metadata": {},
     "output_type": "execute_result"
    }
   ],
   "source": [
    "np.mean(Q_q_sim)\n",
    "np.mean(Q_s_sim)"
   ]
  },
  {
   "cell_type": "markdown",
   "metadata": {},
   "source": [
    "#### Figure: hydrographs (with two traces: simulated and observed hydrogrphs)"
   ]
  },
  {
   "cell_type": "code",
   "execution_count": 16,
   "metadata": {},
   "outputs": [],
   "source": [
    "sim_hyd = go.Scatter(x=dates, y=Q_sim, name='sim hyd')\n",
    "obs_hyd = go.Scatter(x=dates, y=Q_obs, name='obs hyd')\n",
    "fig_hyd = go.FigureWidget(data   = [obs_hyd,sim_hyd],\n",
    "                          layout = go.Layout(xaxis = dict(title = 'date'),\n",
    "                                             yaxis = dict(range = [0,20],title = 'Q')))"
   ]
  },
  {
   "cell_type": "markdown",
   "metadata": {},
   "source": [
    "#### Figure: storage capacity"
   ]
  },
  {
   "cell_type": "code",
   "execution_count": 17,
   "metadata": {},
   "outputs": [],
   "source": [
    "sto_trace = go.Scatter(x=F_c, y=c, name=None, fill=\"tozeroy\", fillcolor = 'sandybrown',mode='none')\n",
    "ER_line = go.Scatter(x=[0.01,0.4], y=[50,50], mode = 'lines', line = dict(color = 'blue', width = ER_sim[0]),opacity = 0.9)\n",
    "ER_head = go.Scatter(x=[-0.01], y=[50], mode = 'markers', opacity = 0.9, marker = dict(symbol = 'triangle-right', size = ER_sim[0]*3, color = 'blue'))\n",
    "sto_layout = go.Layout(xaxis = dict(title = 'F(c)',autorange='reversed',range = [1,0], showgrid = False),\n",
    "                       yaxis = dict(range = [0,model_param.loc['c_max','Max value']],\n",
    "                                    title = 'mm', showgrid = False),\n",
    "                       width=350, height=350, plot_bgcolor=None, showlegend=False,\n",
    "                       annotations = [dict(x = 0.55, y = 5, text = 'Soil storage capacity',showarrow=False),\n",
    "                                      dict(x = 0.3, y = 60, text = 'Effective rain',showarrow=False)])\n",
    "fig_sto = go.FigureWidget(data   = [sto_trace,ER_line,ER_head],\n",
    "                          layout = sto_layout)"
   ]
  },
  {
   "cell_type": "markdown",
   "metadata": {},
   "source": [
    "#### Figure: quick and slow flow"
   ]
  },
  {
   "cell_type": "code",
   "execution_count": 18,
   "metadata": {},
   "outputs": [],
   "source": [
    "ER_q_line = go.Scatter(x=[0,5], y=[8,8], mode = 'lines', line = dict(color = 'blue', width = ER_q_sim[0]),opacity = 0.7)\n",
    "ER_q_head = go.Scatter(x=[5],   y=[8], mode = 'markers', opacity = 0.7,marker = dict(symbol = 'triangle-right', size = ER_q_sim[0]*3, color = 'blue'))\n",
    "ER_s_line = go.Scatter(x=[0,5], y=[7.5,3], mode = 'lines', line = dict(color = 'blue', width = ER_s_sim[0]),opacity = 0.4)\n",
    "ER_s_head = go.Scatter(x=[5],   y=[3], mode = 'markers', opacity = 0.4,marker = dict(symbol = 'triangle-se', size = ER_s_sim[0]*3, color = 'blue'))\n",
    "\n",
    "res_q = go.Scatter(x=[6,14], y=[8,8], mode = 'lines', line = dict(color = 'blue', width = 80),opacity = 0.7)\n",
    "res_s = go.Scatter(x=[6,14], y=[3,3], mode = 'lines', line = dict(color = 'blue', width = 80),opacity = 0.4)\n",
    "\n",
    "Q_q_line = go.Scatter(x=[15,20], y=[8,8], mode = 'lines', line = dict(color = 'blue', width = np.mean(Q_q_sim)),opacity = 0.7)\n",
    "Q_q_head = go.Scatter(x=[20],   y=[8], mode = 'markers', opacity = 0.7,marker = dict(symbol = 'triangle-right', size = np.mean(Q_q_sim)*3, color = 'blue'))\n",
    "Q_s_line = go.Scatter(x=[15,20], y=[3,7.5], mode = 'lines', line = dict(color = 'blue', width = np.mean(Q_s_sim)),opacity = 0.4)\n",
    "Q_s_head = go.Scatter(x=[20],   y=[7.5], mode = 'markers', opacity = 0.4,marker = dict(symbol = 'triangle-ne', size = np.mean(Q_s_sim)*3, color = 'blue'))\n",
    "\n",
    "flo_layout = go.Layout(width=650, height=450,plot_bgcolor='white',showlegend=False,\n",
    "                       xaxis = dict(range = [0,22],showticklabels=False),\n",
    "                       yaxis = dict(range = [0,10],showticklabels=False),\n",
    "                       annotations = [dict(x = 2, y = 9, text = 'quick EC',showarrow=False),\n",
    "                                      dict(x = 10, y = 9, text = 'quick reservoir',showarrow=False),\n",
    "                                      dict(x = 18, y = 9, text = 'quick flow',showarrow=False),\n",
    "                                      dict(x = 2, y = 4, text = 'slow EC',showarrow=False),\n",
    "                                      dict(x = 10, y = 4, text = 'slow reservoir',showarrow=False),\n",
    "                                      dict(x = 18, y = 4, text = 'slow flow',showarrow=False)])\n",
    "\n",
    "fig_flo = go.FigureWidget(data   = [ER_q_line,ER_q_head,ER_s_line,ER_s_head,res_q,res_s,\n",
    "                                    Q_q_line,Q_q_head,Q_s_line,Q_s_head],\n",
    "                          layout = flo_layout)"
   ]
  },
  {
   "cell_type": "markdown",
   "metadata": {},
   "source": [
    "#### Plot"
   ]
  },
  {
   "cell_type": "code",
   "execution_count": 19,
   "metadata": {},
   "outputs": [
    {
     "data": {
      "application/vnd.jupyter.widget-view+json": {
       "model_id": "e001ff1bcbdd43a8b6b66aceeb91ad26",
       "version_major": 2,
       "version_minor": 0
      },
      "text/plain": [
       "VBox(children=(VBox(children=(FloatSlider(value=50.0, continuous_update=False, description='c_max: Maximum soi…"
      ]
     },
     "metadata": {},
     "output_type": "display_data"
    }
   ],
   "source": [
    "widgets.VBox([widgets.VBox([c_max,beta,alpha,K_s, K_q]),\n",
    "              widgets.HBox([fig_sto,fig_flo]),fig_hyd])"
   ]
  },
  {
   "cell_type": "code",
   "execution_count": null,
   "metadata": {},
   "outputs": [],
   "source": []
  },
  {
   "cell_type": "code",
   "execution_count": null,
   "metadata": {},
   "outputs": [],
   "source": []
  }
 ],
 "metadata": {
  "kernelspec": {
   "display_name": "Python 3",
   "language": "python",
   "name": "python3"
  },
  "language_info": {
   "codemirror_mode": {
    "name": "ipython",
    "version": 3
   },
   "file_extension": ".py",
   "mimetype": "text/x-python",
   "name": "python",
   "nbconvert_exporter": "python",
   "pygments_lexer": "ipython3",
   "version": "3.7.4"
  },
  "varInspector": {
   "cols": {
    "lenName": 16,
    "lenType": 16,
    "lenVar": 40
   },
   "kernels_config": {
    "python": {
     "delete_cmd_postfix": "",
     "delete_cmd_prefix": "del ",
     "library": "var_list.py",
     "varRefreshCmd": "print(var_dic_list())"
    },
    "r": {
     "delete_cmd_postfix": ") ",
     "delete_cmd_prefix": "rm(",
     "library": "var_list.r",
     "varRefreshCmd": "cat(var_dic_list()) "
    }
   },
   "types_to_exclude": [
    "module",
    "function",
    "builtin_function_or_method",
    "instance",
    "_Feature"
   ],
   "window_display": false
  }
 },
 "nbformat": 4,
 "nbformat_minor": 2
}
