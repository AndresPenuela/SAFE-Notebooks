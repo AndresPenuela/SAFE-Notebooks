{
 "cells": [
  {
   "cell_type": "markdown",
   "metadata": {},
   "source": [
    "# Predator prey model\n",
    "\n",
    "This model simulates the evolution in time of the population of two species. One species, the prey, is the primary source of food source for the other, the predator. The predator-prey food chain persists over time thanks to a **negative feedback loop**, i.e. when the product of a reaction leads to a decrease in that reaction. When predators eat preys, they reduce their population but this drop in the predators food source will soon cause the predator population to decline. This will also reduce the predation rate allowing the prey population to increase again. This cycle creates an up and down wavelike pattern that maintain a long-term equilibrium.\n",
    "\n",
    "<left><img src=\"util/predator_prey_equil.gif\" width=\"700px\">\n",
    "\n",
    "## Model assumptions\n",
    "- The food supply of the predator population depends entirely on the size of the prey population.\n",
    "- The rate of change of population is proportional to its size.\n",
    "- Predators have limitless appetite.\n",
    "- If the prey population grows beyond the carrying capacity of the environment, then their population would be wiped out as all the available food resources would have been consumed.\n",
    "- Preys only die as a result of predator attacks.\n",
    "\n",
    "## Model parameters\n",
    "- Initial number of predators\n",
    "- Attack rate of predators: number of times that a predator attacks per week\n",
    "- Efficiency rate of predators: number of encounters per week that resulted in a kill\n",
    "- Death rate of predators: fraction of the predator population that dies per week\n",
    "- Initial number of preys\n",
    "- Growth rate of preys: number of preys that are born per week\n",
    "- Carrying capacity of environment: maximum number of preys that the environment can sustain\n",
    "\n",
    "## Model outputs\n",
    "- Daily predator population\n",
    "- Daily prey population"
   ]
  },
  {
   "cell_type": "markdown",
   "metadata": {},
   "source": [
    "#### Import libraries"
   ]
  },
  {
   "cell_type": "code",
   "execution_count": 1,
   "metadata": {},
   "outputs": [],
   "source": [
    "import numpy as np # import neccissary libraries for using matplotlib\n",
    "import plotly.graph_objs as go\n",
    "from ipywidgets import widgets\n",
    "import util.predator_prey_model as predator_prey_model"
   ]
  },
  {
   "cell_type": "markdown",
   "metadata": {},
   "source": [
    "#### Simulation time range"
   ]
  },
  {
   "cell_type": "code",
   "execution_count": 2,
   "metadata": {},
   "outputs": [],
   "source": [
    "T = 3000 # days\n",
    "time_range = np.arange(1,T)"
   ]
  },
  {
   "cell_type": "markdown",
   "metadata": {},
   "source": [
    "### Function to update the simulation when changing the parameters with the sliders"
   ]
  },
  {
   "cell_type": "code",
   "execution_count": 3,
   "metadata": {},
   "outputs": [],
   "source": [
    "def update_sim(predator_ini,attack_rate,death_rate,efficiency_rate,prey_ini,growth_rate,carrying_capacity):\n",
    "    predator = predator_prey_model.predator(predator_ini.value,attack_rate.value,death_rate.value,efficiency_rate.value)\n",
    "    prey = predator_prey_model.prey(prey_ini.value,growth_rate.value)\n",
    "    environment = predator_prey_model.environment(carrying_capacity.value)\n",
    "    predator_pop,prey_pop = predator_prey_model.simulation(T,predator,prey,environment)\n",
    "    return predator_pop,prey_pop"
   ]
  },
  {
   "cell_type": "markdown",
   "metadata": {},
   "source": [
    "### Function to update the figure when changing the parameters with the sliders"
   ]
  },
  {
   "cell_type": "code",
   "execution_count": 4,
   "metadata": {},
   "outputs": [],
   "source": [
    "def update_figure(change):\n",
    "    with fig.batch_animate(duration=1000):\n",
    "        fig.data[0].y = update_sim(predator_ini,attack_rate,death_rate,efficiency_rate,prey_ini,growth_rate,carrying_capacity)[0]\n",
    "        fig.data[1].y = update_sim(predator_ini,attack_rate,death_rate,efficiency_rate,prey_ini,growth_rate,carrying_capacity)[1]"
   ]
  },
  {
   "cell_type": "markdown",
   "metadata": {},
   "source": [
    "### Definition of the sliders\n",
    "#### Initial number of predators"
   ]
  },
  {
   "cell_type": "code",
   "execution_count": 5,
   "metadata": {},
   "outputs": [],
   "source": [
    "predator_ini = widgets.IntSlider(min=1,\n",
    "                            max=10,\n",
    "                            value=5, step = 1,\n",
    "                            description = 'Predator initial pop: ',\n",
    "                            continuous_update=False,\n",
    "                            style = {'description_width': '300px'} ,layout={'width': '700px'})\n",
    "predator_ini.observe(update_figure,names = 'value')"
   ]
  },
  {
   "cell_type": "markdown",
   "metadata": {},
   "source": [
    "#### Attack rate of predators"
   ]
  },
  {
   "cell_type": "code",
   "execution_count": 6,
   "metadata": {},
   "outputs": [],
   "source": [
    "attack_rate = widgets.FloatSlider(min=0.1,\n",
    "                           max=1,\n",
    "                           value=0.5, step = 0.01,\n",
    "                           description = 'Predator attack rate: ',\n",
    "                           continuous_update=False,\n",
    "                            style = {'description_width': '300px'} ,layout={'width': '700px'})\n",
    "attack_rate.observe(update_figure,names = 'value')"
   ]
  },
  {
   "cell_type": "markdown",
   "metadata": {},
   "source": [
    "#### Efficiency rate of predators"
   ]
  },
  {
   "cell_type": "code",
   "execution_count": 7,
   "metadata": {},
   "outputs": [],
   "source": [
    "efficiency_rate = widgets.FloatSlider(min=0.1,\n",
    "                          max=1,\n",
    "                          value=0.5, step = 0.01, \n",
    "                          description = 'Predator efficiency: ',\n",
    "                          continuous_update=False,\n",
    "                            style = {'description_width': '300px'} ,layout={'width': '700px'})\n",
    "efficiency_rate.observe(update_figure,names = 'value')"
   ]
  },
  {
   "cell_type": "markdown",
   "metadata": {},
   "source": [
    "#### Death rate of predators"
   ]
  },
  {
   "cell_type": "code",
   "execution_count": 8,
   "metadata": {},
   "outputs": [],
   "source": [
    "death_rate = widgets.FloatSlider(min=0.1,\n",
    "                            max=1,\n",
    "                            value=0.5, step = 0.01, \n",
    "                            description = 'Predator death rate: ',\n",
    "                            continuous_update=False,\n",
    "                            style = {'description_width': '300px'} ,layout={'width': '700px'})\n",
    "death_rate.observe(update_figure,names = 'value')"
   ]
  },
  {
   "cell_type": "markdown",
   "metadata": {},
   "source": [
    "#### Initial number of preys"
   ]
  },
  {
   "cell_type": "code",
   "execution_count": 9,
   "metadata": {},
   "outputs": [],
   "source": [
    "prey_ini = widgets.IntSlider(min=1,\n",
    "                            max=10,\n",
    "                            value=5, step = 1,\n",
    "                            description = 'Prey initial pop: ',\n",
    "                            continuous_update=False,\n",
    "                            style = {'description_width': '300px'} ,layout={'width': '700px'})\n",
    "prey_ini.observe(update_figure,names = 'value')"
   ]
  },
  {
   "cell_type": "markdown",
   "metadata": {},
   "source": [
    "#### Growth rate of preys"
   ]
  },
  {
   "cell_type": "code",
   "execution_count": 10,
   "metadata": {},
   "outputs": [],
   "source": [
    "growth_rate = widgets.FloatSlider(min=0.001,\n",
    "                            max=2,\n",
    "                            value=1, step = 0.1, \n",
    "                            description = 'Growth rate of preys: ',\n",
    "                            continuous_update=False,\n",
    "                            style = {'description_width': '300px'} ,layout={'width': '700px'})\n",
    "growth_rate.observe(update_figure,names = 'value')"
   ]
  },
  {
   "cell_type": "markdown",
   "metadata": {},
   "source": [
    "#### Carrying capacity of environment"
   ]
  },
  {
   "cell_type": "code",
   "execution_count": 11,
   "metadata": {},
   "outputs": [],
   "source": [
    "carrying_capacity = widgets.IntSlider(min=1,\n",
    "                            max=20,\n",
    "                            value=15, step = 1, \n",
    "                            description = 'Carrying capacity of environment: ',\n",
    "                            continuous_update=False,\n",
    "                            style = {'description_width': '300px'} ,layout={'width': '700px'})\n",
    "carrying_capacity.observe(update_figure,names = 'value')"
   ]
  },
  {
   "cell_type": "markdown",
   "metadata": {},
   "source": [
    "### Plot the interactive figure\n",
    "#### Initial simulation"
   ]
  },
  {
   "cell_type": "code",
   "execution_count": 12,
   "metadata": {},
   "outputs": [],
   "source": [
    "predator_pop,prey_pop = update_sim(predator_ini,attack_rate,death_rate,efficiency_rate,prey_ini,growth_rate,carrying_capacity)"
   ]
  },
  {
   "cell_type": "markdown",
   "metadata": {},
   "source": [
    "#### Figure with two traces: predator and prey populations ###"
   ]
  },
  {
   "cell_type": "code",
   "execution_count": 17,
   "metadata": {},
   "outputs": [],
   "source": [
    "predator_trace = go.Scatter(x=time_range, y=predator_pop, name='predator', marker_color = 'red')\n",
    "prey_trace = go.Scatter(x=time_range, y=prey_pop, name='prey', marker_color = 'blue')\n",
    "fig = go.FigureWidget(data   = [predator_trace,prey_trace],\n",
    "                      layout = go.Layout(xaxis = dict(title = 'days', range = [1,365],\n",
    "                                                      rangeslider=dict(visible=True,range=[1,T])),\n",
    "                                         yaxis = dict(range = [0,carrying_capacity.max+1],\n",
    "                                         title = 'population'),\n",
    "                                         margin=dict(t=30)))"
   ]
  },
  {
   "cell_type": "markdown",
   "metadata": {},
   "source": [
    "#### Plot"
   ]
  },
  {
   "cell_type": "code",
   "execution_count": 18,
   "metadata": {},
   "outputs": [
    {
     "data": {
      "application/vnd.jupyter.widget-view+json": {
       "model_id": "2bab703ce6f645ed984cce2ddd66d498",
       "version_major": 2,
       "version_minor": 0
      },
      "text/plain": [
       "VBox(children=(VBox(children=(IntSlider(value=2, continuous_update=False, description='Predator initial pop: '…"
      ]
     },
     "metadata": {},
     "output_type": "display_data"
    }
   ],
   "source": [
    "widgets.VBox([widgets.VBox([predator_ini,attack_rate,efficiency_rate,death_rate,prey_ini,growth_rate,carrying_capacity]),\n",
    "              fig])"
   ]
  },
  {
   "cell_type": "code",
   "execution_count": null,
   "metadata": {},
   "outputs": [],
   "source": []
  }
 ],
 "metadata": {
  "kernelspec": {
   "display_name": "Python 3",
   "language": "python",
   "name": "python3"
  },
  "language_info": {
   "codemirror_mode": {
    "name": "ipython",
    "version": 3
   },
   "file_extension": ".py",
   "mimetype": "text/x-python",
   "name": "python",
   "nbconvert_exporter": "python",
   "pygments_lexer": "ipython3",
   "version": "3.7.4"
  }
 },
 "nbformat": 4,
 "nbformat_minor": 4
}
