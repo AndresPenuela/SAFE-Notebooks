{
 "cells": [
  {
   "cell_type": "markdown",
   "metadata": {},
   "source": [
    "# The flu model\n",
    "\n",
    "<left><img src=\"util/scooby_doo.gif\" width=\"400px\">\n",
    "    \n",
    "The flu model is a simple mathematical description of the spread of a flu in a small town. The model divides the population of N individuals into four \"compartments\" which may vary as a function of time, t:\n",
    "\n",
    "V(t) are those vulnerable but not yet infected with the flu;\n",
    "\n",
    "S(t) is the number of sick individuals;\n",
    "\n",
    "RI(t) are those individuals who either are immune or have recovered from the flu and now have immunity to it.\n",
    "\n",
    "D(t) are those individuals who deceased.\n",
    "\n",
    "### Model parameters\n",
    "\n",
    "The model describes the change in the population of each of these compartments in terms of three parameters, β, γ and α. \n",
    "\n",
    "β describes the effective contact rate of the flu: an infected individual comes into contact with βN other individuals per unit time (of which the fraction that are vulnerable to contracting the flu is V/N). \n",
    "\n",
    "γ is the mean recovery rate: that is, 1/γ is the mean period of time during which a sick individual can pass it on.\n",
    "\n",
    "α describes the death rate of the flu: ratio of sick individuals αS that deceased per unit time (of which the fraction that are sick is S/N). \n",
    "\n",
    "### Model equations\n",
    "\n",
    "The differential equations describing are based on the Kermack-McKendrick model [Proc. R. Soc. A, 115, 772 (1927)]:\n",
    "\n",
    "\\begin{equation*}\n",
    "\\frac{dV}{dt}=-\\frac{βVS}{N}\n",
    "\\end{equation*}\n",
    "\n",
    "\\begin{equation*}\n",
    "\\frac{dS}{dt}=\\frac{βVS}{N}-γS -\\frac{αSS}{N}\n",
    "\\end{equation*}\n",
    "\n",
    "\\begin{equation*}\n",
    "\\frac{dR}{dt}=γS\n",
    "\\end{equation*}\n",
    "\n",
    "\\begin{equation*}\n",
    "\\frac{dD}{dt}=\\frac{αSS}{N}\n",
    "\\end{equation*}\n",
    "\n",
    "The following Python code integrates these equations for a flu in a small town of N=1000 people.\n",
    "\n",
    "#### Import libraries"
   ]
  },
  {
   "cell_type": "code",
   "execution_count": 1,
   "metadata": {},
   "outputs": [],
   "source": [
    "import numpy as np\n",
    "import plotly.graph_objs as go\n",
    "from ipywidgets import widgets\n",
    "\n",
    "import util.flu_model as flu_model"
   ]
  },
  {
   "cell_type": "markdown",
   "metadata": {},
   "source": [
    "#### Simulation time range"
   ]
  },
  {
   "cell_type": "code",
   "execution_count": 2,
   "metadata": {},
   "outputs": [],
   "source": [
    "T = 1000 # days\n",
    "time_range = np.arange(1,T+1)\n",
    "population = 100"
   ]
  },
  {
   "cell_type": "markdown",
   "metadata": {},
   "source": [
    "## Interactive figure\n",
    "### Function to update the simulation when changing the parameters with the sliders"
   ]
  },
  {
   "cell_type": "code",
   "execution_count": 3,
   "metadata": {},
   "outputs": [],
   "source": [
    "def update_sim(T, RI_0, S_0, beta, recovery_time, alpha):\n",
    "    population = flu_model.population(N, RI_0.value, S_0.value, 0)\n",
    "    D, S, RI, V = flu_model.simulation(time_range, population, beta.value, 1/recovery_time.value, alpha.value)\n",
    "    return D, S, RI, V"
   ]
  },
  {
   "cell_type": "markdown",
   "metadata": {},
   "source": [
    "### Function to update the figure when changing the parameters with the sliders"
   ]
  },
  {
   "cell_type": "code",
   "execution_count": 4,
   "metadata": {},
   "outputs": [],
   "source": [
    "def update_figure(change):\n",
    "    with fig_flu.batch_animate(duration=0):\n",
    "        fig_flu.data[0].y = update_sim(T, RI_0, S_0, beta, recovery_time, alpha)[0]\n",
    "        fig_flu.data[1].y = update_sim(T, RI_0, S_0, beta, recovery_time, alpha)[1]\n",
    "        fig_flu.data[2].y = update_sim(T, RI_0, S_0, beta, recovery_time, alpha)[2]\n",
    "        fig_flu.data[3].y = update_sim(T, RI_0, S_0, beta, recovery_time, alpha)[3]"
   ]
  },
  {
   "cell_type": "markdown",
   "metadata": {},
   "source": [
    "### Definition of the sliders\n",
    "#### Ratio of population who is initially immune"
   ]
  },
  {
   "cell_type": "code",
   "execution_count": 5,
   "metadata": {},
   "outputs": [],
   "source": [
    "# Ratio of population who is immune slider\n",
    "RI_0 = widgets.FloatSlider(min = 0.0,\n",
    "                        max = 1,\n",
    "                        value = 0.05, step = 0.01,\n",
    "                        description = 'Ratio of population who is initially immune: ',\n",
    "                        continuous_update=True,\n",
    "                        style = {'description_width': '300px'} ,\n",
    "                        layout={'width': '700px'})\n",
    "RI_0.observe(update_figure,names = 'value')"
   ]
  },
  {
   "cell_type": "markdown",
   "metadata": {},
   "source": [
    "#### Initial number of sick individuals"
   ]
  },
  {
   "cell_type": "code",
   "execution_count": 6,
   "metadata": {},
   "outputs": [],
   "source": [
    "# Initial number of sick individuals\n",
    "S_0 = widgets.IntSlider(min = 1,\n",
    "                        max = 10,\n",
    "                        value = 5, step = 1,\n",
    "                        description = 'Initial number of sick individuals: ',\n",
    "                        continuous_update=True,\n",
    "                        style = {'description_width': '300px'} ,\n",
    "                        layout={'width': '700px'})\n",
    "S_0.observe(update_figure,names = 'value')"
   ]
  },
  {
   "cell_type": "markdown",
   "metadata": {},
   "source": [
    "#### Contact rate per day (β)"
   ]
  },
  {
   "cell_type": "code",
   "execution_count": 7,
   "metadata": {},
   "outputs": [],
   "source": [
    "# Beta slider\n",
    "beta = widgets.FloatSlider(min = 0.0,\n",
    "                           max = 1,\n",
    "                           value = 0.20, step = 0.01,\n",
    "                           description = 'Contact rate per day: ',\n",
    "                           continuous_update=True,\n",
    "                           style = {'description_width': '300px'} ,\n",
    "                           layout={'width': '700px'})\n",
    "beta.observe(update_figure,names = 'value')"
   ]
  },
  {
   "cell_type": "markdown",
   "metadata": {},
   "source": [
    "#### Recovery time (1/γ) in days"
   ]
  },
  {
   "cell_type": "code",
   "execution_count": 8,
   "metadata": {},
   "outputs": [],
   "source": [
    "# Gamma slider\n",
    "recovery_time = widgets.IntSlider(min = 0,\n",
    "                           max = 20,\n",
    "                           value = 15, step = 1,\n",
    "                           description = 'Recovery time (days): ',\n",
    "                           continuous_update=True,\n",
    "                           style = {'description_width': '300px'} ,\n",
    "                           layout={'width': '700px'})\n",
    "recovery_time.observe(update_figure,names = 'value')"
   ]
  },
  {
   "cell_type": "markdown",
   "metadata": {},
   "source": [
    "#### Death rate per day (alpha)"
   ]
  },
  {
   "cell_type": "code",
   "execution_count": 9,
   "metadata": {},
   "outputs": [],
   "source": [
    "# Alpha slider\n",
    "alpha = widgets.FloatSlider(min = 0.0,\n",
    "                           max = 0.1,\n",
    "                           value = 0.01, step = 0.01,\n",
    "                           description = 'Death rate per day: ',\n",
    "                           continuous_update=True,\n",
    "                           style = {'description_width': '300px'} ,\n",
    "                           layout={'width': '700px'})\n",
    "alpha.observe(update_figure,names = 'value')"
   ]
  },
  {
   "cell_type": "markdown",
   "metadata": {},
   "source": [
    "### Plot the interactive figure\n",
    "#### Initial simulation"
   ]
  },
  {
   "cell_type": "code",
   "execution_count": 10,
   "metadata": {},
   "outputs": [],
   "source": [
    "N = 100 # population\n",
    "population = flu_model.population(N, RI_0.value, S_0.value, 0)\n",
    "D, S, RI, V = flu_model.simulation(time_range, population, beta.value, 1/recovery_time.value, alpha.value)"
   ]
  },
  {
   "cell_type": "markdown",
   "metadata": {},
   "source": [
    "#### Plot the data on four separate curves for V(t), S(t), RI(t) and D(t)"
   ]
  },
  {
   "cell_type": "code",
   "execution_count": 11,
   "metadata": {},
   "outputs": [],
   "source": [
    "D_trace  = go.Scatter(x=time_range, y=D,  name='Deceased', mode='lines',line=dict(width=0, color='black'),stackgroup='one')\n",
    "S_trace  = go.Scatter(x=time_range, y=S,  name='Sick',  mode='lines',line=dict(width=0, color = 'red'),stackgroup='one')\n",
    "RI_trace = go.Scatter(x=time_range, y=RI, name='Recovered + Immune', mode='lines',line=dict(width=0, color = 'green'),stackgroup='one')\n",
    "V_trace  = go.Scatter(x=time_range, y=V,  name='Vulnerable', mode='lines',line=dict(width=0, color = 'blue'),stackgroup='one')\n",
    "\n",
    "fig_flu  = go.FigureWidget(data   = [D_trace,S_trace,RI_trace,V_trace],\n",
    "                          layout = go.Layout(xaxis = dict(range = [1,100],title = 'days',rangeslider=dict(visible=True,range=[1,T])),\n",
    "                                             yaxis = dict(range = [0,N],title = 'population'),\n",
    "                                             height = 400))"
   ]
  },
  {
   "cell_type": "markdown",
   "metadata": {},
   "source": [
    "#### Plot"
   ]
  },
  {
   "cell_type": "code",
   "execution_count": 12,
   "metadata": {},
   "outputs": [
    {
     "data": {
      "application/vnd.jupyter.widget-view+json": {
       "model_id": "f9c61d1b40e44efdb0d4150c5f743ea0",
       "version_major": 2,
       "version_minor": 0
      },
      "text/plain": [
       "VBox(children=(VBox(children=(FloatSlider(value=0.05, description='Ratio of population who is initially immune…"
      ]
     },
     "metadata": {},
     "output_type": "display_data"
    }
   ],
   "source": [
    "widgets.VBox([widgets.VBox([RI_0, S_0, beta, recovery_time, alpha]),\n",
    "              fig_flu])"
   ]
  },
  {
   "cell_type": "code",
   "execution_count": null,
   "metadata": {},
   "outputs": [],
   "source": []
  }
 ],
 "metadata": {
  "kernelspec": {
   "display_name": "Python 3",
   "language": "python",
   "name": "python3"
  },
  "language_info": {
   "codemirror_mode": {
    "name": "ipython",
    "version": 3
   },
   "file_extension": ".py",
   "mimetype": "text/x-python",
   "name": "python",
   "nbconvert_exporter": "python",
   "pygments_lexer": "ipython3",
   "version": "3.7.4"
  }
 },
 "nbformat": 4,
 "nbformat_minor": 4
}
