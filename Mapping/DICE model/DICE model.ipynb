{
 "cells": [
  {
   "cell_type": "markdown",
   "metadata": {},
   "source": [
    "# DICE model\n",
    "This is a simplified version of the DICE model implemented in Python.\n",
    "\n",
    "The Dynamic Integrated Climate-Economy model, referred to as the DICE model, is a computer-based integrated assessment model that “integrates in an end-to-end fashion the economics, carbon cycle, climate science, and impacts in a highly aggregated model that allows a weighing of the costs and benefits of taking steps to slow greenhouse warming.\"\n",
    "\n",
    "<left><img src=\"util/simple_DICE_diagram.png\" width=\"700px\">"
   ]
  },
  {
   "cell_type": "markdown",
   "metadata": {},
   "source": [
    "#### Import libraries"
   ]
  },
  {
   "cell_type": "code",
   "execution_count": 1,
   "metadata": {},
   "outputs": [],
   "source": [
    "import numpy as np\n",
    "import plotly.graph_objs as go\n",
    "from plotly.subplots import make_subplots\n",
    "from ipywidgets import widgets\n",
    "\n",
    "from util.simple_DICE import simple_DICE"
   ]
  },
  {
   "cell_type": "markdown",
   "metadata": {},
   "source": [
    "#### Simulation time-range and time-step"
   ]
  },
  {
   "cell_type": "code",
   "execution_count": 2,
   "metadata": {},
   "outputs": [],
   "source": [
    "time_step = 5 # years. If the time step (5 years) is changed then some of the equations below will need to be adapted \n",
    "time_range = np.arange(2015,2115,5)"
   ]
  },
  {
   "cell_type": "markdown",
   "metadata": {},
   "source": [
    "#### Function to update the simulation when changing the parameters with the sliders"
   ]
  },
  {
   "cell_type": "code",
   "execution_count": 3,
   "metadata": {},
   "outputs": [],
   "source": [
    "def update_sim(pop_param, prod_grow_rate, ec_grow_rate, temp_CO2_factor, clim_damage_exp):\n",
    "    \n",
    "    model = simple_DICE(pop_param.value, \n",
    "                        prod_grow_rate.value, \n",
    "                        ec_grow_rate.value, \n",
    "                        CO2_temp_factor.value, \n",
    "                        clim_damage_exp.value)\n",
    "    \n",
    "    population, capital, prod, gross_output, sigma, backstop_price, ec_rate, ec_cost_coeff, ec_frac, CO2_emis, CO2_conc, temp, clim_damage_frac = model.simulation()\n",
    "    ec_cost = ec_frac*gross_output\n",
    "    clim_damage = clim_damage_frac*gross_output\n",
    "    rel_clim_damage = (ec_cost+clim_damage)/gross_output *100\n",
    "    \n",
    "    return population, prod, ec_cost, temp, rel_clim_damage"
   ]
  },
  {
   "cell_type": "markdown",
   "metadata": {},
   "source": [
    "#### Function to update the figure when changing the parameters with the sliders"
   ]
  },
  {
   "cell_type": "code",
   "execution_count": 4,
   "metadata": {},
   "outputs": [],
   "source": [
    "def update_figure(change):\n",
    "    with fig.batch_animate(duration=10):\n",
    "        fig.data[2].y = update_sim(pop_param, prod_grow_rate, ec_grow_rate, CO2_temp_factor, clim_damage_exp)[0]\n",
    "        fig.data[1].y = update_sim(pop_param, prod_grow_rate, ec_grow_rate, CO2_temp_factor, clim_damage_exp)[3]\n",
    "        fig.data[0].y = update_sim(pop_param, prod_grow_rate, ec_grow_rate, CO2_temp_factor, clim_damage_exp)[4]"
   ]
  },
  {
   "cell_type": "markdown",
   "metadata": {},
   "source": [
    "## World population\n",
    "Population starts at 7.4 billion people in the year 2015 and grows according to a net growth rate that steadily declines until it reaches 12 billion, at which point the population stabilizes. The declining rate of growth means that as time goes on, the rate of growth decreases, so we approach 12 billion very gradually. "
   ]
  },
  {
   "cell_type": "code",
   "execution_count": 5,
   "metadata": {},
   "outputs": [],
   "source": [
    "# Population slider\n",
    "pop_param = widgets.FloatSlider(min = 0.00,\n",
    "                                 max = 1,\n",
    "                                 value = 0.13, step = 0.01,\n",
    "                                 description = 'Population growth factor',\n",
    "                                 continuous_update=True,\n",
    "                                 style = {'description_width': '175px'} ,layout={'width': '175px'},\n",
    "                                 orientation='vertical')\n",
    "pop_param.observe(update_figure,names = 'value')"
   ]
  },
  {
   "cell_type": "markdown",
   "metadata": {},
   "source": [
    "## Global capital\n",
    "In this model, Global Capital is a reservoir that represents all the goods and services of the global economic system; so this is much more than just money in the bank. This reservoir increases as a function of investments and decreases due to depreciation. Depreciation means that value is lost, and the model assumes a 10% depreciation per year; the 10% value comes from observations of rates of depreciation across the global economy in the past.\n",
    "\n",
    "The savings rate is 18.5% per year (again based on observations). The Gross Output is the total economic output for each year, which depends on the global population, a productivity factor, and Global Capital."
   ]
  },
  {
   "cell_type": "markdown",
   "metadata": {},
   "source": [
    "## Factor of productivity\n",
    "The model assumes that our economic productivity will increase due to technological improvements, but the rate of increase will decrease, just like the rate of population growth.  So the productivity keeps increasing, but it does not accelerate, which would lead to exponential growth in productivity. This decline in the rate of technological advances is once again something that is based on observations from the past."
   ]
  },
  {
   "cell_type": "code",
   "execution_count": 6,
   "metadata": {},
   "outputs": [],
   "source": [
    "# Productivity slider\n",
    "prod_grow_rate = widgets.FloatSlider(min = 0.00,\n",
    "                                 max = 0.2,\n",
    "                                 value = 0.08, step = 0.01,\n",
    "                                 description = 'Productivity growth rate',\n",
    "                                 continuous_update=True,\n",
    "                                 style = {'description_width': '175px'} ,layout={'width': '175px'},\n",
    "                                 orientation='vertical')\n",
    "prod_grow_rate.observe(update_figure,names = 'value')"
   ]
  },
  {
   "cell_type": "markdown",
   "metadata": {},
   "source": [
    "## Gross outputs or Gross production\n",
    "The Gross Output is the total economic output for each year, which depends on the global population, the factor of productivity and global capital."
   ]
  },
  {
   "cell_type": "markdown",
   "metadata": {},
   "source": [
    "## Emissions Control (EC)\n",
    "The Emissions Control is the set of measures aiming to reduce carbon emissions. If we do nothing, its cost is zero, but as we try to do more and more in terms of emissions reductions, the EC costs go up. If we go all out in this department, the EC Costs can rise to be 15% of the Gross Output."
   ]
  },
  {
   "cell_type": "code",
   "execution_count": 7,
   "metadata": {},
   "outputs": [],
   "source": [
    "# Emissions control slider\n",
    "ec_grow_rate = widgets.FloatSlider(min = 0,\n",
    "                                 max = 0.12,\n",
    "                                 value = 0.08, step = 0.01,\n",
    "                                 description = 'Emissions control growth rate',\n",
    "                                 continuous_update=True,\n",
    "                                 style = {'description_width': '175px'} ,layout={'width': '175px'},\n",
    "                                 orientation='vertical')\n",
    "ec_grow_rate.observe(update_figure,names = 'value')"
   ]
  },
  {
   "cell_type": "markdown",
   "metadata": {},
   "source": [
    "## CO2\n",
    "The model calculates the carbon emissions as a function of the Gross Output of the global economy and two adjustable parameters, one of which (sigma) sets the emissions per dollar value of the Gross Output (units are in metric tons of carbon per trillion dollars of Gross Output) and something called the Emissions Control Rate (ECR)."
   ]
  },
  {
   "cell_type": "markdown",
   "metadata": {},
   "source": [
    "Currently, sigma has a value of about 0.118, and the model we will use assumes that this will decrease as time goes on due to improvements in efficiency of our economy — we will use less carbon to generate a dollar’s worth of goods and services in the future, reflecting what has happened in the recent past. The ECR can vary from 0 to 1, with 0 reflecting a policy of doing nothing with respect to reducing emissions, and 1 reflecting a policy where we do the maximum possible. Note that when ECR = 1, then the whole Emissions equation above gives a result of 0 — that is, no human emissions of carbon to the atmosphere from the burning of fossil fuels.  In our model, the ECR is initially set to 0.005, but it can be altered as a graphical function of time to represent different policy scenarios."
   ]
  },
  {
   "cell_type": "markdown",
   "metadata": {},
   "source": [
    "## Global warming\n",
    "The next step concerns the relationship between the accumulation of CO2 in the atmosphere and the global warming (The major part of future warming is projected to come from to CO2)."
   ]
  },
  {
   "cell_type": "code",
   "execution_count": 8,
   "metadata": {},
   "outputs": [],
   "source": [
    "# CO2-Temperature slider\n",
    "CO2_temp_factor = widgets.FloatSlider(min = 0,\n",
    "                                 max = 0.3,\n",
    "                                 value = 0.13, step = 0.01,\n",
    "                                 description = 'CO2-Temperature factor',\n",
    "                                 continuous_update=True,\n",
    "                                 style = {'description_width': '175px'} ,layout={'width': '175px'},\n",
    "                                 orientation='vertical')\n",
    "CO2_temp_factor.observe(update_figure,names = 'value')"
   ]
  },
  {
   "cell_type": "markdown",
   "metadata": {},
   "source": [
    "## Climate damage\n",
    "Climate Damages are the costs associated with rising global temperatures. The way the model is set up, a 2°C increase in Global Temperature results in damages equal to 2.4% of Gross Output, but this rises to 9.6% for a temperature increase of 4°C, and 21.6% of Gross Output for a 6°C increase. This relationship between temperature change and damage involves temperature raised to an exponent that is initially set at 2, but can be adjusted. "
   ]
  },
  {
   "cell_type": "code",
   "execution_count": 9,
   "metadata": {},
   "outputs": [],
   "source": [
    "# Climate damage slider\n",
    "clim_damage_exp = widgets.FloatSlider(min = 0,\n",
    "                                 max = 3,\n",
    "                                 value = 2, step = 0.01,\n",
    "                                 description = 'Climate damage exponent',\n",
    "                                 continuous_update=True,\n",
    "                                 style = {'description_width': '175px'} ,layout={'width': '175px'},\n",
    "                                 orientation='vertical')\n",
    "clim_damage_exp.observe(update_figure,names = 'value')"
   ]
  },
  {
   "cell_type": "markdown",
   "metadata": {},
   "source": [
    "## Relative Climate Costs\n",
    "It will be useful to have a way of comparing the climate costs, which is the sum of the Abatement Costs and the Climate Damages in a relative sense so that we see what the percentage of these costs is relative to the Gross Output of the economy. The model includes this relative measure of the climate costs as follows:\n",
    "\n",
    "        Relative Climate Costs = (Abatement Costs + Climate Damages)/Gross Output * 100"
   ]
  },
  {
   "cell_type": "markdown",
   "metadata": {},
   "source": [
    "## Interactive figure\n",
    "#### Initial simulation"
   ]
  },
  {
   "cell_type": "code",
   "execution_count": 10,
   "metadata": {},
   "outputs": [],
   "source": [
    "population, prod, ec_cost, temp, rel_clim_damage = update_sim(pop_param, \n",
    "                                                          prod_grow_rate, \n",
    "                                                          ec_grow_rate, \n",
    "                                                          CO2_temp_factor, \n",
    "                                                          clim_damage_exp)"
   ]
  },
  {
   "cell_type": "markdown",
   "metadata": {},
   "source": [
    "#### Figure of the results: world population, temperature and climate cost"
   ]
  },
  {
   "cell_type": "code",
   "execution_count": 11,
   "metadata": {},
   "outputs": [],
   "source": [
    "pop_trace  = go.Scatter(x=time_range, y=population, name='population', marker_color = 'blue')\n",
    "temp_trace = go.Scatter(x=time_range, y=temp, name='temp above preindustrial', marker_color = 'red',xaxis = \"x\", yaxis =\"y2\")\n",
    "clim_trace = go.Scatter(x=time_range, y=rel_clim_damage, name='relative climate cost', marker_color = 'brown',xaxis = \"x\", yaxis =\"y3\")\n",
    "\n",
    "layout = go.Layout(height=700,\n",
    "    yaxis  = dict(range = [6000,12000],title = 'millions',domain=[0,0.30]),\n",
    "    yaxis2 = dict(range = [0,10],title = 'degC',domain=[0.35,0.65]),\n",
    "    yaxis3 = dict(range = [0,100],title = '%',domain=[0.7,1]))\n",
    "\n",
    "fig = go.FigureWidget(data = [clim_trace,temp_trace,pop_trace], layout = layout)"
   ]
  },
  {
   "cell_type": "markdown",
   "metadata": {},
   "source": [
    "### Plot the interactive figure"
   ]
  },
  {
   "cell_type": "code",
   "execution_count": 12,
   "metadata": {},
   "outputs": [
    {
     "data": {
      "application/vnd.jupyter.widget-view+json": {
       "model_id": "b69c76ac82194c989672c610d2b67aa2",
       "version_major": 2,
       "version_minor": 0
      },
      "text/plain": [
       "VBox(children=(FigureWidget({\n",
       "    'data': [{'marker': {'color': 'brown'},\n",
       "              'name': 'relative clim…"
      ]
     },
     "metadata": {},
     "output_type": "display_data"
    }
   ],
   "source": [
    "widgets.VBox([fig,widgets.HBox([pop_param,prod_grow_rate,ec_grow_rate,CO2_temp_factor,clim_damage_exp])])\n"
   ]
  },
  {
   "cell_type": "code",
   "execution_count": null,
   "metadata": {},
   "outputs": [],
   "source": []
  }
 ],
 "metadata": {
  "kernelspec": {
   "display_name": "Python 3",
   "language": "python",
   "name": "python3"
  },
  "language_info": {
   "codemirror_mode": {
    "name": "ipython",
    "version": 3
   },
   "file_extension": ".py",
   "mimetype": "text/x-python",
   "name": "python",
   "nbconvert_exporter": "python",
   "pygments_lexer": "ipython3",
   "version": "3.7.4"
  },
  "varInspector": {
   "cols": {
    "lenName": 16,
    "lenType": 16,
    "lenVar": 40
   },
   "kernels_config": {
    "python": {
     "delete_cmd_postfix": "",
     "delete_cmd_prefix": "del ",
     "library": "var_list.py",
     "varRefreshCmd": "print(var_dic_list())"
    },
    "r": {
     "delete_cmd_postfix": ") ",
     "delete_cmd_prefix": "rm(",
     "library": "var_list.r",
     "varRefreshCmd": "cat(var_dic_list()) "
    }
   },
   "types_to_exclude": [
    "module",
    "function",
    "builtin_function_or_method",
    "instance",
    "_Feature"
   ],
   "window_display": false
  }
 },
 "nbformat": 4,
 "nbformat_minor": 4
}
