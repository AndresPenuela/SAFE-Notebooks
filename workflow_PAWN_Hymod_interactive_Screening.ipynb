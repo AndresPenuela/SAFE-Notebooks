{
 "cells": [
  {
   "cell_type": "markdown",
   "metadata": {},
   "source": [
    "# Interactive Jupyter Notebooks for the visual analysis of critical choices in Global Sensitivity Analysis"
   ]
  },
  {
   "cell_type": "markdown",
   "metadata": {},
   "source": [
    "### Valentina Noacco, Andres Peñuela-Fernandez, Francesca Pianosi, Thorsten Wagener \n",
    "### (University of Bristol)\n"
   ]
  },
  {
   "cell_type": "markdown",
   "metadata": {},
   "source": [
    "[![License: MIT](https://img.shields.io/badge/License-MIT-yellow.svg)](https://opensource.org/licenses/MIT)"
   ]
  },
  {
   "cell_type": "markdown",
   "metadata": {},
   "source": [
    "This document provides:\n",
    "* a brief introduction to Global Sensitivity Analysis (GSA);\n",
    "* a workflow to asssess one of the critical choices needed to set up a GSA application. Here we use the SAFE (Sensitivity Analysis For Everybody) toolbox ([References](#References) 1-2).\n",
    "\n",
    "In this example we apply the Regional Sensitivity Analysis GSA method to the rainfall-runoff Hymod model.\n",
    "\n",
    "\n",
    "# PART I: Introduction\n",
    "\n",
    "## What is Global Sensitivity Analysis and why shall we use it?\n",
    "\n",
    "**Global Sensitivity Analysis** is a set of mathematical techniques which investigate how the uncertainty in the model inputs influences the variability of the model outputs ([References](#References) 3-4).\n",
    "\n",
    "The benefits of applying GSA are:\n",
    "\n",
    "* **Better understanding of the model**: Evaluate the model behaviour beyond default set-up\n",
    "    \n",
    "* **“Sanity check” of the model**: Test whether the model \"behaves well\" (model validation)\n",
    "    \n",
    "* **Priorities for uncertainty reduction**: Identify the important inputs on which to focus computationally-intensive calibration, acquisition of new data, etc. \n",
    "    \n",
    "* **More transparent and robust decisions**: Understand how assumptions about uncertain inputs reflect on the modelling outcome and thus on model-informed decisions\n"
   ]
  },
  {
   "cell_type": "markdown",
   "metadata": {},
   "source": [
    "## How Global Sensitivity Analysis works\n",
    "\n",
    "GSA investigates how the uncertainty in the model input factors influences the variability of the model output.\n",
    "\n",
    "An '**input factor**' is any element that can be changed before running the model. In general, input factors could be the model's parameters, forcing input data, but also the very equations implemented in the model or other set-up choices (for instance, the spatial resolution) needed for the model execution on a computer.\n",
    "\n",
    "An '**output**' is any variable that is obtained after the model execution.\n",
    "\n",
    "The main steps to perform GSA are summarised in the figure below.\n",
    "<img src=\"how_GSA_works.png\" width=\"800px\">\n",
    "a. The input factors are sampled from their ranges of variability.\n",
    "\n",
    "b. The model is repeatedly run against each of the input sampled combinations.\n",
    "\n",
    "c. The output samples so obtained can be used to characterise the output uncertainty, for instance through a probability distribution or scatter plots.\n",
    "\n",
    "d. GSA is applied to the input and output samples in order to obtain a set of sensitivity indices. The sensitivity indices measure the relative influence of each input factor on the uncertainty of the output ([References](#References) 4,5)."
   ]
  },
  {
   "cell_type": "markdown",
   "metadata": {},
   "source": [
    "# PART II: Workflow application\n",
    "### Step 1: Import python modules"
   ]
  },
  {
   "cell_type": "code",
   "execution_count": 1,
   "metadata": {
    "scrolled": true
   },
   "outputs": [],
   "source": [
    "from __future__ import division, absolute_import, print_function\n",
    "\n",
    "import numpy as np\n",
    "import pandas as pd\n",
    "import matplotlib as mpl\n",
    "import matplotlib.pyplot as plt\n",
    "import scipy.stats as st\n",
    "import plotly.express as px\n",
    "from plotly.subplots import make_subplots\n",
    "import plotly.graph_objects as go\n",
    "from ipywidgets import widgets\n",
    "\n",
    "# Import SAFE modules:\n",
    "#import os\n",
    "#mydir = \"C:/Users/valen/OneDrive - University of Bristol/proj_SAFEVAL/SAFEPy/SAFEpython_v0.0.0\"\n",
    "#os.chdir(mydir + \"/SAFEpython\")\n",
    "\n",
    "import SAFEpython.PAWN as PAWN # module to perform PAWN\n",
    "import SAFEpython.plot_functions as pf # module to visualize the results\n",
    "from SAFEpython.model_execution import model_execution # module to execute the model\n",
    "from SAFEpython.sampling import AAT_sampling, AAT_sampling_extend # module to perform the input sampling\n",
    "from SAFEpython.util import aggregate_boot  # function to aggregate the bootstrap results\n",
    "from SAFEpython import HyMod\n"
   ]
  },
  {
   "cell_type": "markdown",
   "metadata": {},
   "source": [
    "### Test model: Rainfall-runoff Hymod model"
   ]
  },
  {
   "cell_type": "markdown",
   "metadata": {},
   "source": [
    "Before applying GSA, let's have a brief overview of the HyMod model, which it is a parsimonious rainfall-runoff model based on the theory of runoff yeild under infiltration excess. \n",
    "\n",
    "Hymod (Boyle 2001; Wagener et al. 2001) is composed of a soil moisture accounting routine, and a flow routing routine, which in its turn is composed of a fast and a slow routing pathway.\n",
    "\n",
    "The model structure is illustrated in the figure below."
   ]
  },
  {
   "cell_type": "markdown",
   "metadata": {},
   "source": [
    "<left><img src=\"Hymod_scheme.png\" width=\"700px\">\n"
   ]
  },
  {
   "cell_type": "markdown",
   "metadata": {},
   "source": [
    "### The following steps will be performed below:"
   ]
  },
  {
   "cell_type": "markdown",
   "metadata": {},
   "source": [
    "### Step 2: Setup the model\n",
    "\n",
    "Define: \n",
    "- the input factors whose influence is to be analysed with GSA, \n",
    "- their range of variability (choice made by expert judgement, available data or previous studies),\n",
    "- choice of their distributions."
   ]
  },
  {
   "cell_type": "code",
   "execution_count": 2,
   "metadata": {},
   "outputs": [],
   "source": [
    "M = 5 # number of input factors\n",
    "N = 2000 # number of samples\n",
    "distr_par  = [np.nan] * M\n",
    "col_names  = [\"$S_M$\" , \"$beta$\" , \"$alpha$\", \"$R_s$\", \"$R_F$\"] # input factors of interest\n",
    "distr_fun  = st.uniform # uniform distribution\n",
    "samp_strat = 'lhs' # Latin Hypercube\n",
    "fun_test   = HyMod.hymod_nse"
   ]
  },
  {
   "cell_type": "code",
   "execution_count": 3,
   "metadata": {},
   "outputs": [
    {
     "data": {
      "text/html": [
       "<div>\n",
       "<style scoped>\n",
       "    .dataframe tbody tr th:only-of-type {\n",
       "        vertical-align: middle;\n",
       "    }\n",
       "\n",
       "    .dataframe tbody tr th {\n",
       "        vertical-align: top;\n",
       "    }\n",
       "\n",
       "    .dataframe thead th {\n",
       "        text-align: right;\n",
       "    }\n",
       "</style>\n",
       "<table border=\"1\" class=\"dataframe\">\n",
       "  <thead>\n",
       "    <tr style=\"text-align: right;\">\n",
       "      <th></th>\n",
       "      <th>Unit</th>\n",
       "      <th>Min value</th>\n",
       "      <th>Max value</th>\n",
       "      <th>Description</th>\n",
       "    </tr>\n",
       "  </thead>\n",
       "  <tbody>\n",
       "    <tr>\n",
       "      <td>$S_M$</td>\n",
       "      <td>mm</td>\n",
       "      <td>1.0</td>\n",
       "      <td>400.0</td>\n",
       "      <td>Maximum storage capacity</td>\n",
       "    </tr>\n",
       "    <tr>\n",
       "      <td>$beta$</td>\n",
       "      <td>-</td>\n",
       "      <td>0.0</td>\n",
       "      <td>2.0</td>\n",
       "      <td>Degree of spatial variability of the $S_M$</td>\n",
       "    </tr>\n",
       "    <tr>\n",
       "      <td>$alpha$</td>\n",
       "      <td>-</td>\n",
       "      <td>0.0</td>\n",
       "      <td>1.0</td>\n",
       "      <td>Factor distributing slow and quick flows</td>\n",
       "    </tr>\n",
       "    <tr>\n",
       "      <td>$R_s$</td>\n",
       "      <td>-</td>\n",
       "      <td>0.0</td>\n",
       "      <td>0.1</td>\n",
       "      <td>Fractional discharge of the slow release reser...</td>\n",
       "    </tr>\n",
       "    <tr>\n",
       "      <td>$R_F$</td>\n",
       "      <td>-</td>\n",
       "      <td>0.1</td>\n",
       "      <td>1.0</td>\n",
       "      <td>Fractional discharge of the quick release rese...</td>\n",
       "    </tr>\n",
       "  </tbody>\n",
       "</table>\n",
       "</div>"
      ],
      "text/plain": [
       "        Unit  Min value  Max value  \\\n",
       "$S_M$     mm        1.0      400.0   \n",
       "$beta$     -        0.0        2.0   \n",
       "$alpha$    -        0.0        1.0   \n",
       "$R_s$      -        0.0        0.1   \n",
       "$R_F$      -        0.1        1.0   \n",
       "\n",
       "                                               Description  \n",
       "$S_M$                             Maximum storage capacity  \n",
       "$beta$          Degree of spatial variability of the $S_M$  \n",
       "$alpha$           Factor distributing slow and quick flows  \n",
       "$R_s$    Fractional discharge of the slow release reser...  \n",
       "$R_F$    Fractional discharge of the quick release rese...  "
      ]
     },
     "execution_count": 3,
     "metadata": {},
     "output_type": "execute_result"
    }
   ],
   "source": [
    "# range of variability\n",
    "data = [[\"mm\", 1,   400, \"Maximum storage capacity\"],\n",
    "        [\"-\",  0,   2,   \"Degree of spatial variability of the $S_M$\"],\n",
    "        [\"-\",  0,   1,   \"Factor distributing slow and quick flows\"],\n",
    "        [\"-\",  0,   0.1, \"Fractional discharge of the slow release reservoir\"],\n",
    "        [\"-\",  0.1, 1,   \"Fractional discharge of the quick release reservoirs\"]]\n",
    "model_inputs = pd.DataFrame(data, \n",
    "                           columns=[\"Unit\", \"Min value\", \"Max value\", \"Description\"],\n",
    "                           index = col_names)\n",
    "model_inputs"
   ]
  },
  {
   "cell_type": "code",
   "execution_count": 4,
   "metadata": {},
   "outputs": [],
   "source": [
    "# Load data:\n",
    "data = pd.read_csv('hist_clim_data.csv')\n",
    "rain = np.array(data['Rain'])[0:365] # 1-year simulation\n",
    "evap = np.array(data['PET'])[0:365]\n",
    "flow = np.array(data['Rain'])[0:365]*10\n",
    "warmup = 30 # Model warmup period (days)"
   ]
  },
  {
   "cell_type": "code",
   "execution_count": 5,
   "metadata": {},
   "outputs": [],
   "source": [
    "class setup_model:\n",
    "    def __init__(self, x1, x2, x3, x4, x5):\n",
    "        # The shape parameters of the uniform distribution are the lower limit and \n",
    "        # the difference between lower and upper limits:\n",
    "        self.xmin = [x1.value[0], x2.value[0], x3.value[0], x4.value[0], x5.value[0]]\n",
    "        self.xmax = [x1.value[1], x2.value[1], x3.value[1], x4.value[1], x5.value[1]]\n",
    "        for i in range(M):\n",
    "            distr_par[i] = [self.xmin[i], self.xmax[i] - self.xmin[i]]\n",
    "        self.distr_par = distr_par"
   ]
  },
  {
   "cell_type": "markdown",
   "metadata": {},
   "source": [
    "### Step 3: Sample inputs space"
   ]
  },
  {
   "cell_type": "markdown",
   "metadata": {},
   "source": [
    "The number of model runs (N) typically increases proportionally to the number of input factors ($M$) and will depend on the GSA methods chosen as well. "
   ]
  },
  {
   "cell_type": "code",
   "execution_count": 6,
   "metadata": {},
   "outputs": [],
   "source": [
    "class sample_input:\n",
    "    def __init__(self,distr_par):\n",
    "        self.X = AAT_sampling(samp_strat, M, distr_fun, distr_par, N)"
   ]
  },
  {
   "cell_type": "markdown",
   "metadata": {},
   "source": [
    "### Step 4: Run the model"
   ]
  },
  {
   "cell_type": "markdown",
   "metadata": {},
   "source": [
    "For each sampled input factors combination, we run the model and save the associated model output."
   ]
  },
  {
   "cell_type": "code",
   "execution_count": 7,
   "metadata": {},
   "outputs": [],
   "source": [
    "class run_model:\n",
    "    def __init__(self,X):\n",
    "        self.Y = model_execution(fun_test, X, rain, evap, flow, warmup)"
   ]
  },
  {
   "cell_type": "markdown",
   "metadata": {},
   "source": [
    "### Step 6: Check model behaviour by visualising input/output samples"
   ]
  },
  {
   "cell_type": "markdown",
   "metadata": {},
   "source": [
    "Scatterplots are plotted to visualise the behaviour of the output over each input factor in turn."
   ]
  },
  {
   "cell_type": "markdown",
   "metadata": {},
   "source": [
    "Definition of interactivity"
   ]
  },
  {
   "cell_type": "code",
   "execution_count": 8,
   "metadata": {},
   "outputs": [],
   "source": [
    "def update_figures(change):\n",
    "    with fig1.batch_update():\n",
    "        distr_par = setup_model(x1, x2, x3, x4, x5).distr_par\n",
    "        X = sample_input(distr_par).X\n",
    "        Y = run_model(X).Y\n",
    "        KS_median, _, _, KS_dummy = PAWN.pawn_indices(X, Y, n, dummy = True)\n",
    "\n",
    "        for i in range(M):\n",
    "            fig1.data[i].y = [KS_median[i]]\n",
    "        fig1.data[i+1].y = KS_dummy"
   ]
  },
  {
   "cell_type": "markdown",
   "metadata": {},
   "source": [
    "Definition of the sliders"
   ]
  },
  {
   "cell_type": "code",
   "execution_count": 16,
   "metadata": {},
   "outputs": [],
   "source": [
    "x1 = widgets.FloatRangeSlider(value = [50, 150], min = 0, max = 200, step = 1, description = model_inputs.index[0], \n",
    "                              readout_format = '.1f', continuous_update=False)\n",
    "x1.observe(update_figures,names = 'value')\n",
    "\n",
    "x2 = widgets.FloatRangeSlider(value = [0.5, 1.5], min = 0, max = 2, step = 0.1, description = model_inputs.index[1], \n",
    "                              readout_format = '.1f', continuous_update=False)\n",
    "x2.observe(update_figures,names = 'value')\n",
    "\n",
    "x3 = widgets.FloatRangeSlider(value = [0.2, 0.8], min = 0, max = 1, step = 0.1, description = model_inputs.index[2], \n",
    "                              readout_format = '.1f', continuous_update=False)\n",
    "x3.observe(update_figures,names = 'value')\n",
    "\n",
    "x4 = widgets.FloatRangeSlider(value = [0.02, 0.08], min = 0, max = 0.1, step = 0.01, description = model_inputs.index[3], \n",
    "                              readout_format = '.1f', continuous_update=False)\n",
    "x4.observe(update_figures,names = 'value')\n",
    "\n",
    "x5 = widgets.FloatRangeSlider(value = [0.2, 0.8], min = 0, max = 1, step = 0.1, description = model_inputs.index[4], \n",
    "                              readout_format = '.1f', continuous_update=False)\n",
    "x5.observe(update_figures,names = 'value')\n",
    "\n",
    "Nboot = widgets.IntSlider(value = 2, min = 2, max = 200, step = 1, description = \"Nboot\", \n",
    "                              continuous_update=False)\n",
    "Nboot.observe(update_figures,names = 'value')"
   ]
  },
  {
   "cell_type": "code",
   "execution_count": 17,
   "metadata": {},
   "outputs": [],
   "source": [
    "n=10\n",
    "distr_par = setup_model(x1, x2, x3, x4, x5).distr_par\n",
    "X = sample_input(distr_par).X\n",
    "Y = run_model(X).Y\n",
    "KS_median, _, _, KS_dummy = PAWN.pawn_indices(X, Y, n, dummy = True)"
   ]
  },
  {
   "cell_type": "markdown",
   "metadata": {},
   "source": [
    "### Step 7: Plot sensitivity indices"
   ]
  },
  {
   "cell_type": "markdown",
   "metadata": {},
   "source": [
    "The sensitivity indices for the RSA method are the maximum vertical distances over each pair of CDF.\n",
    "\n",
    "Definition of the figure"
   ]
  },
  {
   "cell_type": "code",
   "execution_count": 18,
   "metadata": {},
   "outputs": [],
   "source": [
    "fig1 = go.FigureWidget(layout = dict(width=700, height=500,showlegend = False))\n",
    "for i in range(M):\n",
    "    fig1.add_trace(go.Box(y=[KS_median[i]], name = model_inputs.index[i]))\n",
    "\n",
    "fig1.add_trace(go.Box(y=KS_dummy, name = 'dummy'))\n",
    "fig1.layout.yaxis.range=[0,1]"
   ]
  },
  {
   "cell_type": "markdown",
   "metadata": {},
   "source": [
    "#### Plot the interactive figures + sliders"
   ]
  },
  {
   "cell_type": "code",
   "execution_count": 19,
   "metadata": {},
   "outputs": [
    {
     "data": {
      "application/vnd.jupyter.widget-view+json": {
       "model_id": "f3fc60ef259c4e81801f163d767a4102",
       "version_major": 2,
       "version_minor": 0
      },
      "text/plain": [
       "VBox(children=(VBox(children=(VBox(children=(FloatRangeSlider(value=(50.0, 150.0), continuous_update=False, de…"
      ]
     },
     "metadata": {},
     "output_type": "display_data"
    }
   ],
   "source": [
    "widgets.VBox([widgets.VBox([widgets.VBox([x1,x2,x3,x4,x5]),fig1])])"
   ]
  },
  {
   "cell_type": "markdown",
   "metadata": {},
   "source": [
    "### <a id=\"References\"></a>References\n",
    "\n",
    "\n",
    "RSA is based on the function created as part of the SAFE Toolbox by F. Pianosi, F. Sarrazin and T. Wagener at Bristol University (2015). Please refer to the `Licence` file in the SAFE toolbox. \n",
    "\n",
    "1) [SAFE Toolbox Website](https://www.safetoolbox.info/)\t\n",
    "\n",
    "2) [Introductory paper to SAFE - Pianosi et al. (2015)](https://www.sciencedirect.com/science/article/pii/S1364815215001188)\n",
    "\n",
    "3) [A review of available methods and workflows for Sensitivity Analysis - Pianosi et al. (2016)](https://www.sciencedirect.com/science/article/pii/S1364815216300287)\n",
    "\n",
    "4) [What has Global Sensitivity Analysis ever done for us? A systematic review to support scientific advancement and to inform policy-making in earth system modelling - Wagener and Pianosi (2019)](https://www.sciencedirect.com/science/article/pii/S0012825218300990)\n",
    "\n",
    "5) [Practical guide through the critical choices needed for Global Sensitivity Analysis - Noacco et al. (2019)](https://www.sciencedirect.com/science/article/pii/S2215016119302572?via%3Dihub)"
   ]
  },
  {
   "cell_type": "code",
   "execution_count": null,
   "metadata": {},
   "outputs": [],
   "source": []
  }
 ],
 "metadata": {
  "kernelspec": {
   "display_name": "Python 3",
   "language": "python",
   "name": "python3"
  },
  "language_info": {
   "codemirror_mode": {
    "name": "ipython",
    "version": 3
   },
   "file_extension": ".py",
   "mimetype": "text/x-python",
   "name": "python",
   "nbconvert_exporter": "python",
   "pygments_lexer": "ipython3",
   "version": "3.7.4"
  },
  "varInspector": {
   "cols": {
    "lenName": 16,
    "lenType": 16,
    "lenVar": 40
   },
   "kernels_config": {
    "python": {
     "delete_cmd_postfix": "",
     "delete_cmd_prefix": "del ",
     "library": "var_list.py",
     "varRefreshCmd": "print(var_dic_list())"
    },
    "r": {
     "delete_cmd_postfix": ") ",
     "delete_cmd_prefix": "rm(",
     "library": "var_list.r",
     "varRefreshCmd": "cat(var_dic_list()) "
    }
   },
   "types_to_exclude": [
    "module",
    "function",
    "builtin_function_or_method",
    "instance",
    "_Feature"
   ],
   "window_display": false
  }
 },
 "nbformat": 4,
 "nbformat_minor": 2
}
